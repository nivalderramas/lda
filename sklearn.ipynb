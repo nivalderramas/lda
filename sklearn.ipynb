{
 "cells": [
  {
   "cell_type": "markdown",
   "metadata": {},
   "source": [
    "# `pyLDAvis.sklearn`\n",
    "\n",
    "pyLDAvis now also supports LDA application from scikit-learn. Let's take a look into this in more detail. We will be using the 20 newsgroups dataset as provided by scikit-learn."
   ]
  },
  {
   "cell_type": "code",
   "execution_count": 1,
   "metadata": {},
   "outputs": [],
   "source": [
    "from __future__ import print_function"
   ]
  },
  {
   "cell_type": "code",
   "execution_count": 2,
   "metadata": {
    "scrolled": true
   },
   "outputs": [
    {
     "name": "stderr",
     "output_type": "stream",
     "text": [
      "/home/nivalderramas/dev/horus/lda/venv/lib/python3.10/site-packages/past/builtins/misc.py:45: DeprecationWarning: the imp module is deprecated in favour of importlib and slated for removal in Python 3.12; see the module's documentation for alternative uses\n",
      "  from imp import reload\n"
     ]
    }
   ],
   "source": [
    "import pyLDAvis\n",
    "import pyLDAvis.sklearn\n",
    "pyLDAvis.enable_notebook()"
   ]
  },
  {
   "cell_type": "code",
   "execution_count": 4,
   "metadata": {
    "collapsed": true
   },
   "outputs": [],
   "source": [
    "from sklearn.datasets import fetch_20newsgroups\n",
    "from sklearn.feature_extraction.text import CountVectorizer, TfidfVectorizer\n",
    "from sklearn.decomposition import LatentDirichletAllocation"
   ]
  },
  {
   "cell_type": "markdown",
   "metadata": {},
   "source": [
    "## Load 20 newsgroups dataset\n",
    "\n",
    "First, the 20 newsgroups dataset available in sklearn is loaded. As always, the headers, footers and quotes are removed."
   ]
  },
  {
   "cell_type": "code",
   "execution_count": 5,
   "metadata": {},
   "outputs": [
    {
     "name": "stdout",
     "output_type": "stream",
     "text": [
      "11314\n"
     ]
    }
   ],
   "source": [
    "newsgroups = fetch_20newsgroups(remove=('headers', 'footers', 'quotes'))\n",
    "docs_raw = newsgroups.data\n",
    "print(len(docs_raw))"
   ]
  },
  {
   "cell_type": "markdown",
   "metadata": {},
   "source": [
    "## Convert to document-term matrix\n",
    "\n",
    "Next, the raw documents are converted into document-term matrix, possibly as raw counts or in TF-IDF form."
   ]
  },
  {
   "cell_type": "code",
   "execution_count": 6,
   "metadata": {},
   "outputs": [
    {
     "name": "stdout",
     "output_type": "stream",
     "text": [
      "(11314, 9144)\n"
     ]
    }
   ],
   "source": [
    "tf_vectorizer = CountVectorizer(strip_accents = 'unicode',\n",
    "                                stop_words = 'english',\n",
    "                                lowercase = True,\n",
    "                                token_pattern = r'\\b[a-zA-Z]{3,}\\b',\n",
    "                                max_df = 0.5, \n",
    "                                min_df = 10)\n",
    "dtm_tf = tf_vectorizer.fit_transform(docs_raw)\n",
    "print(dtm_tf.shape)"
   ]
  },
  {
   "cell_type": "code",
   "execution_count": 7,
   "metadata": {},
   "outputs": [
    {
     "name": "stderr",
     "output_type": "stream",
     "text": [
      "/home/nivalderramas/dev/horus/lda/venv/lib/python3.10/site-packages/sklearn/feature_extraction/text.py:2060: UserWarning: Only (<class 'numpy.float64'>, <class 'numpy.float32'>, <class 'numpy.float16'>) 'dtype' should be used. <class 'numpy.int64'> 'dtype' will be converted to np.float64.\n",
      "  warnings.warn(\n"
     ]
    },
    {
     "name": "stdout",
     "output_type": "stream",
     "text": [
      "(11314, 9144)\n"
     ]
    }
   ],
   "source": [
    "tfidf_vectorizer = TfidfVectorizer(**tf_vectorizer.get_params())\n",
    "dtm_tfidf = tfidf_vectorizer.fit_transform(docs_raw)\n",
    "print(dtm_tfidf.shape)"
   ]
  },
  {
   "cell_type": "markdown",
   "metadata": {},
   "source": [
    "## Fit Latent Dirichlet Allocation models\n",
    "\n",
    "Finally, the LDA models are fitted."
   ]
  },
  {
   "cell_type": "code",
   "execution_count": 8,
   "metadata": {},
   "outputs": [
    {
     "data": {
      "text/html": [
       "<style>#sk-container-id-1 {color: black;background-color: white;}#sk-container-id-1 pre{padding: 0;}#sk-container-id-1 div.sk-toggleable {background-color: white;}#sk-container-id-1 label.sk-toggleable__label {cursor: pointer;display: block;width: 100%;margin-bottom: 0;padding: 0.3em;box-sizing: border-box;text-align: center;}#sk-container-id-1 label.sk-toggleable__label-arrow:before {content: \"▸\";float: left;margin-right: 0.25em;color: #696969;}#sk-container-id-1 label.sk-toggleable__label-arrow:hover:before {color: black;}#sk-container-id-1 div.sk-estimator:hover label.sk-toggleable__label-arrow:before {color: black;}#sk-container-id-1 div.sk-toggleable__content {max-height: 0;max-width: 0;overflow: hidden;text-align: left;background-color: #f0f8ff;}#sk-container-id-1 div.sk-toggleable__content pre {margin: 0.2em;color: black;border-radius: 0.25em;background-color: #f0f8ff;}#sk-container-id-1 input.sk-toggleable__control:checked~div.sk-toggleable__content {max-height: 200px;max-width: 100%;overflow: auto;}#sk-container-id-1 input.sk-toggleable__control:checked~label.sk-toggleable__label-arrow:before {content: \"▾\";}#sk-container-id-1 div.sk-estimator input.sk-toggleable__control:checked~label.sk-toggleable__label {background-color: #d4ebff;}#sk-container-id-1 div.sk-label input.sk-toggleable__control:checked~label.sk-toggleable__label {background-color: #d4ebff;}#sk-container-id-1 input.sk-hidden--visually {border: 0;clip: rect(1px 1px 1px 1px);clip: rect(1px, 1px, 1px, 1px);height: 1px;margin: -1px;overflow: hidden;padding: 0;position: absolute;width: 1px;}#sk-container-id-1 div.sk-estimator {font-family: monospace;background-color: #f0f8ff;border: 1px dotted black;border-radius: 0.25em;box-sizing: border-box;margin-bottom: 0.5em;}#sk-container-id-1 div.sk-estimator:hover {background-color: #d4ebff;}#sk-container-id-1 div.sk-parallel-item::after {content: \"\";width: 100%;border-bottom: 1px solid gray;flex-grow: 1;}#sk-container-id-1 div.sk-label:hover label.sk-toggleable__label {background-color: #d4ebff;}#sk-container-id-1 div.sk-serial::before {content: \"\";position: absolute;border-left: 1px solid gray;box-sizing: border-box;top: 0;bottom: 0;left: 50%;z-index: 0;}#sk-container-id-1 div.sk-serial {display: flex;flex-direction: column;align-items: center;background-color: white;padding-right: 0.2em;padding-left: 0.2em;position: relative;}#sk-container-id-1 div.sk-item {position: relative;z-index: 1;}#sk-container-id-1 div.sk-parallel {display: flex;align-items: stretch;justify-content: center;background-color: white;position: relative;}#sk-container-id-1 div.sk-item::before, #sk-container-id-1 div.sk-parallel-item::before {content: \"\";position: absolute;border-left: 1px solid gray;box-sizing: border-box;top: 0;bottom: 0;left: 50%;z-index: -1;}#sk-container-id-1 div.sk-parallel-item {display: flex;flex-direction: column;z-index: 1;position: relative;background-color: white;}#sk-container-id-1 div.sk-parallel-item:first-child::after {align-self: flex-end;width: 50%;}#sk-container-id-1 div.sk-parallel-item:last-child::after {align-self: flex-start;width: 50%;}#sk-container-id-1 div.sk-parallel-item:only-child::after {width: 0;}#sk-container-id-1 div.sk-dashed-wrapped {border: 1px dashed gray;margin: 0 0.4em 0.5em 0.4em;box-sizing: border-box;padding-bottom: 0.4em;background-color: white;}#sk-container-id-1 div.sk-label label {font-family: monospace;font-weight: bold;display: inline-block;line-height: 1.2em;}#sk-container-id-1 div.sk-label-container {text-align: center;}#sk-container-id-1 div.sk-container {/* jupyter's `normalize.less` sets `[hidden] { display: none; }` but bootstrap.min.css set `[hidden] { display: none !important; }` so we also need the `!important` here to be able to override the default hidden behavior on the sphinx rendered scikit-learn.org. See: https://github.com/scikit-learn/scikit-learn/issues/21755 */display: inline-block !important;position: relative;}#sk-container-id-1 div.sk-text-repr-fallback {display: none;}</style><div id=\"sk-container-id-1\" class=\"sk-top-container\"><div class=\"sk-text-repr-fallback\"><pre>LatentDirichletAllocation(n_components=20, random_state=0)</pre><b>In a Jupyter environment, please rerun this cell to show the HTML representation or trust the notebook. <br />On GitHub, the HTML representation is unable to render, please try loading this page with nbviewer.org.</b></div><div class=\"sk-container\" hidden><div class=\"sk-item\"><div class=\"sk-estimator sk-toggleable\"><input class=\"sk-toggleable__control sk-hidden--visually\" id=\"sk-estimator-id-1\" type=\"checkbox\" checked><label for=\"sk-estimator-id-1\" class=\"sk-toggleable__label sk-toggleable__label-arrow\">LatentDirichletAllocation</label><div class=\"sk-toggleable__content\"><pre>LatentDirichletAllocation(n_components=20, random_state=0)</pre></div></div></div></div></div>"
      ],
      "text/plain": [
       "LatentDirichletAllocation(n_components=20, random_state=0)"
      ]
     },
     "execution_count": 8,
     "metadata": {},
     "output_type": "execute_result"
    }
   ],
   "source": [
    "# for TF DTM\n",
    "lda_tf = LatentDirichletAllocation(n_components=20, random_state=0)\n",
    "lda_tf.fit(dtm_tf)\n",
    "# for TFIDF DTM\n",
    "lda_tfidf = LatentDirichletAllocation(n_components=20, random_state=0)\n",
    "lda_tfidf.fit(dtm_tfidf)"
   ]
  },
  {
   "cell_type": "markdown",
   "metadata": {},
   "source": [
    "## Visualizing the models with pyLDAvis"
   ]
  },
  {
   "cell_type": "code",
   "execution_count": 14,
   "metadata": {
    "scrolled": false
   },
   "outputs": [
    {
     "name": "stdout",
     "output_type": "stream",
     "text": [
      "daksljdaskdjaskjdaksjdaksdjaskdjdaksljdaskdjaskjdaksjdaksdjaskdjdaksljdaskdjaskjdaksjdaksdjaskdjdaksljdaskdjaskjdaksjdaksdjaskdjdaksljdaskdjaskjdaksjdaksdjaskdjdaksljdaskdjaskjdaksjdaksdjaskdjdaksljdaskdjaskjdaksjdaksdjaskdjdaksljdaskdjaskjdaksjdaksdjaskdjdaksljdaskdjaskjdaksjdaksdjaskdjdaksljdaskdjaskjdaksjdaksdjaskdjdaksljdaskdjaskjdaksjdaksdjaskdjdaksljdaskdjaskjdaksjdaksdjaskdjdaksljdaskdjaskjdaksjdaksdjaskdjdaksljdaskdjaskjdaksjdaksdjaskdjdaksljdaskdjaskjdaksjdaksdjaskdjdaksljdaskdjaskjdaksjdaksdjaskdjdaksljdaskdjaskjdaksjdaksdjaskdjdaksljdaskdjaskjdaksjdaksdjaskdjdaksljdaskdjaskjdaksjdaksdjaskdjdaksljdaskdjaskjdaksjdaksdjaskdjdaksljdaskdjaskjdaksjdaksdjaskdjdaksljdaskdjaskjdaksjdaksdjaskdjdaksljdaskdjaskjdaksjdaksdjaskdjdaksljdaskdjaskjdaksjdaksdjaskdjdaksljdaskdjaskjdaksjdaksdjaskdjdaksljdaskdjaskjdaksjdaksdjaskdjdaksljdaskdjaskjdaksjdaksdjaskdjdaksljdaskdjaskjdaksjdaksdjaskdjdaksljdaskdjaskjdaksjdaksdjaskdjdaksljdaskdjaskjdaksjdaksdjaskdjdaksljdaskdjaskjdaksjdaksdjaskdjdaksljdaskdjaskjdaksjdaksdjaskdjdaksljdaskdjaskjdaksjdaksdjaskdjdaksljdaskdjaskjdaksjdaksdjaskdjdaksljdaskdjaskjdaksjdaksdjaskdjdaksljdaskdjaskjdaksjdaksdjaskdjdaksljdaskdjaskjdaksjdaksdjaskdjdaksljdaskdjaskjdaksjdaksdjaskdjdaksljdaskdjaskjdaksjdaksdjaskdjdaksljdaskdjaskjdaksjdaksdjaskdjdaksljdaskdjaskjdaksjdaksdjaskdjdaksljdaskdjaskjdaksjdaksdjaskdjdaksljdaskdjaskjdaksjdaksdjaskdjdaksljdaskdjaskjdaksjdaksdjaskdjdaksljdaskdjaskjdaksjdaksdjaskdjdaksljdaskdjaskjdaksjdaksdjaskdjdaksljdaskdjaskjdaksjdaksdjaskdjdaksljdaskdjaskjdaksjdaksdjaskdjdaksljdaskdjaskjdaksjdaksdjaskdjdaksljdaskdjaskjdaksjdaksdjaskdjdaksljdaskdjaskjdaksjdaksdjaskdjdaksljdaskdjaskjdaksjdaksdjaskdjdaksljdaskdjaskjdaksjdaksdjaskdjdaksljdaskdjaskjdaksjdaksdjaskdjdaksljdaskdjaskjdaksjdaksdjaskdjdaksljdaskdjaskjdaksjdaksdjaskdjdaksljdaskdjaskjdaksjdaksdjaskdjdaksljdaskdjaskjdaksjdaksdjaskdjdaksljdaskdjaskjdaksjdaksdjaskdjdaksljdaskdjaskjdaksjdaksdjaskdjdaksljdaskdjaskjdaksjdaksdjaskdjdaksljdaskdjaskjdaksjdaksdjaskdjdaksljdaskdjaskjdaksjdaksdjaskdjdaksljdaskdjaskjdaksjdaksdjaskdjdaksljdaskdjaskjdaksjdaksdjaskdjdaksljdaskdjaskjdaksjdaksdjaskdjdaksljdaskdjaskjdaksjdaksdjaskdjdaksljdaskdjaskjdaksjdaksdjaskdjdaksljdaskdjaskjdaksjdaksdjaskdjdaksljdaskdjaskjdaksjdaksdjaskdjdaksljdaskdjaskjdaksjdaksdjaskdjdaksljdaskdjaskjdaksjdaksdjaskdjdaksljdaskdjaskjdaksjdaksdjaskdjdaksljdaskdjaskjdaksjdaksdjaskdjdaksljdaskdjaskjdaksjdaksdjaskdjdaksljdaskdjaskjdaksjdaksdjaskdjdaksljdaskdjaskjdaksjdaksdjaskdjdaksljdaskdjaskjdaksjdaksdjaskdjdaksljdaskdjaskjdaksjdaksdjaskdjdaksljdaskdjaskjdaksjdaksdjaskdjdaksljdaskdjaskjdaksjdaksdjaskdjdaksljdaskdjaskjdaksjdaksdjaskdjdaksljdaskdjaskjdaksjdaksdjaskdjdaksljdaskdjaskjdaksjdaksdjaskdjdaksljdaskdjaskjdaksjdaksdjaskdjdaksljdaskdjaskjdaksjdaksdjaskdjdaksljdaskdjaskjdaksjdaksdjaskdjdaksljdaskdjaskjdaksjdaksdjaskdjdaksljdaskdjaskjdaksjdaksdjaskdjdaksljdaskdjaskjdaksjdaksdjaskdjdaksljdaskdjaskjdaksjdaksdjaskdjdaksljdaskdjaskjdaksjdaksdjaskdjdaksljdaskdjaskjdaksjdaksdjaskdjdaksljdaskdjaskjdaksjdaksdjaskdjdaksljdaskdjaskjdaksjdaksdjaskdjdaksljdaskdjaskjdaksjdaksdjaskdjdaksljdaskdjaskjdaksjdaksdjaskdjdaksljdaskdjaskjdaksjdaksdjaskdjdaksljdaskdjaskjdaksjdaksdjaskdjdaksljdaskdjaskjdaksjdaksdjaskdj\n"
     ]
    },
    {
     "name": "stderr",
     "output_type": "stream",
     "text": [
      "/home/nivalderramas/dev/horus/lda/venv/lib/python3.10/site-packages/pyLDAvis/_prepare.py:247: FutureWarning: In a future version of pandas all arguments of DataFrame.drop except for the argument 'labels' will be keyword-only.\n",
      "  by='saliency', ascending=False).head(R).drop('saliency', 1)\n"
     ]
    },
    {
     "name": "stdout",
     "output_type": "stream",
     "text": [
      "PreparedData(topic_coordinates=              x         y  topics  cluster       Freq\n",
      "topic                                                \n",
      "6      0.080525  0.084967       1        1  10.698914\n",
      "14     0.196207  0.062185       2        1  10.077951\n",
      "0     -0.102869 -0.170439       3        1   9.104501\n",
      "18     0.054788 -0.103025       4        1   7.036540\n",
      "13     0.125707  0.045466       5        1   6.281324\n",
      "8     -0.128318 -0.186213       6        1   5.411451\n",
      "19    -0.012272 -0.152626       7        1   5.387479\n",
      "12     0.094636  0.071910       8        1   5.377476\n",
      "9     -0.124044  0.010609       9        1   4.547461\n",
      "7     -0.030445 -0.011852      10        1   4.498512\n",
      "5      0.142672  0.071664      11        1   4.342297\n",
      "1     -0.061581 -0.055212      12        1   4.146615\n",
      "15     0.069750 -0.060217      13        1   4.078443\n",
      "2      0.110436 -0.003365      14        1   3.673889\n",
      "11    -0.138638 -0.110874      15        1   3.391038\n",
      "3     -0.176262 -0.024068      16        1   3.240042\n",
      "17     0.115595  0.110588      17        1   2.977799\n",
      "4      0.038802  0.044731      18        1   2.548118\n",
      "10     0.079317  0.034016      19        1   2.216235\n",
      "16    -0.334006  0.341754      20        1   0.963914, topic_info=            Term         Freq        Total Category  logprob  loglift\n",
      "5016         max  4601.000000  4601.000000  Default  30.0000  30.0000\n",
      "2653         edu  2438.000000  2438.000000  Default  29.0000  29.0000\n",
      "3523         god  1945.000000  1945.000000  Default  28.0000  28.0000\n",
      "4497         key  1211.000000  1211.000000  Default  27.0000  27.0000\n",
      "7677       space  1250.000000  1250.000000  Default  26.0000  26.0000\n",
      "...          ...          ...          ...      ...      ...      ...\n",
      "8805     virtual    15.110336   134.053142  Topic20  -6.2580   2.4591\n",
      "5140         mil    13.665991   113.450206  Topic20  -6.3585   2.5255\n",
      "6642     reality    15.259194   189.037514  Topic20  -6.2482   2.1252\n",
      "7221  scientific    15.126340   248.731356  Topic20  -6.2570   1.8420\n",
      "2749         end    13.682255   852.822371  Topic20  -6.3573   0.5095\n",
      "\n",
      "[1419 rows x 6 columns], token_table=      Topic      Freq          Term\n",
      "term                               \n",
      "20       11  0.929034     absolutes\n",
      "20       17  0.038710     absolutes\n",
      "37       12  0.032754  accelerators\n",
      "37       13  0.032754  accelerators\n",
      "37       14  0.884362  accelerators\n",
      "...     ...       ...           ...\n",
      "9113     19  0.022005         years\n",
      "9114     14  0.972649         yeast\n",
      "9132      9  0.041934       yzerman\n",
      "9132     18  0.922552       yzerman\n",
      "9134      6  0.949301        zenith\n",
      "\n",
      "[5975 rows x 3 columns], R=30, lambda_step=0.01, plot_opts={'xlab': 'PC1', 'ylab': 'PC2'}, topic_order=[7, 15, 1, 19, 14, 9, 20, 13, 10, 8, 6, 2, 16, 3, 12, 4, 18, 5, 11, 17])\n"
     ]
    }
   ],
   "source": [
    "a = pyLDAvis.sklearn.prepare(lda_tf, dtm_tf, tf_vectorizer)\n",
    "\n",
    "print(json.dumps(str(a)))"
   ]
  },
  {
   "cell_type": "code",
   "execution_count": 23,
   "metadata": {},
   "outputs": [
    {
     "name": "stdout",
     "output_type": "stream",
     "text": [
      "daksljdaskdjaskjdaksjdaksdjaskdjdaksljdaskdjaskjdaksjdaksdjaskdjdaksljdaskdjaskjdaksjdaksdjaskdjdaksljdaskdjaskjdaksjdaksdjaskdjdaksljdaskdjaskjdaksjdaksdjaskdjdaksljdaskdjaskjdaksjdaksdjaskdjdaksljdaskdjaskjdaksjdaksdjaskdjdaksljdaskdjaskjdaksjdaksdjaskdjdaksljdaskdjaskjdaksjdaksdjaskdjdaksljdaskdjaskjdaksjdaksdjaskdjdaksljdaskdjaskjdaksjdaksdjaskdjdaksljdaskdjaskjdaksjdaksdjaskdjdaksljdaskdjaskjdaksjdaksdjaskdjdaksljdaskdjaskjdaksjdaksdjaskdjdaksljdaskdjaskjdaksjdaksdjaskdjdaksljdaskdjaskjdaksjdaksdjaskdjdaksljdaskdjaskjdaksjdaksdjaskdjdaksljdaskdjaskjdaksjdaksdjaskdjdaksljdaskdjaskjdaksjdaksdjaskdjdaksljdaskdjaskjdaksjdaksdjaskdjdaksljdaskdjaskjdaksjdaksdjaskdjdaksljdaskdjaskjdaksjdaksdjaskdjdaksljdaskdjaskjdaksjdaksdjaskdjdaksljdaskdjaskjdaksjdaksdjaskdjdaksljdaskdjaskjdaksjdaksdjaskdjdaksljdaskdjaskjdaksjdaksdjaskdjdaksljdaskdjaskjdaksjdaksdjaskdjdaksljdaskdjaskjdaksjdaksdjaskdjdaksljdaskdjaskjdaksjdaksdjaskdjdaksljdaskdjaskjdaksjdaksdjaskdjdaksljdaskdjaskjdaksjdaksdjaskdjdaksljdaskdjaskjdaksjdaksdjaskdjdaksljdaskdjaskjdaksjdaksdjaskdjdaksljdaskdjaskjdaksjdaksdjaskdjdaksljdaskdjaskjdaksjdaksdjaskdjdaksljdaskdjaskjdaksjdaksdjaskdjdaksljdaskdjaskjdaksjdaksdjaskdjdaksljdaskdjaskjdaksjdaksdjaskdjdaksljdaskdjaskjdaksjdaksdjaskdjdaksljdaskdjaskjdaksjdaksdjaskdjdaksljdaskdjaskjdaksjdaksdjaskdjdaksljdaskdjaskjdaksjdaksdjaskdjdaksljdaskdjaskjdaksjdaksdjaskdjdaksljdaskdjaskjdaksjdaksdjaskdjdaksljdaskdjaskjdaksjdaksdjaskdjdaksljdaskdjaskjdaksjdaksdjaskdjdaksljdaskdjaskjdaksjdaksdjaskdjdaksljdaskdjaskjdaksjdaksdjaskdjdaksljdaskdjaskjdaksjdaksdjaskdjdaksljdaskdjaskjdaksjdaksdjaskdjdaksljdaskdjaskjdaksjdaksdjaskdjdaksljdaskdjaskjdaksjdaksdjaskdjdaksljdaskdjaskjdaksjdaksdjaskdjdaksljdaskdjaskjdaksjdaksdjaskdjdaksljdaskdjaskjdaksjdaksdjaskdjdaksljdaskdjaskjdaksjdaksdjaskdjdaksljdaskdjaskjdaksjdaksdjaskdjdaksljdaskdjaskjdaksjdaksdjaskdjdaksljdaskdjaskjdaksjdaksdjaskdjdaksljdaskdjaskjdaksjdaksdjaskdjdaksljdaskdjaskjdaksjdaksdjaskdjdaksljdaskdjaskjdaksjdaksdjaskdjdaksljdaskdjaskjdaksjdaksdjaskdjdaksljdaskdjaskjdaksjdaksdjaskdjdaksljdaskdjaskjdaksjdaksdjaskdjdaksljdaskdjaskjdaksjdaksdjaskdjdaksljdaskdjaskjdaksjdaksdjaskdjdaksljdaskdjaskjdaksjdaksdjaskdjdaksljdaskdjaskjdaksjdaksdjaskdjdaksljdaskdjaskjdaksjdaksdjaskdjdaksljdaskdjaskjdaksjdaksdjaskdjdaksljdaskdjaskjdaksjdaksdjaskdjdaksljdaskdjaskjdaksjdaksdjaskdjdaksljdaskdjaskjdaksjdaksdjaskdjdaksljdaskdjaskjdaksjdaksdjaskdjdaksljdaskdjaskjdaksjdaksdjaskdjdaksljdaskdjaskjdaksjdaksdjaskdjdaksljdaskdjaskjdaksjdaksdjaskdjdaksljdaskdjaskjdaksjdaksdjaskdjdaksljdaskdjaskjdaksjdaksdjaskdjdaksljdaskdjaskjdaksjdaksdjaskdjdaksljdaskdjaskjdaksjdaksdjaskdjdaksljdaskdjaskjdaksjdaksdjaskdjdaksljdaskdjaskjdaksjdaksdjaskdjdaksljdaskdjaskjdaksjdaksdjaskdjdaksljdaskdjaskjdaksjdaksdjaskdjdaksljdaskdjaskjdaksjdaksdjaskdjdaksljdaskdjaskjdaksjdaksdjaskdjdaksljdaskdjaskjdaksjdaksdjaskdjdaksljdaskdjaskjdaksjdaksdjaskdjdaksljdaskdjaskjdaksjdaksdjaskdjdaksljdaskdjaskjdaksjdaksdjaskdjdaksljdaskdjaskjdaksjdaksdjaskdjdaksljdaskdjaskjdaksjdaksdjaskdjdaksljdaskdjaskjdaksjdaksdjaskdjdaksljdaskdjaskjdaksjdaksdjaskdjdaksljdaskdjaskjdaksjdaksdjaskdjdaksljdaskdjaskjdaksjdaksdjaskdjdaksljdaskdjaskjdaksjdaksdjaskdjdaksljdaskdjaskjdaksjdaksdjaskdj\n"
     ]
    },
    {
     "name": "stderr",
     "output_type": "stream",
     "text": [
      "/home/nivalderramas/dev/horus/lda/venv/lib/python3.10/site-packages/pyLDAvis/_prepare.py:247: FutureWarning: In a future version of pandas all arguments of DataFrame.drop except for the argument 'labels' will be keyword-only.\n",
      "  by='saliency', ascending=False).head(R).drop('saliency', 1)\n"
     ]
    }
   ],
   "source": [
    "a = pyLDAvis.sklearn.prepare(lda_tfidf, dtm_tfidf, tfidf_vectorizer)\n",
    "with open('data_sklearn.json', 'w') as f:\n",
    "    json.dump((str(a)), f)"
   ]
  },
  {
   "cell_type": "markdown",
   "metadata": {
    "collapsed": true
   },
   "source": [
    "### Using different MDS functions\n",
    "\n",
    "With `sklearn` installed, other MDS functions, such as MMDS and TSNE can be used for plotting if the default PCoA is not satisfactory."
   ]
  },
  {
   "cell_type": "code",
   "execution_count": 30,
   "metadata": {},
   "outputs": [
    {
     "name": "stdout",
     "output_type": "stream",
     "text": [
      "daksljdaskdjaskjdaksjdaksdjaskdjdaksljdaskdjaskjdaksjdaksdjaskdjdaksljdaskdjaskjdaksjdaksdjaskdjdaksljdaskdjaskjdaksjdaksdjaskdjdaksljdaskdjaskjdaksjdaksdjaskdjdaksljdaskdjaskjdaksjdaksdjaskdjdaksljdaskdjaskjdaksjdaksdjaskdjdaksljdaskdjaskjdaksjdaksdjaskdjdaksljdaskdjaskjdaksjdaksdjaskdjdaksljdaskdjaskjdaksjdaksdjaskdjdaksljdaskdjaskjdaksjdaksdjaskdjdaksljdaskdjaskjdaksjdaksdjaskdjdaksljdaskdjaskjdaksjdaksdjaskdjdaksljdaskdjaskjdaksjdaksdjaskdjdaksljdaskdjaskjdaksjdaksdjaskdjdaksljdaskdjaskjdaksjdaksdjaskdjdaksljdaskdjaskjdaksjdaksdjaskdjdaksljdaskdjaskjdaksjdaksdjaskdjdaksljdaskdjaskjdaksjdaksdjaskdjdaksljdaskdjaskjdaksjdaksdjaskdjdaksljdaskdjaskjdaksjdaksdjaskdjdaksljdaskdjaskjdaksjdaksdjaskdjdaksljdaskdjaskjdaksjdaksdjaskdjdaksljdaskdjaskjdaksjdaksdjaskdjdaksljdaskdjaskjdaksjdaksdjaskdjdaksljdaskdjaskjdaksjdaksdjaskdjdaksljdaskdjaskjdaksjdaksdjaskdjdaksljdaskdjaskjdaksjdaksdjaskdjdaksljdaskdjaskjdaksjdaksdjaskdjdaksljdaskdjaskjdaksjdaksdjaskdjdaksljdaskdjaskjdaksjdaksdjaskdjdaksljdaskdjaskjdaksjdaksdjaskdjdaksljdaskdjaskjdaksjdaksdjaskdjdaksljdaskdjaskjdaksjdaksdjaskdjdaksljdaskdjaskjdaksjdaksdjaskdjdaksljdaskdjaskjdaksjdaksdjaskdjdaksljdaskdjaskjdaksjdaksdjaskdjdaksljdaskdjaskjdaksjdaksdjaskdjdaksljdaskdjaskjdaksjdaksdjaskdjdaksljdaskdjaskjdaksjdaksdjaskdjdaksljdaskdjaskjdaksjdaksdjaskdjdaksljdaskdjaskjdaksjdaksdjaskdjdaksljdaskdjaskjdaksjdaksdjaskdjdaksljdaskdjaskjdaksjdaksdjaskdjdaksljdaskdjaskjdaksjdaksdjaskdjdaksljdaskdjaskjdaksjdaksdjaskdjdaksljdaskdjaskjdaksjdaksdjaskdjdaksljdaskdjaskjdaksjdaksdjaskdjdaksljdaskdjaskjdaksjdaksdjaskdjdaksljdaskdjaskjdaksjdaksdjaskdjdaksljdaskdjaskjdaksjdaksdjaskdjdaksljdaskdjaskjdaksjdaksdjaskdjdaksljdaskdjaskjdaksjdaksdjaskdjdaksljdaskdjaskjdaksjdaksdjaskdjdaksljdaskdjaskjdaksjdaksdjaskdjdaksljdaskdjaskjdaksjdaksdjaskdjdaksljdaskdjaskjdaksjdaksdjaskdjdaksljdaskdjaskjdaksjdaksdjaskdjdaksljdaskdjaskjdaksjdaksdjaskdjdaksljdaskdjaskjdaksjdaksdjaskdjdaksljdaskdjaskjdaksjdaksdjaskdjdaksljdaskdjaskjdaksjdaksdjaskdjdaksljdaskdjaskjdaksjdaksdjaskdjdaksljdaskdjaskjdaksjdaksdjaskdjdaksljdaskdjaskjdaksjdaksdjaskdjdaksljdaskdjaskjdaksjdaksdjaskdjdaksljdaskdjaskjdaksjdaksdjaskdjdaksljdaskdjaskjdaksjdaksdjaskdjdaksljdaskdjaskjdaksjdaksdjaskdjdaksljdaskdjaskjdaksjdaksdjaskdjdaksljdaskdjaskjdaksjdaksdjaskdjdaksljdaskdjaskjdaksjdaksdjaskdjdaksljdaskdjaskjdaksjdaksdjaskdjdaksljdaskdjaskjdaksjdaksdjaskdjdaksljdaskdjaskjdaksjdaksdjaskdjdaksljdaskdjaskjdaksjdaksdjaskdjdaksljdaskdjaskjdaksjdaksdjaskdjdaksljdaskdjaskjdaksjdaksdjaskdjdaksljdaskdjaskjdaksjdaksdjaskdjdaksljdaskdjaskjdaksjdaksdjaskdjdaksljdaskdjaskjdaksjdaksdjaskdjdaksljdaskdjaskjdaksjdaksdjaskdjdaksljdaskdjaskjdaksjdaksdjaskdjdaksljdaskdjaskjdaksjdaksdjaskdjdaksljdaskdjaskjdaksjdaksdjaskdjdaksljdaskdjaskjdaksjdaksdjaskdjdaksljdaskdjaskjdaksjdaksdjaskdjdaksljdaskdjaskjdaksjdaksdjaskdjdaksljdaskdjaskjdaksjdaksdjaskdjdaksljdaskdjaskjdaksjdaksdjaskdjdaksljdaskdjaskjdaksjdaksdjaskdjdaksljdaskdjaskjdaksjdaksdjaskdjdaksljdaskdjaskjdaksjdaksdjaskdjdaksljdaskdjaskjdaksjdaksdjaskdjdaksljdaskdjaskjdaksjdaksdjaskdjdaksljdaskdjaskjdaksjdaksdjaskdjdaksljdaskdjaskjdaksjdaksdjaskdjdaksljdaskdjaskjdaksjdaksdjaskdjdaksljdaskdjaskjdaksjdaksdjaskdjdaksljdaskdjaskjdaksjdaksdjaskdj\n"
     ]
    },
    {
     "name": "stderr",
     "output_type": "stream",
     "text": [
      "/home/nivalderramas/dev/horus/lda/venv/lib/python3.10/site-packages/pyLDAvis/_prepare.py:247: FutureWarning: In a future version of pandas all arguments of DataFrame.drop except for the argument 'labels' will be keyword-only.\n",
      "  by='saliency', ascending=False).head(R).drop('saliency', 1)\n"
     ]
    },
    {
     "name": "stdout",
     "output_type": "stream",
     "text": [
      "PreparedData(topic_coordinates=              x         y  topics  cluster       Freq\n",
      "topic                                                \n",
      "6     -0.099949 -0.213273       1        1  10.698914\n",
      "14    -0.061287 -0.120387       2        1  10.077951\n",
      "0     -0.204806  0.220991       3        1   9.104501\n",
      "18    -0.248929 -0.049583       4        1   7.036540\n",
      "13     0.130947  0.032302       5        1   6.281324\n",
      "8     -0.286411  0.172089       6        1   5.411451\n",
      "19    -0.357969 -0.001664       7        1   5.387479\n",
      "12    -0.200551 -0.291682       8        1   5.377476\n",
      "9      0.002478 -0.374588       9        1   4.547461\n",
      "7      0.092395 -0.255058      10        1   4.498512\n",
      "5      0.108063 -0.102476      11        1   4.342297\n",
      "1      0.057300  0.198581      12        1   4.146615\n",
      "15    -0.138635  0.048003      13        1   4.078443\n",
      "2     -0.024170  0.006722      14        1   3.673889\n",
      "11    -0.111985  0.340480      15        1   3.391038\n",
      "3      0.082585  0.355001      16        1   3.240042\n",
      "17     0.244131 -0.230228      17        1   2.977799\n",
      "4      0.291942 -0.110922      18        1   2.548118\n",
      "10     0.272353  0.065793      19        1   2.216235\n",
      "16     0.452499  0.309896      20        1   0.963914, topic_info=            Term         Freq        Total Category  logprob  loglift\n",
      "5016         max  4601.000000  4601.000000  Default  30.0000  30.0000\n",
      "2653         edu  2438.000000  2438.000000  Default  29.0000  29.0000\n",
      "3523         god  1945.000000  1945.000000  Default  28.0000  28.0000\n",
      "4497         key  1211.000000  1211.000000  Default  27.0000  27.0000\n",
      "7677       space  1250.000000  1250.000000  Default  26.0000  26.0000\n",
      "...          ...          ...          ...      ...      ...      ...\n",
      "8805     virtual    15.110336   134.053142  Topic20  -6.2580   2.4591\n",
      "5140         mil    13.665991   113.450206  Topic20  -6.3585   2.5255\n",
      "6642     reality    15.259194   189.037514  Topic20  -6.2482   2.1252\n",
      "7221  scientific    15.126340   248.731356  Topic20  -6.2570   1.8420\n",
      "2749         end    13.682255   852.822371  Topic20  -6.3573   0.5095\n",
      "\n",
      "[1419 rows x 6 columns], token_table=      Topic      Freq          Term\n",
      "term                               \n",
      "20       11  0.929034     absolutes\n",
      "20       17  0.038710     absolutes\n",
      "37       12  0.032754  accelerators\n",
      "37       13  0.032754  accelerators\n",
      "37       14  0.884362  accelerators\n",
      "...     ...       ...           ...\n",
      "9113     19  0.022005         years\n",
      "9114     14  0.972649         yeast\n",
      "9132      9  0.041934       yzerman\n",
      "9132     18  0.922552       yzerman\n",
      "9134      6  0.949301        zenith\n",
      "\n",
      "[5975 rows x 3 columns], R=30, lambda_step=0.01, plot_opts={'xlab': 'PC1', 'ylab': 'PC2'}, topic_order=[7, 15, 1, 19, 14, 9, 20, 13, 10, 8, 6, 2, 16, 3, 12, 4, 18, 5, 11, 17])\n"
     ]
    },
    {
     "name": "stderr",
     "output_type": "stream",
     "text": [
      "/home/nivalderramas/dev/horus/lda/venv/lib/python3.10/site-packages/sklearn/manifold/_mds.py:299: FutureWarning: The default value of `normalized_stress` will change to `'auto'` in version 1.4. To suppress this warning, manually set the value of `normalized_stress`.\n",
      "  warnings.warn(\n"
     ]
    }
   ],
   "source": [
    "a = pyLDAvis.sklearn.prepare(lda_tf, dtm_tf, tf_vectorizer, mds='mmds')\n",
    "data = (repr(a))\n",
    "print(data)\n",
    "with open('data_sklearn.json', 'w') as f:\n",
    "    json.dump(data, f)"
   ]
  },
  {
   "cell_type": "code",
   "execution_count": 12,
   "metadata": {},
   "outputs": [
    {
     "name": "stdout",
     "output_type": "stream",
     "text": [
      "daksljdaskdjaskjdaksjdaksdjaskdjdaksljdaskdjaskjdaksjdaksdjaskdjdaksljdaskdjaskjdaksjdaksdjaskdjdaksljdaskdjaskjdaksjdaksdjaskdjdaksljdaskdjaskjdaksjdaksdjaskdjdaksljdaskdjaskjdaksjdaksdjaskdjdaksljdaskdjaskjdaksjdaksdjaskdjdaksljdaskdjaskjdaksjdaksdjaskdjdaksljdaskdjaskjdaksjdaksdjaskdjdaksljdaskdjaskjdaksjdaksdjaskdjdaksljdaskdjaskjdaksjdaksdjaskdjdaksljdaskdjaskjdaksjdaksdjaskdjdaksljdaskdjaskjdaksjdaksdjaskdjdaksljdaskdjaskjdaksjdaksdjaskdjdaksljdaskdjaskjdaksjdaksdjaskdjdaksljdaskdjaskjdaksjdaksdjaskdjdaksljdaskdjaskjdaksjdaksdjaskdjdaksljdaskdjaskjdaksjdaksdjaskdjdaksljdaskdjaskjdaksjdaksdjaskdjdaksljdaskdjaskjdaksjdaksdjaskdjdaksljdaskdjaskjdaksjdaksdjaskdjdaksljdaskdjaskjdaksjdaksdjaskdjdaksljdaskdjaskjdaksjdaksdjaskdjdaksljdaskdjaskjdaksjdaksdjaskdjdaksljdaskdjaskjdaksjdaksdjaskdjdaksljdaskdjaskjdaksjdaksdjaskdjdaksljdaskdjaskjdaksjdaksdjaskdjdaksljdaskdjaskjdaksjdaksdjaskdjdaksljdaskdjaskjdaksjdaksdjaskdjdaksljdaskdjaskjdaksjdaksdjaskdjdaksljdaskdjaskjdaksjdaksdjaskdjdaksljdaskdjaskjdaksjdaksdjaskdjdaksljdaskdjaskjdaksjdaksdjaskdjdaksljdaskdjaskjdaksjdaksdjaskdjdaksljdaskdjaskjdaksjdaksdjaskdjdaksljdaskdjaskjdaksjdaksdjaskdjdaksljdaskdjaskjdaksjdaksdjaskdjdaksljdaskdjaskjdaksjdaksdjaskdjdaksljdaskdjaskjdaksjdaksdjaskdjdaksljdaskdjaskjdaksjdaksdjaskdjdaksljdaskdjaskjdaksjdaksdjaskdjdaksljdaskdjaskjdaksjdaksdjaskdjdaksljdaskdjaskjdaksjdaksdjaskdjdaksljdaskdjaskjdaksjdaksdjaskdjdaksljdaskdjaskjdaksjdaksdjaskdjdaksljdaskdjaskjdaksjdaksdjaskdjdaksljdaskdjaskjdaksjdaksdjaskdjdaksljdaskdjaskjdaksjdaksdjaskdjdaksljdaskdjaskjdaksjdaksdjaskdjdaksljdaskdjaskjdaksjdaksdjaskdjdaksljdaskdjaskjdaksjdaksdjaskdjdaksljdaskdjaskjdaksjdaksdjaskdjdaksljdaskdjaskjdaksjdaksdjaskdjdaksljdaskdjaskjdaksjdaksdjaskdjdaksljdaskdjaskjdaksjdaksdjaskdjdaksljdaskdjaskjdaksjdaksdjaskdjdaksljdaskdjaskjdaksjdaksdjaskdjdaksljdaskdjaskjdaksjdaksdjaskdjdaksljdaskdjaskjdaksjdaksdjaskdjdaksljdaskdjaskjdaksjdaksdjaskdjdaksljdaskdjaskjdaksjdaksdjaskdjdaksljdaskdjaskjdaksjdaksdjaskdjdaksljdaskdjaskjdaksjdaksdjaskdjdaksljdaskdjaskjdaksjdaksdjaskdjdaksljdaskdjaskjdaksjdaksdjaskdjdaksljdaskdjaskjdaksjdaksdjaskdjdaksljdaskdjaskjdaksjdaksdjaskdjdaksljdaskdjaskjdaksjdaksdjaskdjdaksljdaskdjaskjdaksjdaksdjaskdjdaksljdaskdjaskjdaksjdaksdjaskdjdaksljdaskdjaskjdaksjdaksdjaskdjdaksljdaskdjaskjdaksjdaksdjaskdjdaksljdaskdjaskjdaksjdaksdjaskdjdaksljdaskdjaskjdaksjdaksdjaskdjdaksljdaskdjaskjdaksjdaksdjaskdjdaksljdaskdjaskjdaksjdaksdjaskdjdaksljdaskdjaskjdaksjdaksdjaskdjdaksljdaskdjaskjdaksjdaksdjaskdjdaksljdaskdjaskjdaksjdaksdjaskdjdaksljdaskdjaskjdaksjdaksdjaskdjdaksljdaskdjaskjdaksjdaksdjaskdjdaksljdaskdjaskjdaksjdaksdjaskdjdaksljdaskdjaskjdaksjdaksdjaskdjdaksljdaskdjaskjdaksjdaksdjaskdjdaksljdaskdjaskjdaksjdaksdjaskdjdaksljdaskdjaskjdaksjdaksdjaskdjdaksljdaskdjaskjdaksjdaksdjaskdjdaksljdaskdjaskjdaksjdaksdjaskdjdaksljdaskdjaskjdaksjdaksdjaskdjdaksljdaskdjaskjdaksjdaksdjaskdjdaksljdaskdjaskjdaksjdaksdjaskdjdaksljdaskdjaskjdaksjdaksdjaskdjdaksljdaskdjaskjdaksjdaksdjaskdjdaksljdaskdjaskjdaksjdaksdjaskdjdaksljdaskdjaskjdaksjdaksdjaskdjdaksljdaskdjaskjdaksjdaksdjaskdjdaksljdaskdjaskjdaksjdaksdjaskdjdaksljdaskdjaskjdaksjdaksdjaskdjdaksljdaskdjaskjdaksjdaksdjaskdjdaksljdaskdjaskjdaksjdaksdjaskdj\n"
     ]
    },
    {
     "name": "stderr",
     "output_type": "stream",
     "text": [
      "/home/nivalderramas/dev/horus/lda/venv/lib/python3.10/site-packages/pyLDAvis/_prepare.py:247: FutureWarning: In a future version of pandas all arguments of DataFrame.drop except for the argument 'labels' will be keyword-only.\n",
      "  by='saliency', ascending=False).head(R).drop('saliency', 1)\n"
     ]
    },
    {
     "ename": "ValueError",
     "evalue": "perplexity must be less than n_samples",
     "output_type": "error",
     "traceback": [
      "\u001b[0;31m---------------------------------------------------------------------------\u001b[0m",
      "\u001b[0;31mValueError\u001b[0m                                Traceback (most recent call last)",
      "Cell \u001b[0;32mIn[12], line 1\u001b[0m\n\u001b[0;32m----> 1\u001b[0m pyLDAvis\u001b[39m.\u001b[39;49msklearn\u001b[39m.\u001b[39;49mprepare(lda_tf, dtm_tf, tf_vectorizer, mds\u001b[39m=\u001b[39;49m\u001b[39m'\u001b[39;49m\u001b[39mtsne\u001b[39;49m\u001b[39m'\u001b[39;49m)\n",
      "File \u001b[0;32m~/dev/horus/lda/venv/lib/python3.10/site-packages/pyLDAvis/sklearn.py:96\u001b[0m, in \u001b[0;36mprepare\u001b[0;34m(lda_model, dtm, vectorizer, **kwargs)\u001b[0m\n\u001b[1;32m     64\u001b[0m \u001b[39m\u001b[39m\u001b[39m\"\"\"Create Prepared Data from sklearn's LatentDirichletAllocation and CountVectorizer.\u001b[39;00m\n\u001b[1;32m     65\u001b[0m \n\u001b[1;32m     66\u001b[0m \u001b[39mParameters\u001b[39;00m\n\u001b[0;32m   (...)\u001b[0m\n\u001b[1;32m     93\u001b[0m \u001b[39mSee `pyLDAvis.prepare` for **kwargs.\u001b[39;00m\n\u001b[1;32m     94\u001b[0m \u001b[39m\"\"\"\u001b[39;00m\n\u001b[1;32m     95\u001b[0m opts \u001b[39m=\u001b[39m fp\u001b[39m.\u001b[39mmerge(_extract_data(lda_model, dtm, vectorizer), kwargs)\n\u001b[0;32m---> 96\u001b[0m \u001b[39mreturn\u001b[39;00m pyLDAvis\u001b[39m.\u001b[39;49mprepare(\u001b[39m*\u001b[39;49m\u001b[39m*\u001b[39;49mopts)\n",
      "File \u001b[0;32m~/dev/horus/lda/venv/lib/python3.10/site-packages/pyLDAvis/_prepare.py:443\u001b[0m, in \u001b[0;36mprepare\u001b[0;34m(topic_term_dists, doc_topic_dists, doc_lengths, vocab, term_frequency, R, lambda_step, mds, n_jobs, plot_opts, sort_topics, start_index)\u001b[0m\n\u001b[1;32m    439\u001b[0m topic_info \u001b[39m=\u001b[39m _topic_info(topic_term_dists, topic_proportion,\n\u001b[1;32m    440\u001b[0m                          term_frequency, term_topic_freq, vocab, lambda_step, R,\n\u001b[1;32m    441\u001b[0m                          n_jobs, start_index)\n\u001b[1;32m    442\u001b[0m token_table \u001b[39m=\u001b[39m _token_table(topic_info, term_topic_freq, vocab, term_frequency, start_index)\n\u001b[0;32m--> 443\u001b[0m topic_coordinates \u001b[39m=\u001b[39m _topic_coordinates(mds, topic_term_dists, topic_proportion, start_index)\n\u001b[1;32m    444\u001b[0m client_topic_order \u001b[39m=\u001b[39m [x \u001b[39m+\u001b[39m start_index \u001b[39mfor\u001b[39;00m x \u001b[39min\u001b[39;00m topic_order]\n\u001b[1;32m    446\u001b[0m \u001b[39mreturn\u001b[39;00m PreparedData(topic_coordinates, topic_info,\n\u001b[1;32m    447\u001b[0m                     token_table, R, lambda_step, plot_opts, client_topic_order)\n",
      "File \u001b[0;32m~/dev/horus/lda/venv/lib/python3.10/site-packages/pyLDAvis/_prepare.py:192\u001b[0m, in \u001b[0;36m_topic_coordinates\u001b[0;34m(mds, topic_term_dists, topic_proportion, start_index)\u001b[0m\n\u001b[1;32m    190\u001b[0m \u001b[39mdef\u001b[39;00m \u001b[39m_topic_coordinates\u001b[39m(mds, topic_term_dists, topic_proportion, start_index\u001b[39m=\u001b[39m\u001b[39m1\u001b[39m):\n\u001b[1;32m    191\u001b[0m     K \u001b[39m=\u001b[39m topic_term_dists\u001b[39m.\u001b[39mshape[\u001b[39m0\u001b[39m]\n\u001b[0;32m--> 192\u001b[0m     mds_res \u001b[39m=\u001b[39m mds(topic_term_dists)\n\u001b[1;32m    193\u001b[0m     \u001b[39massert\u001b[39;00m mds_res\u001b[39m.\u001b[39mshape \u001b[39m==\u001b[39m (K, \u001b[39m2\u001b[39m)\n\u001b[1;32m    194\u001b[0m     mds_df \u001b[39m=\u001b[39m pd\u001b[39m.\u001b[39mDataFrame({\u001b[39m'\u001b[39m\u001b[39mx\u001b[39m\u001b[39m'\u001b[39m: mds_res[:, \u001b[39m0\u001b[39m], \u001b[39m'\u001b[39m\u001b[39my\u001b[39m\u001b[39m'\u001b[39m: mds_res[:, \u001b[39m1\u001b[39m],\n\u001b[1;32m    195\u001b[0m                            \u001b[39m'\u001b[39m\u001b[39mtopics\u001b[39m\u001b[39m'\u001b[39m: \u001b[39mrange\u001b[39m(start_index, K \u001b[39m+\u001b[39m start_index),\n\u001b[1;32m    196\u001b[0m                            \u001b[39m'\u001b[39m\u001b[39mcluster\u001b[39m\u001b[39m'\u001b[39m: \u001b[39m1\u001b[39m, \u001b[39m'\u001b[39m\u001b[39mFreq\u001b[39m\u001b[39m'\u001b[39m: topic_proportion \u001b[39m*\u001b[39m \u001b[39m100\u001b[39m})\n",
      "File \u001b[0;32m~/dev/horus/lda/venv/lib/python3.10/site-packages/pyLDAvis/_prepare.py:167\u001b[0m, in \u001b[0;36mjs_TSNE\u001b[0;34m(distributions, **kwargs)\u001b[0m\n\u001b[1;32m    165\u001b[0m dist_matrix \u001b[39m=\u001b[39m squareform(pdist(distributions, metric\u001b[39m=\u001b[39m_jensen_shannon))\n\u001b[1;32m    166\u001b[0m model \u001b[39m=\u001b[39m TSNE(n_components\u001b[39m=\u001b[39m\u001b[39m2\u001b[39m, random_state\u001b[39m=\u001b[39m\u001b[39m0\u001b[39m, metric\u001b[39m=\u001b[39m\u001b[39m'\u001b[39m\u001b[39mprecomputed\u001b[39m\u001b[39m'\u001b[39m, \u001b[39m*\u001b[39m\u001b[39m*\u001b[39mkwargs)\n\u001b[0;32m--> 167\u001b[0m \u001b[39mreturn\u001b[39;00m model\u001b[39m.\u001b[39;49mfit_transform(dist_matrix)\n",
      "File \u001b[0;32m~/dev/horus/lda/venv/lib/python3.10/site-packages/sklearn/manifold/_t_sne.py:1116\u001b[0m, in \u001b[0;36mTSNE.fit_transform\u001b[0;34m(self, X, y)\u001b[0m\n\u001b[1;32m   1095\u001b[0m \u001b[39m\u001b[39m\u001b[39m\"\"\"Fit X into an embedded space and return that transformed output.\u001b[39;00m\n\u001b[1;32m   1096\u001b[0m \n\u001b[1;32m   1097\u001b[0m \u001b[39mParameters\u001b[39;00m\n\u001b[0;32m   (...)\u001b[0m\n\u001b[1;32m   1113\u001b[0m \u001b[39m    Embedding of the training data in low-dimensional space.\u001b[39;00m\n\u001b[1;32m   1114\u001b[0m \u001b[39m\"\"\"\u001b[39;00m\n\u001b[1;32m   1115\u001b[0m \u001b[39mself\u001b[39m\u001b[39m.\u001b[39m_validate_params()\n\u001b[0;32m-> 1116\u001b[0m \u001b[39mself\u001b[39;49m\u001b[39m.\u001b[39;49m_check_params_vs_input(X)\n\u001b[1;32m   1117\u001b[0m embedding \u001b[39m=\u001b[39m \u001b[39mself\u001b[39m\u001b[39m.\u001b[39m_fit(X)\n\u001b[1;32m   1118\u001b[0m \u001b[39mself\u001b[39m\u001b[39m.\u001b[39membedding_ \u001b[39m=\u001b[39m embedding\n",
      "File \u001b[0;32m~/dev/horus/lda/venv/lib/python3.10/site-packages/sklearn/manifold/_t_sne.py:829\u001b[0m, in \u001b[0;36mTSNE._check_params_vs_input\u001b[0;34m(self, X)\u001b[0m\n\u001b[1;32m    827\u001b[0m \u001b[39mdef\u001b[39;00m \u001b[39m_check_params_vs_input\u001b[39m(\u001b[39mself\u001b[39m, X):\n\u001b[1;32m    828\u001b[0m     \u001b[39mif\u001b[39;00m \u001b[39mself\u001b[39m\u001b[39m.\u001b[39mperplexity \u001b[39m>\u001b[39m\u001b[39m=\u001b[39m X\u001b[39m.\u001b[39mshape[\u001b[39m0\u001b[39m]:\n\u001b[0;32m--> 829\u001b[0m         \u001b[39mraise\u001b[39;00m \u001b[39mValueError\u001b[39;00m(\u001b[39m\"\u001b[39m\u001b[39mperplexity must be less than n_samples\u001b[39m\u001b[39m\"\u001b[39m)\n",
      "\u001b[0;31mValueError\u001b[0m: perplexity must be less than n_samples"
     ]
    }
   ],
   "source": [
    "pyLDAvis.sklearn.prepare(lda_tf, dtm_tf, tf_vectorizer, mds='tsne')"
   ]
  },
  {
   "cell_type": "code",
   "execution_count": null,
   "metadata": {
    "collapsed": true
   },
   "outputs": [],
   "source": []
  }
 ],
 "metadata": {
  "kernelspec": {
   "display_name": "venv",
   "language": "python",
   "name": "python3"
  },
  "language_info": {
   "codemirror_mode": {
    "name": "ipython",
    "version": 3
   },
   "file_extension": ".py",
   "mimetype": "text/x-python",
   "name": "python",
   "nbconvert_exporter": "python",
   "pygments_lexer": "ipython3",
   "version": "3.10.6"
  },
  "vscode": {
   "interpreter": {
    "hash": "830c8696d55471405506006ee84ce951f1fee1ebc23505c2f5c8bcda98bf35ae"
   }
  }
 },
 "nbformat": 4,
 "nbformat_minor": 1
}
