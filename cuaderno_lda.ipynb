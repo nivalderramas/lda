{
  "cells": [
    {
      "cell_type": "code",
      "execution_count": 10,
      "metadata": {
        "colab": {
          "base_uri": "https://localhost:8080/"
        },
        "id": "FY1by0CIGmMv",
        "outputId": "6f339034-b095-46c8-c26e-828062e79e6f"
      },
      "outputs": [
        {
          "name": "stdout",
          "output_type": "stream",
          "text": [
            "Requirement already satisfied: pyLDAvis in ./venv/lib/python3.10/site-packages (3.3.1)\n",
            "Requirement already satisfied: numexpr in ./venv/lib/python3.10/site-packages (from pyLDAvis) (2.8.4)\n",
            "Requirement already satisfied: sklearn in ./venv/lib/python3.10/site-packages (from pyLDAvis) (0.0.post1)\n",
            "Requirement already satisfied: pandas>=1.2.0 in ./venv/lib/python3.10/site-packages (from pyLDAvis) (1.5.2)\n",
            "Requirement already satisfied: future in ./venv/lib/python3.10/site-packages (from pyLDAvis) (0.18.2)\n",
            "Requirement already satisfied: joblib in ./venv/lib/python3.10/site-packages (from pyLDAvis) (1.2.0)\n",
            "Requirement already satisfied: jinja2 in ./venv/lib/python3.10/site-packages (from pyLDAvis) (3.1.2)\n",
            "Requirement already satisfied: funcy in ./venv/lib/python3.10/site-packages (from pyLDAvis) (1.17)\n",
            "Requirement already satisfied: gensim in ./venv/lib/python3.10/site-packages (from pyLDAvis) (4.3.0)\n",
            "Requirement already satisfied: setuptools in ./venv/lib/python3.10/site-packages (from pyLDAvis) (65.5.0)\n",
            "Requirement already satisfied: scikit-learn in ./venv/lib/python3.10/site-packages (from pyLDAvis) (1.2.0)\n",
            "Requirement already satisfied: scipy in ./venv/lib/python3.10/site-packages (from pyLDAvis) (1.10.0)\n",
            "Requirement already satisfied: numpy>=1.20.0 in ./venv/lib/python3.10/site-packages (from pyLDAvis) (1.24.1)\n",
            "Requirement already satisfied: pytz>=2020.1 in ./venv/lib/python3.10/site-packages (from pandas>=1.2.0->pyLDAvis) (2022.7)\n",
            "Requirement already satisfied: python-dateutil>=2.8.1 in ./venv/lib/python3.10/site-packages (from pandas>=1.2.0->pyLDAvis) (2.8.2)\n",
            "Requirement already satisfied: FuzzyTM>=0.4.0 in ./venv/lib/python3.10/site-packages (from gensim->pyLDAvis) (2.0.5)\n",
            "Requirement already satisfied: smart-open>=1.8.1 in ./venv/lib/python3.10/site-packages (from gensim->pyLDAvis) (6.3.0)\n",
            "Requirement already satisfied: MarkupSafe>=2.0 in ./venv/lib/python3.10/site-packages (from jinja2->pyLDAvis) (2.1.1)\n",
            "Requirement already satisfied: threadpoolctl>=2.0.0 in ./venv/lib/python3.10/site-packages (from scikit-learn->pyLDAvis) (3.1.0)\n",
            "Requirement already satisfied: pyfume in ./venv/lib/python3.10/site-packages (from FuzzyTM>=0.4.0->gensim->pyLDAvis) (0.2.25)\n",
            "Requirement already satisfied: six>=1.5 in ./venv/lib/python3.10/site-packages (from python-dateutil>=2.8.1->pandas>=1.2.0->pyLDAvis) (1.16.0)\n",
            "Requirement already satisfied: simpful in ./venv/lib/python3.10/site-packages (from pyfume->FuzzyTM>=0.4.0->gensim->pyLDAvis) (2.9.0)\n",
            "Requirement already satisfied: fst-pso in ./venv/lib/python3.10/site-packages (from pyfume->FuzzyTM>=0.4.0->gensim->pyLDAvis) (1.8.1)\n",
            "Requirement already satisfied: miniful in ./venv/lib/python3.10/site-packages (from fst-pso->pyfume->FuzzyTM>=0.4.0->gensim->pyLDAvis) (0.0.6)\n",
            "Requirement already satisfied: requests in ./venv/lib/python3.10/site-packages (from simpful->pyfume->FuzzyTM>=0.4.0->gensim->pyLDAvis) (2.28.1)\n",
            "Requirement already satisfied: charset-normalizer<3,>=2 in ./venv/lib/python3.10/site-packages (from requests->simpful->pyfume->FuzzyTM>=0.4.0->gensim->pyLDAvis) (2.1.1)\n",
            "Requirement already satisfied: idna<4,>=2.5 in ./venv/lib/python3.10/site-packages (from requests->simpful->pyfume->FuzzyTM>=0.4.0->gensim->pyLDAvis) (3.4)\n",
            "Requirement already satisfied: urllib3<1.27,>=1.21.1 in ./venv/lib/python3.10/site-packages (from requests->simpful->pyfume->FuzzyTM>=0.4.0->gensim->pyLDAvis) (1.26.14)\n",
            "Requirement already satisfied: certifi>=2017.4.17 in ./venv/lib/python3.10/site-packages (from requests->simpful->pyfume->FuzzyTM>=0.4.0->gensim->pyLDAvis) (2022.12.7)\n"
          ]
        }
      ],
      "source": [
        "# Run in terminal or command prompt\n",
        "# python3 -m spacy download en\n",
        "\n",
        "\n",
        "\n",
        "import numpy as np\n",
        "import pandas as pd\n",
        "import sklearn\n",
        "import re, nltk, spacy, gensim\n",
        "import os\n",
        "import json\n",
        "\n",
        "# Sklearn\n",
        "from sklearn.decomposition import LatentDirichletAllocation, TruncatedSVD\n",
        "from sklearn.feature_extraction.text import CountVectorizer, TfidfVectorizer\n",
        "from sklearn.model_selection import GridSearchCV\n",
        "from pprint import pprint\n",
        "import gensim\n",
        "from gensim.models import CoherenceModel\n",
        "\n",
        "# Plotting tools\n",
        "!pip install pyLDAvis\n",
        "# Plotting tools\n",
        "import pyLDAvis\n",
        "import pyLDAvis.sklearn\n",
        "import pyLDAvis.gensim_models\n",
        "import matplotlib.pyplot as plt\n",
        "%matplotlib inline\n",
        "\n",
        "#os.chdir(\"/content/drive/MyDrive/Grupo MIDAS/LDA Horus\")"
      ]
    },
    {
      "cell_type": "code",
      "execution_count": 11,
      "metadata": {
        "id": "rTw53dJtIRNw"
      },
      "outputs": [],
      "source": [
        "#collection data is being loaded from\n",
        "collection =  \"lda_info\"\n",
        "#documents data is being loaded from\n",
        "documents = [\n",
        "  \"_id\",\n",
        "  \"dc:description:eng\",\n",
        "  \"dc:title:eng\"\n",
        "]#read file\n",
        "f = open(\"avois_words.txt\", \"r\")\n",
        "#this is a list of words that are not relevant to the topic\n",
        "stopwords = f.read().splitlines()\n",
        "f.close()"
      ]
    },
    {
      "cell_type": "code",
      "execution_count": 12,
      "metadata": {
        "id": "kwqj1mDA5YAo"
      },
      "outputs": [],
      "source": [
        "# Opening JSON file\n",
        "f = f=open(\"lda_info.json\",\"r\",encoding='utf-8')\n",
        "\n",
        "# returns JSON object as \n",
        "# a dictionary\n",
        "data = f.read().splitlines()\n",
        "\n",
        "data_full=[]\n",
        "for i in data:\n",
        "  data_full.append(json.loads(i))\n",
        "f.close()"
      ]
    },
    {
      "cell_type": "code",
      "execution_count": 13,
      "metadata": {
        "id": "SB_hN7CfMG1x"
      },
      "outputs": [],
      "source": [
        "data = []\n",
        "cnt = 0\n",
        "for document in data_full:\n",
        "    new_doc = []\n",
        "    for(key, value) in document.items():\n",
        "      if(key in documents):\n",
        "        new_doc.append(key + \":\" + str(value))\n",
        "    data.append(new_doc)"
      ]
    },
    {
      "cell_type": "code",
      "execution_count": 14,
      "metadata": {
        "colab": {
          "base_uri": "https://localhost:8080/"
        },
        "id": "Kn8LeRGyURbp",
        "outputId": "e82a7d68-b64b-4474-ca8c-f71d4bd0e01b"
      },
      "outputs": [
        {
          "name": "stdout",
          "output_type": "stream",
          "text": [
            "[['numberint', 'dc', 'title', 'eng', 'systematic', 'evaluation', 'of', 'jatropha', 'curcas', 'oil', 'obtention', 'by', 'mechanical', 'and', 'solvent', 'extraction', 'dc', 'description', 'eng', 'current', 'biodiesel', 'production', 'relies', 'mostly', 'on', 'edible', 'oils', 'soybean', 'palm', 'rapeseed', 'which', 'is', 'major', 'drawback', 'for', 'the', 'process', 'as', 'raw', 'materials', 'represent', 'the', 'major', 'part', 'of', 'the', 'final', 'costs', 'of', 'the', 'biofuel', 'this', 'also', 'brings', 'out', 'concerns', 'about', 'food', 'and', 'feed', 'security', 'in', 'the', 'last', 'years', 'jatropha', 'curca', 'oil', 'has', 'obtained', 'attention', 'as', 'an', 'alternative', 'oleochemical', 'feedstock', 'because', 'it', 'is', 'perennial', 'crop', 'able', 'to', 'produce', 'up', 'to', 'gallon', 'per', 'hectare', 'year', 'of', 'non', 'edible', 'oil', 'even', 'though', 'several', 'authors', 'have', 'reported', 'process', 'conditions', 'and', 'yields', 'on', 'variety', 'of', 'extraction', 'methods', 'for', 'jatropha', 'oil', 'few', 'of', 'them', 'present', 'details', 'on', 'the', 'overall', 'process', 'from', 'the', 'industrial', 'standpoint', 'and', 'also', 'most', 'of', 'them', 'do', 'not', 'assess', 'the', 'impact', 'of', 'the', 'extraction', 'process', 'on', 'the', 'oil', 'quality', 'and', 'its', 'technical', 'requirements', 'for', 'biodiesel', 'production', 'in', 'this', 'regard', 'this', 'work', 'describes', 'the', 'development', 'of', 'jatropha', 'oil', 'production', 'process', 'involving', 'mechanical', 'and', 'solvent', 'extraction', 'the', 'effect', 'of', 'mechanical', 'extraction', 'parameters', 'such', 'as', 'speed', 'of', 'the', 'screw', 'diameter', 'and', 'temperature', 'of', 'discharge', 'each', 'one', 'was', 'analyzed', 'on', 'oil', 'yield', 'and', 'saponification', 'index', 'as', 'quality', 'parameter', 'expeller', 'power', 'consumption', 'and', 'extraction', 'efficiency', 'were', 'studied', 'in', 'solvent', 'extraction', 'experiments', 'it', 'was', 'evaluated', 'the', 'effect', 'of', 'the', 'nature', 'of', 'solvent', 'by', 'using', 'hexano', 'methanol', 'and', 'ethanol', 'the', 'seed', 'solvent', 'mass', 'ratio', 'and', 'and', 'the', 'particle', 'size', 'and', 'mm', 'on', 'oil', 'yield', 'and', 'oil', 'properties', 'saponification', 'index', 'humidity', 'the', 'most', 'favorable', 'conditions', 'of', 'each', 'extraction', 'process', 'were', 'established', 'an', 'optimization', 'study', 'allowed', 'establishing', 'most', 'favorable', 'conditions', 'for', 'industrial', 'processing', 'involving', 'mechanical', 'extraction', 'of', 'the', 'seeds', 'and', 'solvent', 'extraction', 'of', 'the', 'pressed', 'cake', 'oil', 'obtained', 'with', 'this', 'process', 'was', 'characterized', 'and', 'used', 'for', 'biodiesel', 'production']]\n"
          ]
        }
      ],
      "source": [
        "#TOKENIZE WORDS\n",
        "def tokenize_words(sentences):\n",
        "    for sentence in sentences:\n",
        "        yield(gensim.utils.simple_preprocess(str(sentence), deacc=True))  # deacc=True removes punctuations\n",
        "#Tokenizer de Stanford\n",
        "data_words = list(tokenize_words(data))\n",
        "\n",
        "print(data_words[:1])"
      ]
    },
    {
      "cell_type": "code",
      "execution_count": 15,
      "metadata": {
        "id": "gbXuEiebDB4z"
      },
      "outputs": [],
      "source": [
        "# Remove long words\n",
        "\n",
        "def remove_long_words(words):\n",
        "  for word in words:\n",
        "    aux_word=[]\n",
        "    for character in word:\n",
        "      if len(character)>3:\n",
        "          aux_word.append(character)\n",
        "    yield aux_word\n",
        "\n",
        "\n",
        "short_words=list(remove_long_words(data_words))"
      ]
    },
    {
      "cell_type": "markdown",
      "metadata": {
        "id": "tSRkJPmV7eVr"
      },
      "source": [
        "Se podría pintar el histograma de frecuencias"
      ]
    },
    {
      "cell_type": "code",
      "execution_count": 16,
      "metadata": {
        "id": "TtynpxwGUf2B"
      },
      "outputs": [],
      "source": [
        "#LEMMATIZATION\n",
        "def lemmatization(texts, allowed_postags=['NOUN', 'ADJ', 'VERB', 'ADV']):\n",
        "    \"\"\"https://spacy.io/api/annotation\"\"\"\n",
        "    texts_out = []\n",
        "    for sent in texts:\n",
        "        doc = nlp(\" \".join(sent))\n",
        "        texts_out.append([token.lemma_ if token.lemma_ not in ['-PRON-'] else '' for token in doc if token.pos_ in allowed_postags])\n",
        "    return texts_out\n",
        "\n",
        "# Initialize spacy 'en' model, keeping only tagger component (for efficiency)\n",
        "nlp = spacy.load('en_core_web_sm', disable=['parser', 'ner'])\n",
        "\n",
        "# Do lemmatization keeping only Noun, Adj, Verb, Adverb\n",
        "data_lemmatized = lemmatization(short_words, allowed_postags=['NOUN', 'ADJ', 'VERB', 'ADV'])\n",
        "\n"
      ]
    },
    {
      "cell_type": "code",
      "execution_count": 17,
      "metadata": {
        "id": "b2LPjE6BGGNd"
      },
      "outputs": [],
      "source": [
        "#Create a words dictionary with tokenized, clean and lemmatized elements\n",
        "dictionary = gensim.corpora.Dictionary(data_lemmatized)\n",
        "\n",
        "dictionary.filter_extremes(no_below=15, no_above=0.5, keep_n=100000)\n",
        "\n",
        "#For each document we create an dictionary that show many words and the number of times repeated \n",
        "bow_corpus = [dictionary.doc2bow(doc) for doc in data_lemmatized]"
      ]
    },
    {
      "cell_type": "markdown",
      "metadata": {
        "id": "w5VTIrfkJSzt"
      },
      "source": [
        "We create a tf-idf model object using models.TfidfModel from \"bow_corpus\" and place it in tfidf, then apply the transformation to the entire corpus and call it corpus_tfidf. Finally, we preview the TF-IDF scores for our first document."
      ]
    },
    {
      "cell_type": "code",
      "execution_count": 18,
      "metadata": {
        "colab": {
          "base_uri": "https://localhost:8080/"
        },
        "id": "zoLlphqjI9UW",
        "outputId": "07c98d89-6df8-430c-884f-b1d7571fecdf"
      },
      "outputs": [
        {
          "name": "stdout",
          "output_type": "stream",
          "text": [
            "[(0, 0.04712022481724221),\n",
            " (1, 0.03017857062411565),\n",
            " (2, 0.062394614181510016),\n",
            " (3, 0.05603770123450342),\n",
            " (4, 0.04147885214562807),\n",
            " (5, 0.05909957685270562),\n",
            " (6, 0.07549608164697481),\n",
            " (7, 0.057005479083418464),\n",
            " (8, 0.22648824494092443),\n",
            " (9, 0.058024215550057816),\n",
            " (10, 0.1257867236087987),\n",
            " (11, 0.06412151395401403),\n",
            " (12, 0.05035297592891162),\n",
            " (13, 0.05181416213577583),\n",
            " (14, 0.04712022481724221),\n",
            " (15, 0.06412151395401403),\n",
            " (16, 0.08768345080163738),\n",
            " (17, 0.06208262741732341),\n",
            " (18, 0.09669861201188158),\n",
            " (19, 0.06412151395401403),\n",
            " (20, 0.032272668393402815),\n",
            " (21, 0.04147885214562807),\n",
            " (22, 0.060833708683168175),\n",
            " (23, 0.038400707906124425),\n",
            " (24, 0.5909957685270562),\n",
            " (25, 0.07307398409491288),\n",
            " (26, 0.06485184681290412),\n",
            " (27, 0.04834930600594079),\n",
            " (28, 0.13796966223776375),\n",
            " (29, 0.11710885490769656),\n",
            " (30, 0.10070595185782324),\n",
            " (31, 0.06341774461871613),\n",
            " (32, 0.14393576336699937),\n",
            " (33, 0.06023823019508788),\n",
            " (34, 0.05557137688923049),\n",
            " (35, 0.026879139324744502),\n",
            " (36, 0.1124238629058823),\n",
            " (37, 0.052197373151147156),\n",
            " (38, 0.05546918916059223),\n",
            " (39, 0.05070805972436262),\n",
            " (40, 0.07424716291281958),\n",
            " (41, 0.09606928029538317),\n",
            " (42, 0.04772500915974483),\n",
            " (43, 0.06640079518333393),\n",
            " (44, 0.06023823019508788),\n",
            " (45, 0.01443078100596792),\n",
            " (46, 0.18032992505716913),\n",
            " (47, 0.057508144329321366),\n",
            " (48, 0.04866917318767202),\n",
            " (49, 0.1827444904922169),\n",
            " (50, 0.047420254453516775),\n",
            " (51, 0.09249415127122017),\n",
            " (52, 0.06023823019508788),\n",
            " (53, 0.06208262741732341),\n",
            " (54, 0.047420254453516775),\n",
            " (55, 0.04653377012223673),\n",
            " (56, 0.057005479083418464),\n",
            " (57, 0.07424716291281958),\n",
            " (58, 0.042624247004852005),\n",
            " (59, 0.058024215550057816),\n",
            " (60, 0.4454829774769175),\n",
            " (61, 0.06485184681290412),\n",
            " (62, 0.05054789632619934),\n",
            " (63, 0.028289117446955198),\n",
            " (64, 0.06640079518333393),\n",
            " (65, 0.05258832632461269),\n",
            " (66, 0.02388115126505981),\n",
            " (67, 0.10678951300983053),\n",
            " (68, 0.20167316573658622)]\n"
          ]
        }
      ],
      "source": [
        "from gensim import corpora, models\n",
        "tfidf = models.TfidfModel(bow_corpus)\n",
        "corpus_tfidf = tfidf[bow_corpus]\n",
        "for doc in corpus_tfidf:\n",
        "    pprint(doc)\n",
        "    break"
      ]
    },
    {
      "cell_type": "markdown",
      "metadata": {
        "id": "fl17T35jJfIO"
      },
      "source": [
        "We are going to train our LDA model using gensim.models.LdaMulticore and save it to ‘lda_model’"
      ]
    },
    {
      "cell_type": "code",
      "execution_count": 19,
      "metadata": {
        "colab": {
          "base_uri": "https://localhost:8080/"
        },
        "id": "TQdi3nrfJgCd",
        "outputId": "7c4f35d6-2381-4697-b349-1e278d57438c"
      },
      "outputs": [],
      "source": [
        "lda_model = gensim.models.LdaMulticore(bow_corpus, num_topics=10, id2word=dictionary, passes=2, workers=2)"
      ]
    },
    {
      "cell_type": "code",
      "execution_count": 20,
      "metadata": {
        "colab": {
          "base_uri": "https://localhost:8080/"
        },
        "id": "gbJOZ3eXJ9FN",
        "outputId": "65be9bab-6e8d-4b46-f413-c151dc14ecba"
      },
      "outputs": [
        {
          "name": "stdout",
          "output_type": "stream",
          "text": [
            "Topic: 0 Word: 0.011*\"cluster\" + 0.008*\"code\" + 0.007*\"source\" + 0.006*\"datum\" + 0.006*\"uncertainty\" + 0.006*\"method\" + 0.005*\"network\" + 0.005*\"document\" + 0.005*\"search\" + 0.005*\"information\"\n",
            "Topic: 1 Word: 0.009*\"network\" + 0.007*\"image\" + 0.006*\"production\" + 0.006*\"visualization\" + 0.006*\"strategy\" + 0.006*\"learn\" + 0.006*\"reaction\" + 0.006*\"price\" + 0.005*\"neural\" + 0.005*\"sequence\"\n",
            "Topic: 2 Word: 0.010*\"network\" + 0.007*\"agent\" + 0.005*\"group\" + 0.005*\"service\" + 0.005*\"device\" + 0.005*\"design\" + 0.005*\"simulation\" + 0.005*\"medical\" + 0.004*\"control\" + 0.004*\"problem\"\n",
            "Topic: 3 Word: 0.018*\"image\" + 0.009*\"cluster\" + 0.008*\"visual\" + 0.007*\"detection\" + 0.007*\"network\" + 0.007*\"model\" + 0.006*\"representation\" + 0.006*\"datum\" + 0.006*\"feature\" + 0.006*\"method\"\n",
            "Topic: 4 Word: 0.017*\"innovation\" + 0.008*\"knowledge\" + 0.006*\"measurement\" + 0.006*\"prediction\" + 0.005*\"architecture\" + 0.005*\"extraction\" + 0.005*\"system\" + 0.005*\"transfer\" + 0.005*\"technology\" + 0.005*\"volume\"\n",
            "Topic: 5 Word: 0.011*\"catalyst\" + 0.006*\"particle\" + 0.006*\"model\" + 0.005*\"sense\" + 0.005*\"ethanol\" + 0.005*\"glycerol\" + 0.004*\"predict\" + 0.004*\"method\" + 0.004*\"system\" + 0.004*\"retrieval\"\n",
            "Topic: 6 Word: 0.010*\"emission\" + 0.007*\"software\" + 0.007*\"column\" + 0.006*\"study\" + 0.006*\"system\" + 0.006*\"distillation\" + 0.006*\"process\" + 0.006*\"vehicle\" + 0.005*\"ethanol\" + 0.005*\"alcohol\"\n",
            "Topic: 7 Word: 0.008*\"system\" + 0.007*\"operator\" + 0.007*\"technique\" + 0.006*\"traffic\" + 0.005*\"evolutionary\" + 0.005*\"software\" + 0.005*\"genetic\" + 0.005*\"management\" + 0.005*\"application\" + 0.005*\"technology\"\n",
            "Topic: 8 Word: 0.011*\"fuzzy\" + 0.008*\"interval\" + 0.008*\"problem\" + 0.008*\"fault\" + 0.006*\"image\" + 0.006*\"programming\" + 0.006*\"linear\" + 0.006*\"constraint\" + 0.006*\"method\" + 0.005*\"design\"\n",
            "Topic: 9 Word: 0.008*\"network\" + 0.006*\"fuzzy\" + 0.006*\"student\" + 0.006*\"design\" + 0.006*\"genetic\" + 0.006*\"emission\" + 0.006*\"model\" + 0.005*\"factor\" + 0.005*\"problem\" + 0.005*\"process\"\n"
          ]
        }
      ],
      "source": [
        "lda_model_tfidf = gensim.models.LdaMulticore(corpus_tfidf, num_topics=10, id2word=dictionary, passes=2, workers=4)\n",
        "for idx, topic in lda_model_tfidf.print_topics(-1):\n",
        "    print('Topic: {} Word: {}'.format(idx, topic))"
      ]
    },
    {
      "cell_type": "markdown",
      "metadata": {
        "id": "XMpmZyZA8dpC"
      },
      "source": [
        "**Tareas a implementar**\n",
        "\n",
        "- Usar perplejidad para determinar la cantidad de clusters\n",
        "- Ver gráfica de frecuencias en palabras\n",
        "- Visualización dentro de Horus (Tipo cluseters e individuos)\n",
        "- Utilizar temática para la busqueda (se pueden utilizar medidas como la de cos2) -> Sistema de recuperación de informació basado en conceptos \n",
        "- Filtro de grupo\n",
        "- Filtro por concepto"
      ]
    },
    {
      "cell_type": "markdown",
      "metadata": {
        "id": "biTuLrztKfZB"
      },
      "source": [
        "**Model evaluation**"
      ]
    },
    {
      "cell_type": "code",
      "execution_count": 21,
      "metadata": {
        "id": "vpgBDelSKiUu"
      },
      "outputs": [],
      "source": [
        "def compute_coherence_values(dictionary, corpus, texts, limit, start=2, step=1):\n",
        "        coherence_values = []\n",
        "        model_list = []\n",
        "        topics=[]\n",
        "        dictionary_aux=[]\n",
        "        for num_topics in range(start, limit, step):\n",
        "            model=gensim.models.LdaMulticore(corpus=corpus, id2word=dictionary, num_topics=num_topics)\n",
        "            model_list.append(model)\n",
        "            coherencemodel = CoherenceModel(model=model, texts=texts, dictionary=dictionary, coherence='c_v')\n",
        "            coherence_values.append(coherencemodel.get_coherence())\n",
        "            topics.append(num_topics)\n",
        "            dictionary_aux.append({\"modelo\":model,\"n_topicos\":num_topics,\"coherencia\":coherencemodel.get_coherence()})\n",
        "\n",
        "        return dictionary_aux"
      ]
    },
    {
      "cell_type": "code",
      "execution_count": 22,
      "metadata": {
        "colab": {
          "base_uri": "https://localhost:8080/"
        },
        "id": "BT4UuyaSMSUb",
        "outputId": "5e07c437-2ab5-4488-ec30-67b78395cab4"
      },
      "outputs": [],
      "source": [
        "diccionario_prueba=compute_coherence_values(dictionary=dictionary,corpus=corpus_tfidf,texts=data_lemmatized,limit=35,step=1)"
      ]
    },
    {
      "cell_type": "code",
      "execution_count": 23,
      "metadata": {
        "colab": {
          "base_uri": "https://localhost:8080/",
          "height": 280
        },
        "id": "3LwuowHgfjyR",
        "outputId": "1c05925f-a3dd-468f-a687-fe2e25d06652"
      },
      "outputs": [
        {
          "data": {
            "image/png": "[encoded data removed]",
            "text/plain": [
              "<Figure size 640x480 with 1 Axes>"
            ]
          },
          "metadata": {},
          "output_type": "display_data"
        }
      ],
      "source": [
        "from matplotlib import pyplot\n",
        "df_2=pd.DataFrame(diccionario_prueba).drop(\"modelo\",axis=1)\n",
        "df_2.index=df_2.n_topicos\n",
        "df_2=df_2.drop(\"n_topicos\",axis=1)\n",
        "df_2.plot()\n",
        "pyplot.show()"
      ]
    },
    {
      "cell_type": "markdown",
      "metadata": {
        "id": "yZTc3kjrgv8F"
      },
      "source": [
        "El tópico con mayor coherencia el 6 tópicos"
      ]
    },
    {
      "cell_type": "code",
      "execution_count": 24,
      "metadata": {
        "id": "TxJQiSdig2MD"
      },
      "outputs": [],
      "source": [
        "mejor_modelo=diccionario_prueba[4][\"modelo\"]"
      ]
    },
    {
      "cell_type": "code",
      "execution_count": 25,
      "metadata": {
        "colab": {
          "base_uri": "https://localhost:8080/"
        },
        "id": "7ltf7r7Hhij7",
        "outputId": "cd93ac2f-6b95-4eb2-d379-5d12b844f7e2"
      },
      "outputs": [
        {
          "name": "stdout",
          "output_type": "stream",
          "text": [
            "Topic: 0 Word: 0.007*\"emission\" + 0.006*\"design\" + 0.006*\"image\" + 0.005*\"model\" + 0.005*\"system\" + 0.005*\"study\" + 0.005*\"process\" + 0.004*\"software\" + 0.004*\"feature\" + 0.004*\"information\"\n",
            "Topic: 1 Word: 0.005*\"image\" + 0.005*\"model\" + 0.005*\"time\" + 0.005*\"datum\" + 0.005*\"network\" + 0.005*\"problem\" + 0.004*\"engineering\" + 0.004*\"cluster\" + 0.004*\"risk\" + 0.004*\"algorithm\"\n",
            "Topic: 2 Word: 0.010*\"image\" + 0.007*\"cluster\" + 0.006*\"fault\" + 0.006*\"software\" + 0.005*\"network\" + 0.005*\"system\" + 0.005*\"base\" + 0.005*\"feature\" + 0.005*\"design\" + 0.004*\"performance\"\n",
            "Topic: 3 Word: 0.010*\"network\" + 0.008*\"agent\" + 0.006*\"model\" + 0.005*\"immune\" + 0.005*\"problem\" + 0.005*\"system\" + 0.005*\"information\" + 0.004*\"environment\" + 0.004*\"fuzzy\" + 0.004*\"process\"\n",
            "Topic: 4 Word: 0.005*\"process\" + 0.005*\"model\" + 0.005*\"network\" + 0.005*\"image\" + 0.005*\"method\" + 0.005*\"system\" + 0.005*\"production\" + 0.004*\"equilibrium\" + 0.004*\"knowledge\" + 0.004*\"ethanol\"\n",
            "Topic: 5 Word: 0.007*\"cluster\" + 0.005*\"network\" + 0.005*\"problem\" + 0.005*\"catalyst\" + 0.005*\"system\" + 0.005*\"model\" + 0.004*\"fuzzy\" + 0.004*\"image\" + 0.004*\"student\" + 0.004*\"reaction\"\n"
          ]
        }
      ],
      "source": [
        "for idx, topic in mejor_modelo.print_topics(-1):\n",
        "    print('Topic: {} Word: {}'.format(idx, topic))"
      ]
    },
    {
      "cell_type": "code",
      "execution_count": 27,
      "metadata": {
        "colab": {
          "base_uri": "https://localhost:8080/",
          "height": 917
        },
        "id": "vv32whJXizIA",
        "outputId": "5e9a8b6a-086a-4099-e85c-4e4c82fbf62a"
      },
      "outputs": [
        {
          "name": "stderr",
          "output_type": "stream",
          "text": [
            "/home/nivalderramas/dev/horus/lda/venv/lib/python3.10/site-packages/pyLDAvis/_prepare.py:247: FutureWarning: In a future version of pandas all arguments of DataFrame.drop except for the argument 'labels' will be keyword-only.\n",
            "  by='saliency', ascending=False).head(R).drop('saliency', 1)\n",
            "/home/nivalderramas/dev/horus/lda/venv/lib/python3.10/site-packages/past/builtins/misc.py:45: DeprecationWarning: the imp module is deprecated in favour of importlib and slated for removal in Python 3.12; see the module's documentation for alternative uses\n",
            "  from imp import reload\n",
            "/home/nivalderramas/dev/horus/lda/venv/lib/python3.10/site-packages/past/builtins/misc.py:45: DeprecationWarning: the imp module is deprecated in favour of importlib and slated for removal in Python 3.12; see the module's documentation for alternative uses\n",
            "  from imp import reload\n",
            "/home/nivalderramas/dev/horus/lda/venv/lib/python3.10/site-packages/past/builtins/misc.py:45: DeprecationWarning: the imp module is deprecated in favour of importlib and slated for removal in Python 3.12; see the module's documentation for alternative uses\n",
            "  from imp import reload\n",
            "/home/nivalderramas/dev/horus/lda/venv/lib/python3.10/site-packages/past/builtins/misc.py:45: DeprecationWarning: the imp module is deprecated in favour of importlib and slated for removal in Python 3.12; see the module's documentation for alternative uses\n",
            "  from imp import reload\n",
            "/home/nivalderramas/dev/horus/lda/venv/lib/python3.10/site-packages/past/builtins/misc.py:45: DeprecationWarning: the imp module is deprecated in favour of importlib and slated for removal in Python 3.12; see the module's documentation for alternative uses\n",
            "  from imp import reload\n",
            "/home/nivalderramas/dev/horus/lda/venv/lib/python3.10/site-packages/past/builtins/misc.py:45: DeprecationWarning: the imp module is deprecated in favour of importlib and slated for removal in Python 3.12; see the module's documentation for alternative uses\n",
            "  from imp import reload\n",
            "/home/nivalderramas/dev/horus/lda/venv/lib/python3.10/site-packages/past/builtins/misc.py:45: DeprecationWarning: the imp module is deprecated in favour of importlib and slated for removal in Python 3.12; see the module's documentation for alternative uses\n",
            "  from imp import reload\n",
            "/home/nivalderramas/dev/horus/lda/venv/lib/python3.10/site-packages/past/builtins/misc.py:45: DeprecationWarning: the imp module is deprecated in favour of importlib and slated for removal in Python 3.12; see the module's documentation for alternative uses\n",
            "  from imp import reload\n"
          ]
        },
        {
          "data": {
            "text/html": [
              "\n",
              "<link rel=\"stylesheet\" type=\"text/css\" href=\"https://cdn.jsdelivr.net/gh/bmabey/pyLDAvis@3.3.1/pyLDAvis/js/ldavis.v1.0.0.css\">\n",
              "\n",
              "\n",
              "<div id=\"ldavis_el5291404579870492809466394301\"></div>\n",
              "<script type=\"text/javascript\">\n",
              "\n",
              "var ldavis_el5291404579870492809466394301_data = {\"mdsDat\": {\"x\": [0.024180948498654743, -0.019785801204730266, 0.0025902296199214916, -0.015322957297011738, -0.00996604189730012, 0.018303622280465903], \"y\": [-0.01639073404216891, -0.00838941046106237, 0.012681547094463714, -0.01953475072321, 0.024083442708114213, 0.007549905423863386], \"topics\": [1, 2, 3, 4, 5, 6], \"cluster\": [1, 1, 1, 1, 1, 1], \"Freq\": [24.38340042780003, 19.242065040460613, 17.74974027858814, 13.890646873609056, 13.851764535614825, 10.882382843927326]}, \"tinfo\": {\"Term\": [\"agent\", \"immune\", \"glycerol\", \"catalyst\", \"fault\", \"risk\", \"emission\", \"equilibrium\", \"interval\", \"programming\", \"cluster\", \"network\", \"ethanol\", \"parallel\", \"platform\", \"distillation\", \"problem\", \"visual\", \"cell\", \"alcohol\", \"reaction\", \"image\", \"processing\", \"management\", \"liquid\", \"biodiesel\", \"environment\", \"genetic\", \"student\", \"medical\", \"fault\", \"filter\", \"label\", \"finding\", \"run\", \"easy\", \"orient\", \"evolve\", \"software\", \"health\", \"latent\", \"training\", \"early\", \"prototype\", \"medical\", \"question\", \"exchange\", \"convolutional\", \"previously\", \"create\", \"image\", \"divide\", \"estimation\", \"visual\", \"scenario\", \"volume\", \"region\", \"significantly\", \"education\", \"retrieval\", \"collection\", \"market\", \"mean\", \"performance\", \"cluster\", \"feature\", \"service\", \"able\", \"architecture\", \"neural\", \"learn\", \"base\", \"system\", \"design\", \"strategy\", \"content\", \"technique\", \"network\", \"fuzzy\", \"approach\", \"method\", \"well\", \"high\", \"datum\", \"representation\", \"present\", \"model\", \"project\", \"equilibrium\", \"solvent\", \"liquid\", \"alcohol\", \"glycerol\", \"sense\", \"ethanol\", \"formulation\", \"extraction\", \"theory\", \"water\", \"distillation\", \"extractive\", \"feed\", \"thermodynamic\", \"transformation\", \"vehicle\", \"acid\", \"binary\", \"update\", \"constraint\", \"consumption\", \"pressure\", \"light\", \"modify\", \"chemical\", \"distribution\", \"particulate\", \"production\", \"abstract\", \"column\", \"dataset\", \"product\", \"knowledge\", \"phase\", \"innovation\", \"process\", \"price\", \"power\", \"decision\", \"content\", \"method\", \"model\", \"network\", \"datum\", \"system\", \"image\", \"allow\", \"analysis\", \"strategy\", \"document\", \"study\", \"problem\", \"approach\", \"base\", \"emission\", \"interval\", \"assign\", \"catalyst\", \"size\", \"formation\", \"author\", \"importance\", \"course\", \"road\", \"reaction\", \"hour\", \"programming\", \"linear\", \"weight\", \"type\", \"capability\", \"growth\", \"contrast\", \"frequency\", \"consist\", \"student\", \"contain\", \"monitoring\", \"code\", \"change\", \"query\", \"financial\", \"place\", \"group\", \"previous\", \"cluster\", \"solution\", \"problem\", \"measure\", \"fuzzy\", \"decision\", \"make\", \"genetic\", \"source\", \"neural\", \"propose\", \"network\", \"system\", \"model\", \"base\", \"datum\", \"order\", \"result\", \"management\", \"image\", \"different\", \"method\", \"analysis\", \"location\", \"inventory\", \"statistical\", \"life\", \"reduction\", \"biodiesel\", \"emission\", \"national\", \"evidence\", \"glycerol\", \"uncertainty\", \"dimensional\", \"cycle\", \"influence\", \"resolution\", \"economic\", \"transport\", \"line\", \"role\", \"plant\", \"colombian\", \"activity\", \"assessment\", \"security\", \"distillation\", \"structural\", \"correspond\", \"contribute\", \"surface\", \"concept\", \"resource\", \"multimodal\", \"population\", \"increase\", \"design\", \"simulation\", \"generate\", \"study\", \"research\", \"product\", \"reaction\", \"process\", \"production\", \"model\", \"software\", \"image\", \"system\", \"feature\", \"work\", \"visual\", \"technology\", \"source\", \"information\", \"other\", \"representation\", \"development\", \"quality\", \"network\", \"method\", \"base\", \"agent\", \"immune\", \"people\", \"sensor\", \"distribute\", \"inspire\", \"exploration\", \"special\", \"plan\", \"detect\", \"complete\", \"answer\", \"kinetic\", \"reliable\", \"chain\", \"heterogeneous\", \"random\", \"decrease\", \"environment\", \"estimation\", \"constant\", \"local\", \"close\", \"manage\", \"locate\", \"self\", \"major\", \"cell\", \"artificial\", \"compute\", \"device\", \"mobile\", \"network\", \"error\", \"carry\", \"management\", \"problem\", \"control\", \"data\", \"information\", \"model\", \"student\", \"fuzzy\", \"solution\", \"system\", \"service\", \"propose\", \"learning\", \"process\", \"datum\", \"algorithm\", \"different\", \"application\", \"result\", \"method\", \"project\", \"obtain\", \"approach\", \"base\", \"risk\", \"multi\", \"third\", \"operate\", \"configuration\", \"indexing\", \"platform\", \"parallel\", \"low\", \"adapt\", \"processing\", \"biological\", \"position\", \"embed\", \"internet\", \"strong\", \"patient\", \"retrieve\", \"continuous\", \"mode\", \"institution\", \"particle\", \"plan\", \"series\", \"society\", \"programming\", \"effectiveness\", \"word\", \"intelligence\", \"transfer\", \"engineering\", \"cell\", \"space\", \"objective\", \"time\", \"evolutionary\", \"retrieval\", \"structure\", \"flow\", \"genetic\", \"implementation\", \"communication\", \"datum\", \"problem\", \"model\", \"algorithm\", \"image\", \"evaluation\", \"cluster\", \"network\", \"propose\", \"obtain\", \"different\", \"number\", \"method\", \"information\", \"approach\", \"base\", \"application\", \"technique\"], \"Freq\": [8.0, 6.0, 5.0, 7.0, 8.0, 4.0, 10.0, 5.0, 5.0, 6.0, 16.0, 21.0, 6.0, 4.0, 5.0, 5.0, 14.0, 8.0, 5.0, 4.0, 7.0, 22.0, 5.0, 8.0, 4.0, 3.0, 8.0, 8.0, 8.0, 5.0, 5.977609344398493, 1.9274927292292305, 2.607847105745484, 1.5170380333702502, 1.792055988567552, 1.6817826923356582, 1.7809524848833207, 3.1632803743346978, 5.852891918577253, 2.1391663111545656, 2.593733197946257, 2.726532407664188, 1.9065217414771607, 2.0391050829803974, 2.5842391310723847, 2.018570836666725, 1.2564405971763124, 2.4223329650429317, 1.3175171573440123, 1.7480067954656413, 9.418969107376482, 1.0647022925515999, 1.8125435577319784, 3.7996278827165386, 2.1585106709783726, 1.5876741607471276, 2.8442671930891588, 1.1448608847882544, 2.638871198116939, 3.1172482184239176, 3.28940660138772, 2.042033448469446, 2.3244073524524396, 4.196582110793653, 6.147055012478853, 4.293138744615356, 3.681745558330315, 2.2327151521703215, 3.393308412345289, 3.4610958191591035, 3.9121544122438436, 4.384514976502579, 5.01027558517366, 4.213891608041247, 3.5813411606253283, 2.813319046289204, 3.655400061337811, 5.099669398274732, 3.546444496934626, 3.6753487215973086, 3.8901872100896884, 3.09431874888531, 3.233247136158754, 3.5698775139014614, 3.15805144557373, 3.2254031989945835, 3.604785058046533, 3.0817661862881285, 3.291239477026032, 1.863288329421391, 2.4583939777394535, 2.6056651311771386, 2.9798708324903878, 1.8183790567621858, 3.181435534327409, 1.4793947419317826, 2.9532564927689577, 2.8989603684892233, 2.3712708336693655, 2.079811168728797, 1.4453958682857617, 1.196790696211024, 1.1683433599984752, 1.2324808929262812, 2.157451981878275, 1.7315226021759567, 1.4573944909043628, 0.9666378433663708, 1.4849385517240612, 1.5186085713059552, 1.4807103299136508, 1.0643554117875051, 1.1752016415577828, 1.6586816845598544, 1.9105976357099643, 1.2692144070653524, 3.367270536652206, 1.7587828009758106, 2.0479361943334933, 2.044406379561623, 2.7602576236069867, 3.24207313269596, 2.1807180205332046, 2.341508081200309, 3.9202347816612457, 1.9498964691372662, 1.9673380987619098, 2.2521760338263745, 2.3092183900609493, 3.4490712249188715, 3.784343009194516, 3.7766428440585074, 3.0078132961449557, 3.3782918702478586, 3.620276943837411, 2.484664351565089, 2.5897269570780472, 2.5339964108674233, 2.381218712040549, 2.4712773294120405, 2.515809321455639, 2.4571733538815868, 2.3711784454257625, 2.2398248590439858, 2.529197184078006, 1.6321356358450094, 3.413185390849662, 2.418423386219863, 1.233774542219439, 2.2171111940937385, 1.5979350585818588, 2.4132612142636996, 1.7717032583822914, 2.848006131592393, 0.8596108524258856, 2.324784805768192, 1.688393932464361, 1.4606961794448334, 2.7078763221067734, 1.2779942128315334, 1.2626546195876087, 0.8758162199065358, 1.863758559445787, 1.1276478554939826, 2.8693508604007025, 1.1473462588714463, 1.3502558286214186, 2.7785208385835833, 2.090068349083705, 1.8897281431832778, 0.9791836918222945, 1.101211208297159, 2.4199231850439995, 1.630502141392697, 5.0748401976788085, 2.6236426905130052, 3.6024245826186307, 2.445050993226836, 3.015463074025774, 2.0653470136282377, 2.300177365048102, 2.247034461698109, 2.5145505428784607, 2.48822882006344, 2.779367999981078, 3.6166165953195204, 3.204169067353462, 3.1339500324611085, 2.7058566310413172, 2.6452655822633493, 2.332511747766771, 2.4203529436213, 2.161303882608767, 2.8883007900303794, 2.3521433033301467, 2.35585050568347, 2.275818148320135, 1.4560362549095829, 1.3425820061053941, 1.1257981211859902, 1.1421859061602633, 1.1740810642257027, 1.2879017587531332, 3.5164471271188633, 1.0378713541887703, 0.8112161826410982, 1.7914095874286997, 1.315045643058529, 0.9392020002365555, 1.0286053352342939, 1.1842979081792537, 0.8957397523388269, 1.0625631761106333, 0.9949133410607597, 1.0788856306058305, 0.7877032225613083, 1.2362255977375833, 1.681319672346791, 1.704625050097904, 0.9928113607890113, 1.0535802972210704, 1.312599655045916, 0.8267909316627727, 0.8298912162001727, 0.7372481340673864, 0.9190547375133336, 1.636753624476212, 1.5855415949856344, 1.5712213275256466, 1.504336429328027, 1.6829799590759442, 3.09707429435229, 1.8449427704111514, 1.7301263749198919, 2.4854587789827165, 1.9249794254505999, 1.8226795811564163, 1.6823427699631355, 2.4655834373332195, 1.9008101233945909, 2.8847242043373065, 2.21787307055995, 3.0254510149369875, 2.712912234439325, 2.1297173369690805, 1.9654026283871402, 1.807245596383301, 1.740002558234922, 1.8423563280668627, 2.0044220318074455, 1.7042397614281357, 1.8300406030104, 1.7595966193208072, 1.7152012736697495, 1.9699108033436394, 1.8143477756560502, 1.7268987765266837, 4.334619689392224, 2.8699227142403774, 1.3860373580371015, 1.7528915722541505, 1.4200507138613494, 1.2877621300185635, 1.3364495209021645, 0.9523191995301596, 1.146836728795789, 1.3762764662799305, 0.986527318268875, 1.3489895082354313, 0.9340742225928254, 0.7592251516736646, 1.3864617446352394, 0.9418302492615606, 1.4460148169723581, 0.798824945762739, 2.335018577106172, 1.2167930211056115, 0.9306398187275571, 1.4288390890535478, 0.8276321794797985, 0.6584113921104829, 0.7891953381789507, 1.646441617477191, 0.7112285479471839, 1.3948440289521442, 1.569104360816941, 0.9107319089273767, 1.5697635013183309, 1.4833504535495787, 5.1946126140824616, 1.095824668533224, 1.6265546612244572, 1.9378358645415117, 2.6617945269958443, 1.8486792000646117, 1.4664265390593754, 2.3962741406258004, 2.992634352512427, 1.7935103021239274, 2.1189043068401117, 1.8219375287327213, 2.609545156666061, 1.8513664461672394, 1.9323925161360924, 1.7606671308432196, 1.945279380484907, 1.8628049815373813, 1.7598359116512945, 1.7586738860111848, 1.7059625486795833, 1.7205124695109928, 1.7651896357387267, 1.6364483205919982, 1.6473671585375633, 1.6871111550637854, 1.6224595098010628, 1.7307171858732975, 1.057294933620235, 0.7777140554634729, 0.8301206988380501, 0.9547068504914735, 0.8036869852474585, 1.5310960648618999, 1.2921191799236629, 1.0259771739024643, 0.5986508168521386, 1.340090226792096, 0.9632376394059313, 0.746278635384926, 0.9976354492117403, 0.9928043332509855, 0.6996846954794536, 1.2508615234296903, 0.6281055803911304, 0.5925768617359121, 0.9713030313341408, 0.8479034866043362, 1.2298129929548092, 0.8240685956253933, 0.8948537096575658, 0.5999432841086063, 1.447350052664911, 0.5954102766723275, 1.0751592047069432, 0.7958921198854417, 1.0784395153512512, 1.7965155012717278, 1.0906799805352683, 1.6326295265646031, 1.1240506537537311, 1.98497972015745, 1.6187219068175773, 1.3965969185535583, 1.4726982608057324, 1.1866509187848469, 1.4623634758521338, 1.469547119191414, 1.356825968458895, 1.9325151449585205, 1.88032600086414, 2.182886680733271, 1.6711642416346515, 2.2759070292835153, 1.354049028553261, 1.7704375366712506, 1.9198925142609626, 1.5478056813639867, 1.4425269005090127, 1.4804445178222532, 1.2735591442272962, 1.5308536544116336, 1.4149333849965142, 1.4227599598986, 1.4181869877586815, 1.354290467807813, 1.3572103677225784], \"Total\": [8.0, 6.0, 5.0, 7.0, 8.0, 4.0, 10.0, 5.0, 5.0, 6.0, 16.0, 21.0, 6.0, 4.0, 5.0, 5.0, 14.0, 8.0, 5.0, 4.0, 7.0, 22.0, 5.0, 8.0, 4.0, 3.0, 8.0, 8.0, 8.0, 5.0, 8.993370750222066, 3.264318320967243, 4.548721839469695, 2.95723525840609, 3.5281729912948077, 3.338797445710464, 3.592339194177486, 6.57511794644084, 12.471717371510842, 4.66752633959437, 5.729005961784526, 6.030487632685279, 4.252775937394468, 4.555199328524767, 5.786775360888685, 4.574318437281863, 2.9091600183841706, 5.61993600495605, 3.0577819781265982, 4.087134158314875, 22.169256457099298, 2.5154006897721723, 4.285113871011267, 8.986242800950347, 5.122108876026471, 3.7755626273871545, 6.787993990106178, 2.7362825439499576, 6.311118728129051, 7.502917806382419, 7.933610342999302, 4.975929177282211, 5.707587575514395, 11.065982307124731, 16.995114385706426, 11.983101263140792, 10.150337403855016, 5.541099150196243, 9.643523656052082, 9.901745804345875, 11.762345040004993, 14.229095327056086, 18.19519859270415, 14.129713778460653, 11.276377406557588, 7.659332980655913, 11.912415715109203, 21.57734476933982, 11.589213861353567, 12.896539744588885, 14.80550000649844, 9.451242511406315, 10.62131348824267, 14.10076338359965, 10.534228156947625, 11.53821212912542, 18.58332333728516, 9.813274275040298, 5.517467198498983, 3.3541476465455946, 4.532038406043969, 4.832698102759354, 5.839224176085913, 3.660648861177137, 6.614099602594052, 3.1469082681124423, 6.41060678704059, 6.331465999444618, 5.574730366890957, 5.00874413409354, 3.5304298877299223, 2.9253524238804034, 2.8842534563543514, 3.0533395456570496, 5.384466025132199, 4.372660538773859, 3.685653397202304, 2.5354192249114957, 3.913132283283092, 4.029954604497446, 3.9449451788989616, 2.903328745942922, 3.217545678452163, 4.5989542669673185, 5.329687438551296, 3.5453363246663527, 9.44502491920481, 5.040006864033471, 5.889877685813987, 5.906095945949784, 8.206756441932436, 9.964298416324882, 6.492141549909293, 7.117332328666629, 14.158570303400026, 5.729510370950869, 5.849244068823758, 7.261771392123194, 7.659332980655913, 14.80550000649844, 18.58332333728516, 21.57734476933982, 14.10076338359965, 18.19519859270415, 22.169256457099298, 10.03231414595146, 11.469838114312058, 11.276377406557588, 9.399489142310378, 11.959767073961435, 14.017612360636669, 12.896539744588885, 14.229095327056086, 10.435256650379158, 5.085524305431745, 3.4108808087117524, 7.458952799328878, 5.661776966288216, 2.9456399237381663, 5.298137152967766, 3.828987245215653, 6.060286639723431, 4.464564973407204, 7.599658226810186, 2.3978514437823066, 6.592050206799223, 4.792929415167652, 4.154548498018186, 7.7378477752065145, 3.680478936400019, 3.671778685944426, 2.5496624478380845, 5.443615717144905, 3.330431711590639, 8.632532437815362, 3.517027093007806, 4.147570670121429, 8.700045969255905, 6.57708080703541, 5.954829138854609, 3.0970894914161455, 3.5024243983935723, 7.736082220266334, 5.352290802598314, 16.995114385706426, 9.120673303066152, 14.017612360636669, 8.89784358664846, 11.589213861353567, 7.261771392123194, 8.498998761845403, 8.315437101333115, 9.890117498313378, 9.901745804345875, 12.529312283851617, 21.57734476933982, 18.19519859270415, 18.58332333728516, 14.229095327056086, 14.10076338359965, 10.289734067894168, 11.633706309255796, 8.366311782152103, 22.169256457099298, 11.893353718531506, 14.80550000649844, 11.469838114312058, 3.973694312974489, 3.710445585841362, 3.144436613663234, 3.2079184243915213, 3.3506210241098455, 3.7897346815883606, 10.435256650379158, 3.176136471047014, 2.6381970523065856, 5.839224176085913, 4.299953536230551, 3.219232339538373, 3.5339914911166743, 4.1029789525322755, 3.1136809239586594, 3.7159898740458095, 3.5365241772686646, 3.8388477023447196, 2.8437428290721067, 4.465459804656274, 6.197773349682783, 6.389751795089575, 3.7516131284550154, 3.999158861583581, 5.00874413409354, 3.18543817047959, 3.2025012170240306, 2.8510603046563054, 3.576417276661882, 6.385991703667715, 6.308431877619242, 6.288653464080393, 6.049510844501309, 7.060450451494337, 14.129713778460653, 7.87864388177946, 7.403814435335864, 11.959767073961435, 8.736382990803543, 8.206756441932436, 7.599658226810186, 14.158570303400026, 9.44502491920481, 18.58332333728516, 12.471717371510842, 22.169256457099298, 18.19519859270415, 11.983101263140792, 10.734112631694412, 8.986242800950347, 8.405482175073566, 9.890117498313378, 12.590233278521357, 8.340307856352203, 10.534228156947625, 9.403487173745322, 8.80843314023348, 21.57734476933982, 14.80550000649844, 14.229095327056086, 8.889022406335505, 6.239835095700141, 3.642394848827233, 4.997230576136152, 4.057105301345426, 3.706804380144993, 3.970324018680342, 3.065662122053374, 3.7046434851816086, 4.511218119366406, 3.2467922911801295, 4.476386424598312, 3.1005668063124436, 2.529136241386612, 4.665820077291436, 3.1859381764623795, 4.896889279837813, 2.7157430523936195, 8.004551206786218, 4.285113871011267, 3.315342303648233, 5.101076105284644, 3.010692159952254, 2.433355466669392, 2.920009582494235, 6.108117665865495, 2.6467204305655323, 5.247685697792207, 5.939820851266781, 3.4583546764158863, 5.976856151877806, 5.717612036590296, 21.57734476933982, 4.186610815413372, 6.72882651517545, 8.366311782152103, 14.017612360636669, 8.53821838198717, 6.277800766642166, 12.590233278521357, 18.58332333728516, 8.632532437815362, 11.589213861353567, 9.120673303066152, 18.19519859270415, 10.150337403855016, 12.529312283851617, 10.099333705224714, 14.158570303400026, 14.10076338359965, 11.471190501888819, 11.893353718531506, 10.718427815372948, 11.633706309255796, 14.80550000649844, 9.813274275040298, 10.86011081529981, 12.896539744588885, 14.229095327056086, 4.6977089541500465, 3.217190011159334, 2.4317951449394037, 2.874712238105389, 3.373697455158256, 2.85855961960503, 5.676826224920244, 4.870829849580709, 4.184532531349037, 2.462046843410653, 5.622332204941232, 4.060799250504552, 3.1465031661628515, 4.230961648520251, 4.256466359467561, 3.006481079093612, 5.377937785306498, 2.7092189636861126, 2.559977694621248, 4.207679426167106, 3.7117509340649324, 5.399024676957964, 3.7046434851816086, 4.056140131968327, 2.7303294159483906, 6.592050206799223, 2.735095115040399, 4.989905350565982, 3.6961296154098395, 5.034844118732145, 8.612743000289873, 5.247685697792207, 8.405356802572022, 5.485911079270478, 11.193623101902773, 8.736268030438357, 7.502917806382419, 8.066697725818242, 6.128314441533377, 8.315437101333115, 8.585209193639583, 7.689408903386883, 14.10076338359965, 14.017612360636669, 18.58332333728516, 11.471190501888819, 22.169256457099298, 8.191794849006024, 16.995114385706426, 21.57734476933982, 12.529312283851617, 10.86011081529981, 11.893353718531506, 8.068555398134995, 14.80550000649844, 12.590233278521357, 12.896539744588885, 14.229095327056086, 10.718427815372948, 11.912415715109203], \"Category\": [\"Default\", \"Default\", \"Default\", \"Default\", \"Default\", \"Default\", \"Default\", \"Default\", \"Default\", \"Default\", \"Default\", \"Default\", \"Default\", \"Default\", \"Default\", \"Default\", \"Default\", \"Default\", \"Default\", \"Default\", \"Default\", \"Default\", \"Default\", \"Default\", \"Default\", \"Default\", \"Default\", \"Default\", \"Default\", \"Default\", \"Topic1\", \"Topic1\", \"Topic1\", \"Topic1\", \"Topic1\", \"Topic1\", \"Topic1\", \"Topic1\", \"Topic1\", \"Topic1\", \"Topic1\", \"Topic1\", \"Topic1\", \"Topic1\", \"Topic1\", \"Topic1\", \"Topic1\", \"Topic1\", \"Topic1\", \"Topic1\", \"Topic1\", \"Topic1\", \"Topic1\", \"Topic1\", \"Topic1\", \"Topic1\", \"Topic1\", \"Topic1\", \"Topic1\", \"Topic1\", \"Topic1\", \"Topic1\", \"Topic1\", \"Topic1\", \"Topic1\", \"Topic1\", \"Topic1\", \"Topic1\", \"Topic1\", \"Topic1\", \"Topic1\", \"Topic1\", \"Topic1\", \"Topic1\", \"Topic1\", \"Topic1\", \"Topic1\", \"Topic1\", \"Topic1\", \"Topic1\", \"Topic1\", \"Topic1\", \"Topic1\", \"Topic1\", \"Topic1\", \"Topic1\", \"Topic1\", \"Topic1\", \"Topic2\", \"Topic2\", \"Topic2\", \"Topic2\", \"Topic2\", \"Topic2\", \"Topic2\", \"Topic2\", \"Topic2\", \"Topic2\", \"Topic2\", \"Topic2\", \"Topic2\", \"Topic2\", \"Topic2\", \"Topic2\", \"Topic2\", \"Topic2\", \"Topic2\", \"Topic2\", \"Topic2\", \"Topic2\", \"Topic2\", \"Topic2\", \"Topic2\", \"Topic2\", \"Topic2\", \"Topic2\", \"Topic2\", \"Topic2\", \"Topic2\", \"Topic2\", \"Topic2\", \"Topic2\", \"Topic2\", \"Topic2\", \"Topic2\", \"Topic2\", \"Topic2\", \"Topic2\", \"Topic2\", \"Topic2\", \"Topic2\", \"Topic2\", \"Topic2\", \"Topic2\", \"Topic2\", \"Topic2\", \"Topic2\", \"Topic2\", \"Topic2\", \"Topic2\", \"Topic2\", \"Topic2\", \"Topic2\", \"Topic2\", \"Topic3\", \"Topic3\", \"Topic3\", \"Topic3\", \"Topic3\", \"Topic3\", \"Topic3\", \"Topic3\", \"Topic3\", \"Topic3\", \"Topic3\", \"Topic3\", \"Topic3\", \"Topic3\", \"Topic3\", \"Topic3\", \"Topic3\", \"Topic3\", \"Topic3\", \"Topic3\", \"Topic3\", \"Topic3\", \"Topic3\", \"Topic3\", \"Topic3\", \"Topic3\", \"Topic3\", \"Topic3\", \"Topic3\", \"Topic3\", \"Topic3\", \"Topic3\", \"Topic3\", \"Topic3\", \"Topic3\", \"Topic3\", \"Topic3\", \"Topic3\", \"Topic3\", \"Topic3\", \"Topic3\", \"Topic3\", \"Topic3\", \"Topic3\", \"Topic3\", \"Topic3\", \"Topic3\", \"Topic3\", \"Topic3\", \"Topic3\", \"Topic3\", \"Topic3\", \"Topic3\", \"Topic4\", \"Topic4\", \"Topic4\", \"Topic4\", \"Topic4\", \"Topic4\", \"Topic4\", \"Topic4\", \"Topic4\", \"Topic4\", \"Topic4\", \"Topic4\", \"Topic4\", \"Topic4\", \"Topic4\", \"Topic4\", \"Topic4\", \"Topic4\", \"Topic4\", \"Topic4\", \"Topic4\", \"Topic4\", \"Topic4\", \"Topic4\", \"Topic4\", \"Topic4\", \"Topic4\", \"Topic4\", \"Topic4\", \"Topic4\", \"Topic4\", \"Topic4\", \"Topic4\", \"Topic4\", \"Topic4\", \"Topic4\", \"Topic4\", \"Topic4\", \"Topic4\", \"Topic4\", \"Topic4\", \"Topic4\", \"Topic4\", \"Topic4\", \"Topic4\", \"Topic4\", \"Topic4\", \"Topic4\", \"Topic4\", \"Topic4\", \"Topic4\", \"Topic4\", \"Topic4\", \"Topic4\", \"Topic4\", \"Topic4\", \"Topic4\", \"Topic4\", \"Topic4\", \"Topic4\", \"Topic5\", \"Topic5\", \"Topic5\", \"Topic5\", \"Topic5\", \"Topic5\", \"Topic5\", \"Topic5\", \"Topic5\", \"Topic5\", \"Topic5\", \"Topic5\", \"Topic5\", \"Topic5\", \"Topic5\", \"Topic5\", \"Topic5\", \"Topic5\", \"Topic5\", \"Topic5\", \"Topic5\", \"Topic5\", \"Topic5\", \"Topic5\", \"Topic5\", \"Topic5\", \"Topic5\", \"Topic5\", \"Topic5\", \"Topic5\", \"Topic5\", \"Topic5\", \"Topic5\", \"Topic5\", \"Topic5\", \"Topic5\", \"Topic5\", \"Topic5\", \"Topic5\", \"Topic5\", \"Topic5\", \"Topic5\", \"Topic5\", \"Topic5\", \"Topic5\", \"Topic5\", \"Topic5\", \"Topic5\", \"Topic5\", \"Topic5\", \"Topic5\", \"Topic5\", \"Topic5\", \"Topic5\", \"Topic5\", \"Topic5\", \"Topic5\", \"Topic5\", \"Topic5\", \"Topic6\", \"Topic6\", \"Topic6\", \"Topic6\", \"Topic6\", \"Topic6\", \"Topic6\", \"Topic6\", \"Topic6\", \"Topic6\", \"Topic6\", \"Topic6\", \"Topic6\", \"Topic6\", \"Topic6\", \"Topic6\", \"Topic6\", \"Topic6\", \"Topic6\", \"Topic6\", \"Topic6\", \"Topic6\", \"Topic6\", \"Topic6\", \"Topic6\", \"Topic6\", \"Topic6\", \"Topic6\", \"Topic6\", \"Topic6\", \"Topic6\", \"Topic6\", \"Topic6\", \"Topic6\", \"Topic6\", \"Topic6\", \"Topic6\", \"Topic6\", \"Topic6\", \"Topic6\", \"Topic6\", \"Topic6\", \"Topic6\", \"Topic6\", \"Topic6\", \"Topic6\", \"Topic6\", \"Topic6\", \"Topic6\", \"Topic6\", \"Topic6\", \"Topic6\", \"Topic6\", \"Topic6\", \"Topic6\", \"Topic6\", \"Topic6\", \"Topic6\", \"Topic6\", \"Topic6\"], \"logprob\": [30.0, 29.0, 28.0, 27.0, 26.0, 25.0, 24.0, 23.0, 22.0, 21.0, 20.0, 19.0, 18.0, 17.0, 16.0, 15.0, 14.0, 13.0, 12.0, 11.0, 10.0, 9.0, 8.0, 7.0, 6.0, 5.0, 4.0, 3.0, 2.0, 1.0, -5.0521, -6.1839, -5.8816, -6.4234, -6.2568, -6.3203, -6.263, -5.6885, -5.0732, -6.0797, -5.887, -5.8371, -6.1949, -6.1276, -5.8907, -6.1378, -6.6119, -5.9554, -6.5644, -6.2817, -4.5974, -6.7774, -6.2454, -5.5052, -6.0707, -6.3779, -5.7948, -6.7049, -5.8698, -5.7032, -5.6494, -6.1262, -5.9967, -5.4059, -5.0242, -5.3831, -5.5368, -6.0369, -5.6183, -5.5986, -5.4761, -5.3621, -5.2287, -5.4018, -5.5644, -5.8058, -5.5439, -5.211, -5.5742, -5.5385, -5.4817, -5.7106, -5.6667, -5.5676, -5.6902, -5.6691, -5.5579, -5.7146, -5.4121, -5.981, -5.7038, -5.6457, -5.5115, -6.0054, -5.446, -6.2117, -5.5204, -5.539, -5.7399, -5.8711, -6.235, -6.4237, -6.4478, -6.3943, -5.8344, -6.0543, -6.2267, -6.6373, -6.208, -6.1855, -6.2108, -6.541, -6.4419, -6.0973, -5.9559, -6.3649, -5.3892, -6.0387, -5.8865, -5.8882, -5.588, -5.4271, -5.8237, -5.7525, -5.2372, -5.9356, -5.9267, -5.7914, -5.7664, -5.3652, -5.2725, -5.2745, -5.5021, -5.386, -5.3168, -5.6932, -5.6518, -5.6735, -5.7357, -5.6986, -5.6807, -5.7043, -5.74, -5.7969, -5.5947, -6.0327, -5.295, -5.6395, -6.3125, -5.7264, -6.0539, -5.6416, -5.9507, -5.476, -6.6739, -5.679, -5.9988, -6.1437, -5.5264, -6.2773, -6.2894, -6.6552, -5.9, -6.4025, -5.4685, -6.3852, -6.2223, -5.5007, -5.7854, -5.8862, -6.5436, -6.4262, -5.6389, -6.0337, -4.8983, -5.558, -5.241, -5.6285, -5.4189, -5.7973, -5.6896, -5.713, -5.6005, -5.611, -5.5004, -5.2371, -5.3582, -5.3803, -5.5272, -5.5498, -5.6757, -5.6387, -5.7519, -5.4619, -5.6673, -5.6657, -5.7003, -5.9017, -5.9829, -6.159, -6.1445, -6.117, -6.0244, -5.02, -6.2403, -6.4867, -5.6945, -6.0036, -6.3402, -6.2493, -6.1083, -6.3876, -6.2168, -6.2826, -6.2015, -6.5161, -6.0654, -5.7579, -5.7441, -6.2847, -6.2253, -6.0054, -6.4677, -6.4639, -6.5823, -6.3619, -5.7847, -5.8165, -5.8256, -5.8691, -5.7569, -5.147, -5.665, -5.7293, -5.367, -5.6225, -5.6771, -5.7573, -5.375, -5.6352, -5.218, -5.4809, -5.1704, -5.2794, -5.5215, -5.6018, -5.6857, -5.7236, -5.6664, -5.5821, -5.7443, -5.6731, -5.7124, -5.7379, -5.5995, -5.6817, -5.7311, -4.808, -5.2204, -5.9482, -5.7134, -5.924, -6.0217, -5.9846, -6.3235, -6.1376, -5.9553, -6.2882, -5.9753, -6.3429, -6.5501, -5.9479, -6.3346, -5.9058, -6.4993, -5.4266, -6.0784, -6.3465, -5.9178, -6.4638, -6.6926, -6.5114, -5.776, -6.6154, -5.9419, -5.8241, -6.3682, -5.8237, -5.8804, -4.627, -6.1831, -5.7882, -5.6131, -5.2957, -5.6602, -5.8918, -5.4007, -5.1785, -5.6905, -5.5238, -5.6748, -5.3155, -5.6587, -5.6159, -5.709, -5.6092, -5.6526, -5.7094, -5.7101, -5.7405, -5.732, -5.7064, -5.7821, -5.7755, -5.7516, -5.7907, -5.4849, -5.9777, -6.2848, -6.2196, -6.0797, -6.2519, -5.6074, -5.7771, -6.0077, -6.5465, -5.7406, -6.0708, -6.326, -6.0358, -6.0406, -6.3905, -5.8096, -6.4984, -6.5567, -6.0625, -6.1984, -5.8265, -6.2269, -6.1445, -6.5443, -5.6637, -6.5519, -5.9609, -6.2617, -5.9579, -5.4475, -5.9466, -5.5432, -5.9164, -5.3478, -5.5517, -5.6993, -5.6463, -5.8623, -5.6533, -5.6484, -5.7282, -5.3746, -5.4019, -5.2527, -5.5199, -5.211, -5.7303, -5.4622, -5.3811, -5.5965, -5.667, -5.641, -5.7916, -5.6076, -5.6863, -5.6808, -5.684, -5.7301, -5.728], \"loglift\": [30.0, 29.0, 28.0, 27.0, 26.0, 25.0, 24.0, 23.0, 22.0, 21.0, 20.0, 19.0, 18.0, 17.0, 16.0, 15.0, 14.0, 13.0, 12.0, 11.0, 10.0, 9.0, 8.0, 7.0, 6.0, 5.0, 4.0, 3.0, 2.0, 1.0, 1.0028, 0.8844, 0.8549, 0.7438, 0.7339, 0.7255, 0.7096, 0.6796, 0.6547, 0.6311, 0.6188, 0.6175, 0.609, 0.6075, 0.6051, 0.5932, 0.5717, 0.5697, 0.5693, 0.5619, 0.5553, 0.5515, 0.5509, 0.5505, 0.5471, 0.545, 0.5414, 0.54, 0.5393, 0.5329, 0.5309, 0.5206, 0.5129, 0.4417, 0.3943, 0.3848, 0.3971, 0.5023, 0.3668, 0.3601, 0.3105, 0.2341, 0.1216, 0.2014, 0.2643, 0.4097, 0.2299, -0.0312, 0.2271, 0.156, 0.0747, 0.2947, 0.2219, 0.0376, 0.2066, 0.1367, -0.2287, 0.253, 1.1314, 1.0602, 1.0364, 1.0304, 0.9754, 0.9484, 0.9162, 0.8933, 0.873, 0.8669, 0.7933, 0.7692, 0.755, 0.7543, 0.7444, 0.7409, 0.7335, 0.7217, 0.7203, 0.6838, 0.6791, 0.6721, 0.6682, 0.6446, 0.6409, 0.6283, 0.6222, 0.6208, 0.6167, 0.5953, 0.5917, 0.5872, 0.5584, 0.5253, 0.5571, 0.5363, 0.3639, 0.5702, 0.5584, 0.4773, 0.4491, 0.1912, 0.0567, -0.0947, 0.1031, -0.0357, -0.1641, 0.2524, 0.1599, 0.1552, 0.275, 0.0713, -0.0696, -0.0099, -0.1438, 0.1093, 1.0303, 0.9917, 0.947, 0.8782, 0.8586, 0.8576, 0.8549, 0.808, 0.8046, 0.7473, 0.703, 0.6866, 0.6854, 0.6835, 0.6788, 0.671, 0.6613, 0.6602, 0.657, 0.6458, 0.6273, 0.6086, 0.6066, 0.5874, 0.5824, 0.581, 0.5773, 0.5718, 0.5666, 0.5402, 0.5202, 0.4828, 0.3701, 0.4371, 0.3825, 0.4715, 0.4218, 0.4203, 0.3594, 0.3477, 0.223, -0.0573, -0.0079, -0.0512, 0.0689, 0.0553, 0.2446, 0.1588, 0.3753, -0.3092, 0.1081, -0.1093, 0.1114, 0.97, 0.9574, 0.9468, 0.9413, 0.9253, 0.8947, 0.8862, 0.8555, 0.7946, 0.7924, 0.7892, 0.7421, 0.7397, 0.7314, 0.728, 0.722, 0.7057, 0.7047, 0.6902, 0.6896, 0.6693, 0.6526, 0.6446, 0.6401, 0.6348, 0.6252, 0.6236, 0.6214, 0.6152, 0.6126, 0.593, 0.5871, 0.5823, 0.54, 0.4561, 0.5222, 0.5202, 0.4029, 0.4614, 0.4693, 0.466, 0.2261, 0.3707, 0.1111, 0.247, -0.0177, 0.0708, 0.2464, 0.2762, 0.3701, 0.399, 0.2935, 0.1364, 0.386, 0.2237, 0.298, 0.3378, -0.4197, -0.1253, -0.135, 1.2586, 1.2001, 1.0106, 0.9291, 0.927, 0.9195, 0.8879, 0.8076, 0.8042, 0.7896, 0.7855, 0.7773, 0.777, 0.7734, 0.7632, 0.7581, 0.757, 0.7531, 0.7448, 0.7178, 0.7063, 0.7042, 0.6854, 0.6696, 0.6684, 0.6658, 0.6627, 0.6518, 0.6456, 0.6425, 0.6398, 0.6275, 0.5527, 0.6364, 0.5568, 0.5141, 0.3154, 0.4467, 0.5226, 0.3178, 0.1506, 0.4054, 0.2776, 0.3661, 0.0348, 0.2752, 0.1074, 0.23, -0.0082, -0.0474, 0.1021, 0.0653, 0.1389, 0.0655, -0.15, 0.1855, 0.0908, -0.0572, -0.1946, 1.2195, 1.1052, 1.078, 0.9759, 0.9557, 0.9492, 0.9076, 0.891, 0.8123, 0.804, 0.784, 0.7792, 0.7791, 0.7732, 0.7624, 0.7601, 0.7596, 0.7563, 0.7548, 0.752, 0.7415, 0.7387, 0.7149, 0.7067, 0.7027, 0.7019, 0.6934, 0.6831, 0.6824, 0.6772, 0.6506, 0.647, 0.5793, 0.6328, 0.4883, 0.5322, 0.5368, 0.5174, 0.5762, 0.48, 0.4529, 0.4833, 0.2306, 0.2092, 0.0764, 0.2917, -0.0583, 0.418, -0.0437, -0.2013, 0.1268, 0.1993, 0.1344, 0.3719, -0.0511, 0.0322, 0.0137, -0.0879, 0.1493, 0.0459]}, \"token.table\": {\"Topic\": [1, 2, 3, 5, 6, 1, 2, 4, 2, 3, 4, 5, 1, 2, 3, 4, 5, 6, 6, 1, 2, 3, 4, 5, 2, 3, 1, 2, 3, 4, 5, 6, 1, 2, 3, 4, 5, 6, 1, 2, 3, 4, 5, 6, 1, 3, 5, 1, 2, 3, 4, 5, 6, 1, 2, 3, 4, 5, 6, 1, 2, 3, 4, 5, 6, 2, 3, 4, 5, 1, 2, 4, 5, 1, 3, 1, 3, 5, 1, 2, 3, 4, 5, 6, 1, 2, 2, 3, 4, 1, 2, 3, 5, 6, 3, 4, 6, 1, 2, 3, 4, 5, 6, 2, 3, 4, 5, 6, 2, 3, 4, 5, 6, 2, 3, 5, 6, 1, 2, 3, 4, 5, 2, 3, 4, 5, 1, 2, 3, 5, 1, 2, 3, 4, 5, 6, 1, 2, 3, 4, 5, 6, 1, 2, 3, 4, 5, 6, 1, 2, 3, 4, 5, 6, 2, 3, 4, 5, 1, 2, 3, 5, 6, 1, 3, 5, 1, 3, 5, 6, 1, 2, 3, 4, 5, 6, 1, 4, 5, 6, 1, 3, 5, 1, 4, 5, 2, 3, 5, 6, 1, 2, 3, 4, 1, 3, 1, 2, 3, 4, 6, 2, 3, 6, 2, 3, 5, 1, 4, 5, 1, 2, 3, 4, 5, 6, 1, 2, 3, 4, 1, 2, 3, 4, 2, 3, 4, 5, 6, 1, 4, 5, 2, 4, 6, 1, 2, 3, 5, 6, 1, 2, 3, 4, 6, 1, 2, 3, 4, 5, 6, 1, 2, 3, 4, 5, 1, 3, 5, 1, 2, 3, 4, 5, 6, 1, 2, 5, 1, 2, 3, 4, 5, 6, 1, 2, 3, 4, 5, 6, 1, 2, 3, 4, 5, 6, 3, 4, 2, 4, 5, 2, 4, 5, 2, 3, 4, 1, 1, 2, 3, 4, 5, 6, 1, 4, 5, 6, 1, 2, 1, 2, 4, 5, 1, 2, 3, 4, 5, 6, 1, 2, 6, 1, 2, 3, 4, 6, 1, 2, 3, 4, 5, 6, 1, 2, 3, 4, 5, 6, 1, 2, 3, 4, 5, 6, 2, 3, 5, 1, 3, 4, 5, 1, 4, 5, 2, 3, 4, 5, 6, 1, 2, 3, 4, 5, 6, 1, 4, 1, 2, 3, 4, 5, 6, 1, 3, 5, 1, 2, 5, 1, 5, 1, 2, 3, 5, 6, 2, 3, 4, 5, 1, 2, 3, 4, 1, 2, 3, 4, 5, 6, 2, 1, 2, 3, 5, 1, 3, 1, 2, 3, 5, 6, 3, 4, 2, 1, 2, 3, 5, 1, 2, 3, 5, 6, 1, 2, 3, 4, 5, 6, 1, 2, 3, 4, 5, 6, 2, 4, 1, 2, 3, 4, 5, 1, 2, 3, 4, 1, 5, 6, 1, 3, 4, 5, 1, 2, 3, 4, 5, 6, 3, 1, 2, 3, 4, 5, 6, 2, 3, 4, 5, 1, 2, 3, 4, 5, 6, 1, 3, 1, 2, 3, 4, 5, 6, 1, 3, 6, 1, 2, 3, 4, 1, 2, 3, 4, 5, 6, 1, 2, 3, 4, 6, 4, 5, 6, 1, 6, 1, 2, 3, 6, 1, 3, 5, 6, 2, 3, 5, 6, 1, 2, 4, 5, 3, 5, 1, 2, 3, 4, 5, 6, 1, 2, 1, 2, 3, 6, 1, 2, 3, 4, 5, 6, 1, 2, 3, 4, 5, 6, 1, 4, 1, 2, 3, 1, 2, 3, 4, 6, 2, 3, 6, 2, 4, 6, 1, 2, 3, 4, 5, 6, 1, 3, 5, 2, 4, 5, 1, 2, 4, 6, 2, 5, 1, 2, 3, 4, 5, 6, 1, 5, 1, 2, 3, 4, 5, 6, 1, 2, 3, 6, 1, 2, 3, 4, 1, 2, 3, 4, 5, 6, 1, 3, 4, 6, 1, 2, 3, 4, 5, 6, 1, 4, 5, 1, 2, 6, 1, 2, 3, 4, 5, 6, 1, 2, 1, 3, 4, 5, 6, 1, 2, 3, 4, 1, 4, 5, 1, 2, 3, 4, 5, 6, 1, 2, 3, 4, 5, 6, 1, 2, 3, 4, 5, 6, 1, 2, 3, 4, 5, 6, 1, 2, 3, 4, 5, 6, 1, 3, 6, 1, 2, 3, 4, 5, 6, 1, 4, 1, 2, 3, 4, 5, 6, 1, 2, 3, 6, 1, 2, 3, 4, 6, 2, 3, 4, 1, 3, 4, 5, 6, 1, 5, 1, 2, 3, 4, 5, 6, 1, 2, 4, 5, 6, 1, 2, 3, 1, 2, 5, 6, 1, 2, 3, 4, 1, 3, 4, 5, 6, 1, 2, 3, 4, 5, 6, 1, 4, 6, 1, 2, 3, 4, 5, 6, 1, 2, 3, 4, 5, 6, 1, 2, 5, 1, 2, 3, 5, 1, 2, 1, 2, 3, 1, 2, 3, 4, 5, 6, 1, 2, 3, 4, 5, 6, 1, 2, 3, 5, 6, 1, 2, 3, 4, 5, 1, 2, 3, 4, 5, 6, 1, 2, 3, 5, 6, 1, 2, 3, 4, 5, 6, 1, 2, 3, 4, 5, 6, 1, 4, 6, 1, 2, 3, 4, 5, 6, 1, 2, 3, 4, 6, 1, 3, 5, 6, 1, 2, 3, 5, 6, 1, 2, 3, 4, 6, 2, 4, 1, 2, 4, 5, 2, 3, 5, 1, 2, 3, 4, 5, 6, 1, 2, 3, 4, 5, 6, 1, 2, 4, 1, 2, 3, 4, 5, 6, 1, 2, 3, 4, 5, 6, 1, 2, 3, 4, 6, 1, 6, 1, 6, 1, 3, 4, 5, 1, 4, 1, 1, 2, 4, 5, 1, 2, 4, 5, 1, 2, 3, 4, 5, 6, 2, 5, 1, 2, 5, 6, 1, 2, 3, 6, 1, 2, 3, 4, 5, 6, 1, 3, 1, 2, 3, 4, 5, 6, 2, 3, 5, 6, 2, 6, 1, 2, 3, 4, 5, 1, 2, 3, 4, 5, 6, 2, 5, 1, 2, 3, 4, 5, 6, 1, 2, 3, 4, 6, 1, 5, 2, 3, 4, 1, 2, 3, 4, 5, 6, 3, 4, 5, 6, 2, 3, 4, 5, 1, 2, 3, 4, 5, 6, 1, 2, 3, 5, 1, 2, 3, 4, 5, 6, 2, 3, 4, 5, 1, 2, 3, 4, 5, 6, 1, 2, 3, 4, 5, 6, 1, 2, 3, 4, 5, 6, 1, 2, 5, 2, 3, 2, 6, 1, 2, 3, 4, 5, 6, 1, 2, 5, 6, 1, 2, 6, 2, 2, 4, 5, 1, 2, 3, 4, 5, 6, 1, 3, 4, 5, 2, 1, 2, 3, 4, 5, 1, 2, 3, 4, 6, 1, 3, 2, 3, 4, 1, 2, 3, 5, 1, 2, 3, 4, 5, 6, 1, 2, 4, 6, 1, 2, 3, 4, 5, 6], \"Freq\": [0.36093921905894216, 0.18046960952947108, 0.18046960952947108, 0.18046960952947108, 0.18046960952947108, 0.19841242819254995, 0.3968248563850999, 0.19841242819254995, 0.457387437754503, 0.2286937188772515, 0.2286937188772515, 0.2286937188772515, 0.15650060159902995, 0.15650060159902995, 0.3130012031980599, 0.3130012031980599, 0.15650060159902995, 0.15650060159902995, 0.40616611445731404, 0.11249831019519835, 0.11249831019519835, 0.11249831019519835, 0.11249831019519835, 0.4499932407807934, 0.6207712412838436, 0.20692374709461453, 0.2615247301059142, 0.17434982007060948, 0.17434982007060948, 0.08717491003530474, 0.17434982007060948, 0.17434982007060948, 0.19935579876225265, 0.19935579876225265, 0.09967789938112633, 0.09967789938112633, 0.09967789938112633, 0.09967789938112633, 0.26155556600721347, 0.26155556600721347, 0.17437037733814229, 0.08718518866907114, 0.08718518866907114, 0.08718518866907114, 0.44678895213553194, 0.22339447606776597, 0.22339447606776597, 0.2798917949232478, 0.09329726497441593, 0.18659452994883186, 0.09329726497441593, 0.18659452994883186, 0.09329726497441593, 0.3101607159143843, 0.15508035795719216, 0.15508035795719216, 0.15508035795719216, 0.15508035795719216, 0.07754017897859608, 0.3110896086325521, 0.20739307242170138, 0.20739307242170138, 0.10369653621085069, 0.10369653621085069, 0.10369653621085069, 0.16835524589714365, 0.16835524589714365, 0.16835524589714365, 0.3367104917942873, 0.2665520046337557, 0.2665520046337557, 0.2665520046337557, 0.2665520046337557, 0.29317940323387837, 0.5863588064677567, 0.18874558568946204, 0.3774911713789241, 0.18874558568946204, 0.28111414731997414, 0.14055707365998707, 0.2108356104899806, 0.14055707365998707, 0.14055707365998707, 0.07027853682999353, 0.2713223117396436, 0.2713223117396436, 0.263870714975983, 0.263870714975983, 0.263870714975983, 0.24625694064432035, 0.24625694064432035, 0.24625694064432035, 0.24625694064432035, 0.24625694064432035, 0.27170376934098917, 0.27170376934098917, 0.27170376934098917, 0.14861432342544587, 0.14861432342544587, 0.14861432342544587, 0.14861432342544587, 0.29722864685089173, 0.14861432342544587, 0.13406707709559115, 0.40220123128677343, 0.13406707709559115, 0.13406707709559115, 0.13406707709559115, 0.19056019311917205, 0.19056019311917205, 0.19056019311917205, 0.19056019311917205, 0.19056019311917205, 0.2143245953411285, 0.2143245953411285, 0.2143245953411285, 0.2143245953411285, 0.15204313727304586, 0.15204313727304586, 0.3040862745460917, 0.15204313727304586, 0.15204313727304586, 0.43488147172180014, 0.21744073586090007, 0.21744073586090007, 0.21744073586090007, 0.3321495346823698, 0.3321495346823698, 0.3321495346823698, 0.3321495346823698, 0.3530426370678765, 0.11768087902262549, 0.29420219755656374, 0.058840439511312743, 0.058840439511312743, 0.11768087902262549, 0.22988384280583926, 0.11494192140291963, 0.3448257642087589, 0.11494192140291963, 0.11494192140291963, 0.11494192140291963, 0.37813805698779124, 0.2520920379918608, 0.1260460189959304, 0.1260460189959304, 0.1260460189959304, 0.1260460189959304, 0.3226965374754088, 0.1613482687377044, 0.1613482687377044, 0.3226965374754088, 0.1613482687377044, 0.1613482687377044, 0.3395656254147828, 0.1697828127073914, 0.1697828127073914, 0.1697828127073914, 0.39014702400318674, 0.13004900800106226, 0.13004900800106226, 0.13004900800106226, 0.13004900800106226, 0.30799629613402973, 0.30799629613402973, 0.30799629613402973, 0.2891548419887239, 0.2891548419887239, 0.2891548419887239, 0.2891548419887239, 0.1565927496313004, 0.1565927496313004, 0.1565927496313004, 0.3131854992626008, 0.1565927496313004, 0.1565927496313004, 0.29641069280561533, 0.29641069280561533, 0.29641069280561533, 0.29641069280561533, 0.3002613734789333, 0.3002613734789333, 0.3002613734789333, 0.3016279793792607, 0.3016279793792607, 0.3016279793792607, 0.25554975595177337, 0.25554975595177337, 0.25554975595177337, 0.25554975595177337, 0.2481417529825264, 0.4962835059650528, 0.2481417529825264, 0.2481417529825264, 0.28433104822766303, 0.28433104822766303, 0.3916790153368019, 0.2611193435578679, 0.13055967177893396, 0.13055967177893396, 0.13055967177893396, 0.3906284035603487, 0.3906284035603487, 0.3906284035603487, 0.3922087807536728, 0.3922087807536728, 0.3922087807536728, 0.3507467023292409, 0.3507467023292409, 0.3507467023292409, 0.23424090489642918, 0.11712045244821459, 0.11712045244821459, 0.11712045244821459, 0.23424090489642918, 0.11712045244821459, 0.3558759384868904, 0.1779379692434452, 0.1779379692434452, 0.1779379692434452, 0.3122559312964958, 0.3122559312964958, 0.3122559312964958, 0.3122559312964958, 0.16500869669188392, 0.33001739338376784, 0.16500869669188392, 0.16500869669188392, 0.16500869669188392, 0.48934043330366234, 0.24467021665183117, 0.24467021665183117, 0.2829661595150075, 0.2829661595150075, 0.2829661595150075, 0.3185829041640244, 0.1592914520820122, 0.1592914520820122, 0.1592914520820122, 0.1592914520820122, 0.16931658563484203, 0.33863317126968406, 0.16931658563484203, 0.16931658563484203, 0.16931658563484203, 0.2836725850355258, 0.21275443877664432, 0.21275443877664432, 0.07091814625888145, 0.1418362925177629, 0.1418362925177629, 0.13770744712298363, 0.27541489424596727, 0.27541489424596727, 0.13770744712298363, 0.13770744712298363, 0.3682233483460865, 0.3682233483460865, 0.3682233483460865, 0.2830913677881857, 0.14154568389409286, 0.14154568389409286, 0.21231852584113928, 0.07077284194704643, 0.07077284194704643, 0.2216696186129986, 0.2216696186129986, 0.2216696186129986, 0.31903058350268665, 0.21268705566845778, 0.10634352783422889, 0.21268705566845778, 0.10634352783422889, 0.10634352783422889, 0.16731204074332967, 0.16731204074332967, 0.16731204074332967, 0.16731204074332967, 0.33462408148665934, 0.16731204074332967, 0.25224172012353263, 0.16816114674902174, 0.16816114674902174, 0.08408057337451087, 0.16816114674902174, 0.08408057337451087, 0.31063306233541277, 0.31063306233541277, 0.39930169049490705, 0.19965084524745352, 0.19965084524745352, 0.24648115484416386, 0.24648115484416386, 0.24648115484416386, 0.3752565273403042, 0.1876282636701521, 0.1876282636701521, 0.3975509762981631, 0.31916628176056444, 0.2127775211737096, 0.1063887605868548, 0.1063887605868548, 0.1063887605868548, 0.1063887605868548, 0.47028106569501815, 0.23514053284750908, 0.23514053284750908, 0.23514053284750908, 0.5990180693858831, 0.29950903469294154, 0.26910729950704715, 0.26910729950704715, 0.26910729950704715, 0.26910729950704715, 0.47535153896389437, 0.15845051298796478, 0.15845051298796478, 0.15845051298796478, 0.15845051298796478, 0.15845051298796478, 0.3656179978900768, 0.3656179978900768, 0.3656179978900768, 0.23635288690214032, 0.23635288690214032, 0.23635288690214032, 0.23635288690214032, 0.23635288690214032, 0.19165795983823086, 0.19165795983823086, 0.09582897991911543, 0.3833159196764617, 0.09582897991911543, 0.09582897991911543, 0.23221405769714565, 0.23221405769714565, 0.11610702884857282, 0.11610702884857282, 0.11610702884857282, 0.23221405769714565, 0.12492892782698486, 0.12492892782698486, 0.12492892782698486, 0.12492892782698486, 0.24985785565396973, 0.12492892782698486, 0.5437277453713081, 0.18124258179043604, 0.18124258179043604, 0.23885668959684833, 0.23885668959684833, 0.23885668959684833, 0.23885668959684833, 0.4667320543171492, 0.2333660271585746, 0.2333660271585746, 0.4535764775636882, 0.15119215918789605, 0.15119215918789605, 0.15119215918789605, 0.15119215918789605, 0.3662201086937637, 0.1220733695645879, 0.1220733695645879, 0.1220733695645879, 0.1220733695645879, 0.1220733695645879, 0.3790467429738413, 0.3790467429738413, 0.11446535254136696, 0.22893070508273392, 0.11446535254136696, 0.11446535254136696, 0.11446535254136696, 0.22893070508273392, 0.4562655794827106, 0.15208852649423688, 0.15208852649423688, 0.3437418339591468, 0.3437418339591468, 0.3437418339591468, 0.2518686120566, 0.2518686120566, 0.15599147369661753, 0.4679744210898526, 0.15599147369661753, 0.15599147369661753, 0.15599147369661753, 0.28325162424993044, 0.28325162424993044, 0.28325162424993044, 0.28325162424993044, 0.6671580841757077, 0.1111930140292846, 0.1111930140292846, 0.1111930140292846, 0.3338034046581688, 0.1669017023290844, 0.1669017023290844, 0.1669017023290844, 0.0834508511645422, 0.0834508511645422, 0.3418391547755898, 0.61268534601962, 0.32288379227387115, 0.32288379227387115, 0.32288379227387115, 0.6763073699716312, 0.3381536849858156, 0.16317700560903142, 0.16317700560903142, 0.16317700560903142, 0.16317700560903142, 0.16317700560903142, 0.3394848066599224, 0.3394848066599224, 0.3177722115808013, 0.183701431541256, 0.183701431541256, 0.367402863082512, 0.183701431541256, 0.3451485189464627, 0.17257425947323135, 0.258861389209847, 0.17257425947323135, 0.08628712973661568, 0.27013102738700295, 0.27013102738700295, 0.13506551369350148, 0.27013102738700295, 0.13506551369350148, 0.13506551369350148, 0.12025826036729709, 0.24051652073459417, 0.24051652073459417, 0.12025826036729709, 0.12025826036729709, 0.12025826036729709, 0.5137668823002662, 0.34251125486684414, 0.25852879313518273, 0.12926439656759137, 0.25852879313518273, 0.12926439656759137, 0.12926439656759137, 0.27234756926608933, 0.27234756926608933, 0.27234756926608933, 0.27234756926608933, 0.4284924935579066, 0.2142462467789533, 0.2142462467789533, 0.313879285978608, 0.313879285978608, 0.313879285978608, 0.313879285978608, 0.28245094199703913, 0.1883006279980261, 0.1883006279980261, 0.1883006279980261, 0.09415031399901305, 0.09415031399901305, 0.41704001413141206, 0.40596760732216236, 0.18043004769873883, 0.13532253577405412, 0.13532253577405412, 0.04510751192468471, 0.09021502384936941, 0.3205212909197226, 0.1602606454598613, 0.1602606454598613, 0.4807819363795839, 0.2329587963309869, 0.11647939816549345, 0.11647939816549345, 0.11647939816549345, 0.2329587963309869, 0.11647939816549345, 0.2611656649547494, 0.5223313299094988, 0.28326804553620255, 0.14163402276810128, 0.14163402276810128, 0.28326804553620255, 0.14163402276810128, 0.14163402276810128, 0.3498265326151116, 0.3498265326151116, 0.3498265326151116, 0.2437253545702008, 0.2437253545702008, 0.2437253545702008, 0.2437253545702008, 0.238279937601945, 0.15885329173462998, 0.15885329173462998, 0.15885329173462998, 0.15885329173462998, 0.07942664586731499, 0.1405020805298467, 0.2810041610596934, 0.1405020805298467, 0.1405020805298467, 0.1405020805298467, 0.26977414976532554, 0.26977414976532554, 0.26977414976532554, 0.26941462877328565, 0.26941462877328565, 0.27055328250146243, 0.27055328250146243, 0.27055328250146243, 0.27055328250146243, 0.234936662373878, 0.234936662373878, 0.234936662373878, 0.234936662373878, 0.1966365589742478, 0.5899096769227434, 0.1966365589742478, 0.1966365589742478, 0.26950940981748556, 0.26950940981748556, 0.26950940981748556, 0.26950940981748556, 0.3225216750576379, 0.3225216750576379, 0.20071659001333456, 0.30107488502000185, 0.20071659001333456, 0.10035829500666728, 0.10035829500666728, 0.10035829500666728, 0.6595259296729715, 0.2198419765576572, 0.5236510522089823, 0.17455035073632746, 0.17455035073632746, 0.17455035073632746, 0.34006824203809466, 0.17003412101904733, 0.17003412101904733, 0.17003412101904733, 0.08501706050952366, 0.08501706050952366, 0.2970492992471377, 0.19803286616475846, 0.19803286616475846, 0.09901643308237923, 0.19803286616475846, 0.09901643308237923, 0.3117286251409838, 0.3117286251409838, 0.34443223193287653, 0.34443223193287653, 0.34443223193287653, 0.2604948353093593, 0.2604948353093593, 0.2604948353093593, 0.2604948353093593, 0.2604948353093593, 0.2086406690729496, 0.4172813381458992, 0.2086406690729496, 0.4413025267687011, 0.22065126338435054, 0.22065126338435054, 0.196037067348204, 0.196037067348204, 0.196037067348204, 0.196037067348204, 0.196037067348204, 0.196037067348204, 0.3424646295666649, 0.3424646295666649, 0.3424646295666649, 0.2516549893470429, 0.2516549893470429, 0.2516549893470429, 0.2389753198256565, 0.2389753198256565, 0.2389753198256565, 0.2389753198256565, 0.3778260780593012, 0.3778260780593012, 0.23532183684725427, 0.23532183684725427, 0.23532183684725427, 0.11766091842362714, 0.11766091842362714, 0.11766091842362714, 0.41095516610597405, 0.41095516610597405, 0.11952698226395356, 0.23905396452790711, 0.23905396452790711, 0.11952698226395356, 0.23905396452790711, 0.11952698226395356, 0.40193498113499565, 0.20096749056749783, 0.20096749056749783, 0.20096749056749783, 0.3504107424614944, 0.1752053712307472, 0.1752053712307472, 0.1752053712307472, 0.11238678116353233, 0.22477356232706466, 0.22477356232706466, 0.11238678116353233, 0.11238678116353233, 0.11238678116353233, 0.5184234418837514, 0.1728078139612505, 0.1728078139612505, 0.1728078139612505, 0.2701698691867426, 0.20262740189005696, 0.1350849345933713, 0.1350849345933713, 0.1350849345933713, 0.1350849345933713, 0.3497963812866013, 0.17489819064330064, 0.17489819064330064, 0.23766069101678886, 0.23766069101678886, 0.23766069101678886, 0.2152467525533762, 0.2152467525533762, 0.16143506441503214, 0.16143506441503214, 0.16143506441503214, 0.1076233762766881, 0.310795898469128, 0.310795898469128, 0.24110499363009594, 0.24110499363009594, 0.31083025762586025, 0.31083025762586025, 0.31083025762586025, 0.3180331069955793, 0.15901655349778965, 0.15901655349778965, 0.3180331069955793, 0.3148479321073851, 0.3148479321073851, 0.3148479321073851, 0.23172452650915212, 0.18537962120732168, 0.18537962120732168, 0.09268981060366084, 0.23172452650915212, 0.09268981060366084, 0.30297687491465397, 0.10099229163821799, 0.20198458327643598, 0.10099229163821799, 0.10099229163821799, 0.10099229163821799, 0.24787584658119713, 0.12393792329059856, 0.24787584658119713, 0.12393792329059856, 0.12393792329059856, 0.12393792329059856, 0.1822851274018428, 0.1822851274018428, 0.1822851274018428, 0.1822851274018428, 0.1822851274018428, 0.1822851274018428, 0.1841601834469667, 0.1841601834469667, 0.1841601834469667, 0.1841601834469667, 0.1841601834469667, 0.09208009172348335, 0.3478609047349592, 0.3478609047349592, 0.3478609047349592, 0.19436848287851888, 0.19436848287851888, 0.19436848287851888, 0.09718424143925944, 0.09718424143925944, 0.09718424143925944, 0.5567402998140121, 0.27837014990700604, 0.23979930171003774, 0.23979930171003774, 0.11989965085501887, 0.23979930171003774, 0.11989965085501887, 0.11989965085501887, 0.2053038251964564, 0.2053038251964564, 0.2053038251964564, 0.2053038251964564, 0.18521863851962272, 0.18521863851962272, 0.18521863851962272, 0.18521863851962272, 0.18521863851962272, 0.28206068717446964, 0.28206068717446964, 0.28206068717446964, 0.18594488071843848, 0.18594488071843848, 0.18594488071843848, 0.18594488071843848, 0.18594488071843848, 0.2745446448020255, 0.2745446448020255, 0.36146813622001156, 0.09036703405500289, 0.18073406811000578, 0.09036703405500289, 0.09036703405500289, 0.09036703405500289, 0.15403237780820903, 0.30806475561641805, 0.15403237780820903, 0.15403237780820903, 0.15403237780820903, 0.2855165126358364, 0.2855165126358364, 0.2855165126358364, 0.2699315073096644, 0.2699315073096644, 0.2699315073096644, 0.2699315073096644, 0.2239411043309065, 0.2239411043309065, 0.2239411043309065, 0.2239411043309065, 0.17615476683259745, 0.17615476683259745, 0.17615476683259745, 0.17615476683259745, 0.3523095336651949, 0.3306052425408736, 0.1653026212704368, 0.1653026212704368, 0.3306052425408736, 0.1653026212704368, 0.1653026212704368, 0.31781312370948483, 0.31781312370948483, 0.31781312370948483, 0.17096226251353758, 0.34192452502707515, 0.17096226251353758, 0.17096226251353758, 0.17096226251353758, 0.17096226251353758, 0.26000562014518935, 0.17333708009679288, 0.17333708009679288, 0.17333708009679288, 0.08666854004839644, 0.08666854004839644, 0.2534889471592356, 0.2534889471592356, 0.2534889471592356, 0.3736717741549251, 0.18683588707746254, 0.3736717741549251, 0.18683588707746254, 0.3270344344866166, 0.3270344344866166, 0.3490699676782469, 0.3490699676782469, 0.17453498383912344, 0.1426776506972234, 0.21401647604583512, 0.2853553013944468, 0.0713388253486117, 0.21401647604583512, 0.1426776506972234, 0.21188580031131976, 0.282514400415093, 0.1412572002075465, 0.1412572002075465, 0.1412572002075465, 0.07062860010377325, 0.17786213328361172, 0.17786213328361172, 0.17786213328361172, 0.17786213328361172, 0.17786213328361172, 0.12185081975754737, 0.3655524592726421, 0.12185081975754737, 0.24370163951509474, 0.12185081975754737, 0.10587584559641283, 0.3176275367892385, 0.10587584559641283, 0.21175169119282566, 0.10587584559641283, 0.10587584559641283, 0.1516978737462546, 0.1516978737462546, 0.3033957474925092, 0.1516978737462546, 0.1516978737462546, 0.30570836154354614, 0.10190278718118205, 0.2038055743623641, 0.10190278718118205, 0.2038055743623641, 0.10190278718118205, 0.23943852080904274, 0.15962568053936182, 0.23943852080904274, 0.07981284026968091, 0.15962568053936182, 0.15962568053936182, 0.4390587229577314, 0.2195293614788657, 0.2195293614788657, 0.2270551377480271, 0.2270551377480271, 0.11352756887401355, 0.2270551377480271, 0.11352756887401355, 0.11352756887401355, 0.1679309307928097, 0.1679309307928097, 0.3358618615856194, 0.1679309307928097, 0.1679309307928097, 0.4372236055320262, 0.2186118027660131, 0.2186118027660131, 0.2186118027660131, 0.20421127431190775, 0.20421127431190775, 0.20421127431190775, 0.20421127431190775, 0.20421127431190775, 0.13158486476038952, 0.13158486476038952, 0.39475459428116855, 0.26316972952077905, 0.13158486476038952, 0.29845213553080613, 0.29845213553080613, 0.4419567849312539, 0.14731892831041796, 0.14731892831041796, 0.14731892831041796, 0.39539190638925203, 0.39539190638925203, 0.39539190638925203, 0.2847859335590158, 0.18985728903934387, 0.18985728903934387, 0.18985728903934387, 0.09492864451967194, 0.09492864451967194, 0.22892769262809606, 0.22892769262809606, 0.11446384631404803, 0.22892769262809606, 0.22892769262809606, 0.11446384631404803, 0.32116328693327506, 0.32116328693327506, 0.32116328693327506, 0.15851799930625438, 0.31703599861250875, 0.15851799930625438, 0.31703599861250875, 0.15851799930625438, 0.15851799930625438, 0.25787138855423875, 0.17191425903615914, 0.17191425903615914, 0.17191425903615914, 0.17191425903615914, 0.08595712951807957, 0.399844444177174, 0.13328148139239135, 0.13328148139239135, 0.13328148139239135, 0.13328148139239135, 0.3691100695085268, 0.3691100695085268, 0.42573944438025724, 0.42573944438025724, 0.2239859887707792, 0.4479719775415584, 0.2239859887707792, 0.2239859887707792, 0.35164923838288603, 0.35164923838288603, 0.5668656284526508, 0.3904641717712804, 0.1952320858856402, 0.1952320858856402, 0.1952320858856402, 0.25005258220825505, 0.25005258220825505, 0.25005258220825505, 0.25005258220825505, 0.16371655798125562, 0.16371655798125562, 0.16371655798125562, 0.16371655798125562, 0.32743311596251123, 0.16371655798125562, 0.5463512278413041, 0.27317561392065204, 0.20011083834622612, 0.20011083834622612, 0.40022167669245223, 0.20011083834622612, 0.24653980569323403, 0.24653980569323403, 0.24653980569323403, 0.24653980569323403, 0.3940755701855618, 0.09851889254639044, 0.09851889254639044, 0.09851889254639044, 0.1970377850927809, 0.09851889254639044, 0.36545933540783077, 0.36545933540783077, 0.3807761900417847, 0.12692539668059488, 0.12692539668059488, 0.25385079336118976, 0.12692539668059488, 0.12692539668059488, 0.1766229941508251, 0.3532459883016502, 0.1766229941508251, 0.1766229941508251, 0.3662561719325161, 0.3662561719325161, 0.48108851582106943, 0.08018141930351157, 0.08018141930351157, 0.16036283860702313, 0.08018141930351157, 0.10964102832888707, 0.10964102832888707, 0.32892308498666123, 0.10964102832888707, 0.21928205665777414, 0.10964102832888707, 0.5962766731690483, 0.29813833658452416, 0.20222206665806267, 0.10111103332903133, 0.303333099987094, 0.20222206665806267, 0.10111103332903133, 0.10111103332903133, 0.23794349805447926, 0.23794349805447926, 0.11897174902723963, 0.11897174902723963, 0.23794349805447926, 0.3261938074670153, 0.3261938074670153, 0.3180219934009136, 0.3180219934009136, 0.3180219934009136, 0.35472384931652495, 0.2660428869873937, 0.08868096232913124, 0.17736192465826248, 0.08868096232913124, 0.08868096232913124, 0.3326147657983858, 0.3326147657983858, 0.3326147657983858, 0.3326147657983858, 0.31392855440337836, 0.31392855440337836, 0.31392855440337836, 0.31392855440337836, 0.12396646483968325, 0.2479329296793665, 0.12396646483968325, 0.12396646483968325, 0.12396646483968325, 0.12396646483968325, 0.11584086213443413, 0.23168172426886827, 0.3475225864033024, 0.23168172426886827, 0.16722733709039866, 0.16722733709039866, 0.16722733709039866, 0.16722733709039866, 0.08361366854519933, 0.08361366854519933, 0.27960943107102126, 0.27960943107102126, 0.27960943107102126, 0.27960943107102126, 0.2747977701108953, 0.16487866206653717, 0.16487866206653717, 0.16487866206653717, 0.16487866206653717, 0.05495955402217906, 0.33578411765185207, 0.16789205882592603, 0.16789205882592603, 0.08394602941296302, 0.08394602941296302, 0.08394602941296302, 0.23793994899316956, 0.11896997449658478, 0.23793994899316956, 0.23793994899316956, 0.11896997449658478, 0.11896997449658478, 0.315882609205425, 0.4738239138081375, 0.1579413046027125, 0.34671016785882036, 0.34671016785882036, 0.4112188487920179, 0.4112188487920179, 0.2680097384635041, 0.1786731589756694, 0.1786731589756694, 0.0893365794878347, 0.1786731589756694, 0.1786731589756694, 0.49747220834016503, 0.16582406944672168, 0.16582406944672168, 0.16582406944672168, 0.19861588093253943, 0.19861588093253943, 0.19861588093253943, 0.32751025067695494, 0.2827635129508211, 0.2827635129508211, 0.2827635129508211, 0.12923490213960834, 0.12923490213960834, 0.38770470641882504, 0.12923490213960834, 0.12923490213960834, 0.12923490213960834, 0.2325606524754743, 0.2325606524754743, 0.2325606524754743, 0.2325606524754743, 0.3944120917655766, 0.18571943723527312, 0.37143887447054624, 0.18571943723527312, 0.18571943723527312, 0.18571943723527312, 0.4451248523550885, 0.11128121308877212, 0.11128121308877212, 0.22256242617754424, 0.11128121308877212, 0.529722374485967, 0.2648611872429835, 0.35876174601703753, 0.17938087300851877, 0.17938087300851877, 0.24070004249006186, 0.24070004249006186, 0.24070004249006186, 0.24070004249006186, 0.31741858241172244, 0.21161238827448162, 0.21161238827448162, 0.10580619413724081, 0.10580619413724081, 0.10580619413724081, 0.200404602842131, 0.200404602842131, 0.200404602842131, 0.200404602842131, 0.27948281361814264, 0.18632187574542844, 0.18632187574542844, 0.18632187574542844, 0.09316093787271422, 0.09316093787271422], \"Term\": [\"able\", \"able\", \"able\", \"able\", \"able\", \"abstract\", \"abstract\", \"abstract\", \"acid\", \"acid\", \"acid\", \"acid\", \"activity\", \"activity\", \"activity\", \"activity\", \"activity\", \"activity\", \"adapt\", \"agent\", \"agent\", \"agent\", \"agent\", \"agent\", \"alcohol\", \"alcohol\", \"algorithm\", \"algorithm\", \"algorithm\", \"algorithm\", \"algorithm\", \"algorithm\", \"allow\", \"allow\", \"allow\", \"allow\", \"allow\", \"allow\", \"analysis\", \"analysis\", \"analysis\", \"analysis\", \"analysis\", \"analysis\", \"answer\", \"answer\", \"answer\", \"application\", \"application\", \"application\", \"application\", \"application\", \"application\", \"approach\", \"approach\", \"approach\", \"approach\", \"approach\", \"approach\", \"architecture\", \"architecture\", \"architecture\", \"architecture\", \"architecture\", \"architecture\", \"artificial\", \"artificial\", \"artificial\", \"artificial\", \"assessment\", \"assessment\", \"assessment\", \"assessment\", \"assign\", \"assign\", \"author\", \"author\", \"author\", \"base\", \"base\", \"base\", \"base\", \"base\", \"base\", \"binary\", \"binary\", \"biodiesel\", \"biodiesel\", \"biodiesel\", \"biological\", \"biological\", \"biological\", \"biological\", \"biological\", \"capability\", \"capability\", \"capability\", \"carry\", \"carry\", \"carry\", \"carry\", \"carry\", \"carry\", \"catalyst\", \"catalyst\", \"catalyst\", \"catalyst\", \"catalyst\", \"cell\", \"cell\", \"cell\", \"cell\", \"cell\", \"chain\", \"chain\", \"chain\", \"chain\", \"change\", \"change\", \"change\", \"change\", \"change\", \"chemical\", \"chemical\", \"chemical\", \"chemical\", \"close\", \"close\", \"close\", \"close\", \"cluster\", \"cluster\", \"cluster\", \"cluster\", \"cluster\", \"cluster\", \"code\", \"code\", \"code\", \"code\", \"code\", \"code\", \"collection\", \"collection\", \"collection\", \"collection\", \"collection\", \"collection\", \"colombian\", \"colombian\", \"colombian\", \"colombian\", \"colombian\", \"colombian\", \"column\", \"column\", \"column\", \"column\", \"communication\", \"communication\", \"communication\", \"communication\", \"communication\", \"complete\", \"complete\", \"complete\", \"compute\", \"compute\", \"compute\", \"compute\", \"concept\", \"concept\", \"concept\", \"concept\", \"concept\", \"concept\", \"configuration\", \"configuration\", \"configuration\", \"configuration\", \"consist\", \"consist\", \"consist\", \"constant\", \"constant\", \"constant\", \"constraint\", \"constraint\", \"constraint\", \"constraint\", \"consumption\", \"consumption\", \"consumption\", \"consumption\", \"contain\", \"contain\", \"content\", \"content\", \"content\", \"content\", \"content\", \"continuous\", \"continuous\", \"continuous\", \"contrast\", \"contrast\", \"contrast\", \"contribute\", \"contribute\", \"contribute\", \"control\", \"control\", \"control\", \"control\", \"control\", \"control\", \"convolutional\", \"convolutional\", \"convolutional\", \"convolutional\", \"correspond\", \"correspond\", \"correspond\", \"correspond\", \"course\", \"course\", \"course\", \"course\", \"course\", \"create\", \"create\", \"create\", \"cycle\", \"cycle\", \"cycle\", \"data\", \"data\", \"data\", \"data\", \"data\", \"dataset\", \"dataset\", \"dataset\", \"dataset\", \"dataset\", \"datum\", \"datum\", \"datum\", \"datum\", \"datum\", \"datum\", \"decision\", \"decision\", \"decision\", \"decision\", \"decision\", \"decrease\", \"decrease\", \"decrease\", \"design\", \"design\", \"design\", \"design\", \"design\", \"design\", \"detect\", \"detect\", \"detect\", \"development\", \"development\", \"development\", \"development\", \"development\", \"development\", \"device\", \"device\", \"device\", \"device\", \"device\", \"device\", \"different\", \"different\", \"different\", \"different\", \"different\", \"different\", \"dimensional\", \"dimensional\", \"distillation\", \"distillation\", \"distillation\", \"distribute\", \"distribute\", \"distribute\", \"distribution\", \"distribution\", \"distribution\", \"divide\", \"document\", \"document\", \"document\", \"document\", \"document\", \"document\", \"early\", \"early\", \"early\", \"early\", \"easy\", \"easy\", \"economic\", \"economic\", \"economic\", \"economic\", \"education\", \"education\", \"education\", \"education\", \"education\", \"education\", \"effectiveness\", \"effectiveness\", \"effectiveness\", \"embed\", \"embed\", \"embed\", \"embed\", \"embed\", \"emission\", \"emission\", \"emission\", \"emission\", \"emission\", \"emission\", \"engineering\", \"engineering\", \"engineering\", \"engineering\", \"engineering\", \"engineering\", \"environment\", \"environment\", \"environment\", \"environment\", \"environment\", \"environment\", \"equilibrium\", \"equilibrium\", \"equilibrium\", \"error\", \"error\", \"error\", \"error\", \"estimation\", \"estimation\", \"estimation\", \"ethanol\", \"ethanol\", \"ethanol\", \"ethanol\", \"ethanol\", \"evaluation\", \"evaluation\", \"evaluation\", \"evaluation\", \"evaluation\", \"evaluation\", \"evidence\", \"evidence\", \"evolutionary\", \"evolutionary\", \"evolutionary\", \"evolutionary\", \"evolutionary\", \"evolutionary\", \"evolve\", \"evolve\", \"evolve\", \"exchange\", \"exchange\", \"exchange\", \"exploration\", \"exploration\", \"extraction\", \"extraction\", \"extraction\", \"extraction\", \"extraction\", \"extractive\", \"extractive\", \"extractive\", \"extractive\", \"fault\", \"fault\", \"fault\", \"fault\", \"feature\", \"feature\", \"feature\", \"feature\", \"feature\", \"feature\", \"feed\", \"filter\", \"financial\", \"financial\", \"financial\", \"finding\", \"finding\", \"flow\", \"flow\", \"flow\", \"flow\", \"flow\", \"formation\", \"formation\", \"formulation\", \"frequency\", \"frequency\", \"frequency\", \"frequency\", \"fuzzy\", \"fuzzy\", \"fuzzy\", \"fuzzy\", \"fuzzy\", \"generate\", \"generate\", \"generate\", \"generate\", \"generate\", \"generate\", \"genetic\", \"genetic\", \"genetic\", \"genetic\", \"genetic\", \"genetic\", \"glycerol\", \"glycerol\", \"group\", \"group\", \"group\", \"group\", \"group\", \"growth\", \"growth\", \"growth\", \"growth\", \"health\", \"health\", \"health\", \"heterogeneous\", \"heterogeneous\", \"heterogeneous\", \"heterogeneous\", \"high\", \"high\", \"high\", \"high\", \"high\", \"high\", \"hour\", \"image\", \"image\", \"image\", \"image\", \"image\", \"image\", \"immune\", \"immune\", \"immune\", \"immune\", \"implementation\", \"implementation\", \"implementation\", \"implementation\", \"implementation\", \"implementation\", \"importance\", \"importance\", \"increase\", \"increase\", \"increase\", \"increase\", \"increase\", \"increase\", \"indexing\", \"indexing\", \"indexing\", \"influence\", \"influence\", \"influence\", \"influence\", \"information\", \"information\", \"information\", \"information\", \"information\", \"information\", \"innovation\", \"innovation\", \"innovation\", \"innovation\", \"innovation\", \"inspire\", \"inspire\", \"inspire\", \"institution\", \"institution\", \"intelligence\", \"intelligence\", \"intelligence\", \"intelligence\", \"internet\", \"internet\", \"internet\", \"internet\", \"interval\", \"interval\", \"interval\", \"interval\", \"inventory\", \"inventory\", \"inventory\", \"inventory\", \"kinetic\", \"kinetic\", \"knowledge\", \"knowledge\", \"knowledge\", \"knowledge\", \"knowledge\", \"knowledge\", \"label\", \"label\", \"latent\", \"latent\", \"latent\", \"latent\", \"learn\", \"learn\", \"learn\", \"learn\", \"learn\", \"learn\", \"learning\", \"learning\", \"learning\", \"learning\", \"learning\", \"learning\", \"life\", \"life\", \"light\", \"light\", \"light\", \"line\", \"line\", \"line\", \"line\", \"line\", \"linear\", \"linear\", \"linear\", \"liquid\", \"liquid\", \"liquid\", \"local\", \"local\", \"local\", \"local\", \"local\", \"local\", \"locate\", \"locate\", \"locate\", \"location\", \"location\", \"location\", \"low\", \"low\", \"low\", \"low\", \"major\", \"major\", \"make\", \"make\", \"make\", \"make\", \"make\", \"make\", \"manage\", \"manage\", \"management\", \"management\", \"management\", \"management\", \"management\", \"management\", \"market\", \"market\", \"market\", \"market\", \"mean\", \"mean\", \"mean\", \"mean\", \"measure\", \"measure\", \"measure\", \"measure\", \"measure\", \"measure\", \"medical\", \"medical\", \"medical\", \"medical\", \"method\", \"method\", \"method\", \"method\", \"method\", \"method\", \"mobile\", \"mobile\", \"mobile\", \"mode\", \"mode\", \"mode\", \"model\", \"model\", \"model\", \"model\", \"model\", \"model\", \"modify\", \"modify\", \"monitoring\", \"monitoring\", \"multi\", \"multi\", \"multi\", \"multimodal\", \"multimodal\", \"multimodal\", \"multimodal\", \"national\", \"national\", \"national\", \"network\", \"network\", \"network\", \"network\", \"network\", \"network\", \"neural\", \"neural\", \"neural\", \"neural\", \"neural\", \"neural\", \"number\", \"number\", \"number\", \"number\", \"number\", \"number\", \"objective\", \"objective\", \"objective\", \"objective\", \"objective\", \"objective\", \"obtain\", \"obtain\", \"obtain\", \"obtain\", \"obtain\", \"obtain\", \"operate\", \"operate\", \"operate\", \"order\", \"order\", \"order\", \"order\", \"order\", \"order\", \"orient\", \"orient\", \"other\", \"other\", \"other\", \"other\", \"other\", \"other\", \"parallel\", \"parallel\", \"parallel\", \"parallel\", \"particle\", \"particle\", \"particle\", \"particle\", \"particle\", \"particulate\", \"particulate\", \"particulate\", \"patient\", \"patient\", \"patient\", \"patient\", \"patient\", \"people\", \"people\", \"performance\", \"performance\", \"performance\", \"performance\", \"performance\", \"performance\", \"phase\", \"phase\", \"phase\", \"phase\", \"phase\", \"place\", \"place\", \"place\", \"plan\", \"plan\", \"plan\", \"plan\", \"plant\", \"plant\", \"plant\", \"plant\", \"platform\", \"platform\", \"platform\", \"platform\", \"platform\", \"population\", \"population\", \"population\", \"population\", \"population\", \"population\", \"position\", \"position\", \"position\", \"power\", \"power\", \"power\", \"power\", \"power\", \"power\", \"present\", \"present\", \"present\", \"present\", \"present\", \"present\", \"pressure\", \"pressure\", \"pressure\", \"previous\", \"previous\", \"previous\", \"previous\", \"previously\", \"previously\", \"price\", \"price\", \"price\", \"problem\", \"problem\", \"problem\", \"problem\", \"problem\", \"problem\", \"process\", \"process\", \"process\", \"process\", \"process\", \"process\", \"processing\", \"processing\", \"processing\", \"processing\", \"processing\", \"product\", \"product\", \"product\", \"product\", \"product\", \"production\", \"production\", \"production\", \"production\", \"production\", \"production\", \"programming\", \"programming\", \"programming\", \"programming\", \"programming\", \"project\", \"project\", \"project\", \"project\", \"project\", \"project\", \"propose\", \"propose\", \"propose\", \"propose\", \"propose\", \"propose\", \"prototype\", \"prototype\", \"prototype\", \"quality\", \"quality\", \"quality\", \"quality\", \"quality\", \"quality\", \"query\", \"query\", \"query\", \"query\", \"query\", \"question\", \"question\", \"question\", \"question\", \"random\", \"random\", \"random\", \"random\", \"random\", \"reaction\", \"reaction\", \"reaction\", \"reaction\", \"reaction\", \"reduction\", \"reduction\", \"region\", \"region\", \"region\", \"region\", \"reliable\", \"reliable\", \"reliable\", \"representation\", \"representation\", \"representation\", \"representation\", \"representation\", \"representation\", \"research\", \"research\", \"research\", \"research\", \"research\", \"research\", \"resolution\", \"resolution\", \"resolution\", \"resource\", \"resource\", \"resource\", \"resource\", \"resource\", \"resource\", \"result\", \"result\", \"result\", \"result\", \"result\", \"result\", \"retrieval\", \"retrieval\", \"retrieval\", \"retrieval\", \"retrieval\", \"retrieve\", \"retrieve\", \"risk\", \"risk\", \"road\", \"road\", \"road\", \"road\", \"role\", \"role\", \"run\", \"scenario\", \"scenario\", \"scenario\", \"scenario\", \"security\", \"security\", \"security\", \"security\", \"self\", \"self\", \"self\", \"self\", \"self\", \"self\", \"sense\", \"sense\", \"sensor\", \"sensor\", \"sensor\", \"sensor\", \"series\", \"series\", \"series\", \"series\", \"service\", \"service\", \"service\", \"service\", \"service\", \"service\", \"significantly\", \"significantly\", \"simulation\", \"simulation\", \"simulation\", \"simulation\", \"simulation\", \"simulation\", \"size\", \"size\", \"size\", \"size\", \"society\", \"society\", \"software\", \"software\", \"software\", \"software\", \"software\", \"solution\", \"solution\", \"solution\", \"solution\", \"solution\", \"solution\", \"solvent\", \"solvent\", \"source\", \"source\", \"source\", \"source\", \"source\", \"source\", \"space\", \"space\", \"space\", \"space\", \"space\", \"special\", \"special\", \"statistical\", \"statistical\", \"statistical\", \"strategy\", \"strategy\", \"strategy\", \"strategy\", \"strategy\", \"strategy\", \"strong\", \"strong\", \"strong\", \"strong\", \"structural\", \"structural\", \"structural\", \"structural\", \"structure\", \"structure\", \"structure\", \"structure\", \"structure\", \"structure\", \"student\", \"student\", \"student\", \"student\", \"study\", \"study\", \"study\", \"study\", \"study\", \"study\", \"surface\", \"surface\", \"surface\", \"surface\", \"system\", \"system\", \"system\", \"system\", \"system\", \"system\", \"technique\", \"technique\", \"technique\", \"technique\", \"technique\", \"technique\", \"technology\", \"technology\", \"technology\", \"technology\", \"technology\", \"technology\", \"theory\", \"theory\", \"theory\", \"thermodynamic\", \"thermodynamic\", \"third\", \"third\", \"time\", \"time\", \"time\", \"time\", \"time\", \"time\", \"training\", \"training\", \"training\", \"training\", \"transfer\", \"transfer\", \"transfer\", \"transformation\", \"transport\", \"transport\", \"transport\", \"type\", \"type\", \"type\", \"type\", \"type\", \"type\", \"uncertainty\", \"uncertainty\", \"uncertainty\", \"uncertainty\", \"update\", \"vehicle\", \"vehicle\", \"vehicle\", \"vehicle\", \"vehicle\", \"visual\", \"visual\", \"visual\", \"visual\", \"visual\", \"volume\", \"volume\", \"water\", \"water\", \"water\", \"weight\", \"weight\", \"weight\", \"weight\", \"well\", \"well\", \"well\", \"well\", \"well\", \"well\", \"word\", \"word\", \"word\", \"word\", \"work\", \"work\", \"work\", \"work\", \"work\", \"work\"]}, \"R\": 30, \"lambda.step\": 0.01, \"plot.opts\": {\"xlab\": \"PC1\", \"ylab\": \"PC2\"}, \"topic.order\": [3, 5, 6, 1, 4, 2]};\n",
              "\n",
              "function LDAvis_load_lib(url, callback){\n",
              "  var s = document.createElement('script');\n",
              "  s.src = url;\n",
              "  s.async = true;\n",
              "  s.onreadystatechange = s.onload = callback;\n",
              "  s.onerror = function(){console.warn(\"failed to load library \" + url);};\n",
              "  document.getElementsByTagName(\"head\")[0].appendChild(s);\n",
              "}\n",
              "\n",
              "if(typeof(LDAvis) !== \"undefined\"){\n",
              "   // already loaded: just create the visualization\n",
              "   !function(LDAvis){\n",
              "       new LDAvis(\"#\" + \"ldavis_el5291404579870492809466394301\", ldavis_el5291404579870492809466394301_data);\n",
              "   }(LDAvis);\n",
              "}else if(typeof define === \"function\" && define.amd){\n",
              "   // require.js is available: use it to load d3/LDAvis\n",
              "   require.config({paths: {d3: \"https://d3js.org/d3.v5\"}});\n",
              "   require([\"d3\"], function(d3){\n",
              "      window.d3 = d3;\n",
              "      LDAvis_load_lib(\"https://cdn.jsdelivr.net/gh/bmabey/pyLDAvis@3.3.1/pyLDAvis/js/ldavis.v3.0.0.js\", function(){\n",
              "        new LDAvis(\"#\" + \"ldavis_el5291404579870492809466394301\", ldavis_el5291404579870492809466394301_data);\n",
              "      });\n",
              "    });\n",
              "}else{\n",
              "    // require.js not available: dynamically load d3 & LDAvis\n",
              "    LDAvis_load_lib(\"https://d3js.org/d3.v5.js\", function(){\n",
              "         LDAvis_load_lib(\"https://cdn.jsdelivr.net/gh/bmabey/pyLDAvis@3.3.1/pyLDAvis/js/ldavis.v3.0.0.js\", function(){\n",
              "                 new LDAvis(\"#\" + \"ldavis_el5291404579870492809466394301\", ldavis_el5291404579870492809466394301_data);\n",
              "            })\n",
              "         });\n",
              "}\n",
              "</script>"
            ],
            "text/plain": [
              "PreparedData(topic_coordinates=              x         y  topics  cluster       Freq\n",
              "topic                                                \n",
              "2      0.024181 -0.016391       1        1  24.383400\n",
              "4     -0.019786 -0.008389       2        1  19.242065\n",
              "5      0.002590  0.012682       3        1  17.749740\n",
              "0     -0.015323 -0.019535       4        1  13.890647\n",
              "3     -0.009966  0.024083       5        1  13.851765\n",
              "1      0.018304  0.007550       6        1  10.882383, topic_info=            Term      Freq      Total Category  logprob  loglift\n",
              "332        agent  8.000000   8.000000  Default  30.0000  30.0000\n",
              "740       immune  6.000000   6.000000  Default  29.0000  29.0000\n",
              "325     glycerol  5.000000   5.000000  Default  28.0000  28.0000\n",
              "318     catalyst  7.000000   7.000000  Default  27.0000  27.0000\n",
              "690        fault  8.000000   8.000000  Default  26.0000  26.0000\n",
              "..           ...       ...        ...      ...      ...      ...\n",
              "182  information  1.414933  12.590233   Topic6  -5.6863   0.0322\n",
              "425     approach  1.422760  12.896540   Topic6  -5.6808   0.0137\n",
              "71          base  1.418187  14.229095   Topic6  -5.6840  -0.0879\n",
              "217  application  1.354290  10.718428   Topic6  -5.7301   0.1493\n",
              "211    technique  1.357210  11.912416   Topic6  -5.7280   0.0459\n",
              "\n",
              "[376 rows x 6 columns], token_table=      Topic      Freq  Term\n",
              "term                       \n",
              "0         1  0.360939  able\n",
              "0         2  0.180470  able\n",
              "0         3  0.180470  able\n",
              "0         5  0.180470  able\n",
              "0         6  0.180470  able\n",
              "...     ...       ...   ...\n",
              "66        2  0.186322  work\n",
              "66        3  0.186322  work\n",
              "66        4  0.186322  work\n",
              "66        5  0.093161  work\n",
              "66        6  0.093161  work\n",
              "\n",
              "[1096 rows x 3 columns], R=30, lambda_step=0.01, plot_opts={'xlab': 'PC1', 'ylab': 'PC2'}, topic_order=[3, 5, 6, 1, 4, 2])"
            ]
          },
          "execution_count": 27,
          "metadata": {},
          "output_type": "execute_result"
        }
      ],
      "source": [
        "pyLDAvis.enable_notebook()\n",
        "vis = pyLDAvis.gensim_models.prepare(mejor_modelo, corpus_tfidf, dictionary)\n",
        "pyLDAvis.save_json(vis, 'lda_data.json');\n",
        "vis"
      ]
    },
    {
      "cell_type": "code",
      "execution_count": null,
      "metadata": {
        "id": "rDUqxJOhN6MB"
      },
      "outputs": [],
      "source": [
        "datos=pd.concat([pd.DataFrame(b),pd.DataFrame(c)],axis=1)\n",
        "datos.columns=[\"Topicos\",\"Coherencia\"]"
      ]
    },
    {
      "cell_type": "code",
      "execution_count": null,
      "metadata": {
        "colab": {
          "base_uri": "https://localhost:8080/"
        },
        "id": "TZiKmNSeM92Z",
        "outputId": "70272758-20e8-443f-b672-52b2b5dc6cfa"
      },
      "outputs": [
        {
          "name": "stdout",
          "output_type": "stream",
          "text": [
            "     Topicos  Coherencia\n",
            "0   0.315194           2\n",
            "1   0.298580           3\n",
            "2   0.264084           4\n",
            "3   0.290152           5\n",
            "4   0.327918           6\n",
            "5   0.280211           7\n",
            "6   0.306043           8\n",
            "7   0.299931           9\n",
            "8   0.261314          10\n",
            "9   0.283617          11\n",
            "10  0.273572          12\n",
            "11  0.263968          13\n",
            "12  0.280764          14\n",
            "13  0.283218          15\n",
            "14  0.296128          16\n",
            "15  0.291480          17\n",
            "16  0.287937          18\n",
            "17  0.293303          19\n",
            "18  0.293663          20\n",
            "19  0.307629          21\n",
            "20  0.305776          22\n",
            "21  0.294096          23\n",
            "22  0.304615          24\n",
            "23  0.301519          25\n",
            "24  0.305548          26\n",
            "25  0.311014          27\n",
            "26  0.298096          28\n",
            "27  0.318830          29\n",
            "28  0.317201          30\n",
            "29  0.291680          31\n",
            "30  0.304217          32\n",
            "31  0.315980          33\n",
            "32  0.317689          34\n"
          ]
        }
      ],
      "source": [
        "print(datos)"
      ]
    },
    {
      "cell_type": "code",
      "execution_count": null,
      "metadata": {
        "colab": {
          "base_uri": "https://localhost:8080/"
        },
        "id": "MnpTKji9M-qG",
        "outputId": "a9a581d4-d2ca-41e4-948e-e6a4fd21347d"
      },
      "outputs": [
        {
          "data": {
            "text/plain": [
              "[0.2570165844639618,\n",
              " 0.2735871080472022,\n",
              " 0.27242459115764717,\n",
              " 0.30063781897051844,\n",
              " 0.285767938190353,\n",
              " 0.2840918367806811,\n",
              " 0.30347139279544805,\n",
              " 0.29527041552484784,\n",
              " 0.29257377615052327,\n",
              " 0.3198583079486294,\n",
              " 0.3146333007955101]"
            ]
          },
          "execution_count": 16,
          "metadata": {},
          "output_type": "execute_result"
        }
      ],
      "source": [
        "b"
      ]
    },
    {
      "cell_type": "code",
      "execution_count": null,
      "metadata": {
        "colab": {
          "base_uri": "https://localhost:8080/"
        },
        "id": "7slHZx_yUmPp",
        "outputId": "45309e54-08e0-46de-a6b9-fa3da9321fef"
      },
      "outputs": [
        {
          "name": "stdout",
          "output_type": "stream",
          "text": [
            "(742, 949)\n"
          ]
        },
        {
          "name": "stderr",
          "output_type": "stream",
          "text": [
            "/usr/local/lib/python3.8/dist-packages/sklearn/feature_extraction/text.py:396: UserWarning: Your stop_words may be inconsistent with your preprocessing. Tokenizing the stop words generated tokens ['activated', 'cytokine', 'diet', 'induced', 'line', 'lisis', 'perzonalized', 'realiz', 'spin', 'strategies'] not in stop_words.\n",
            "  warnings.warn(\n"
          ]
        }
      ],
      "source": [
        "# Create document word matrix\n",
        "vectorizer = CountVectorizer(analyzer='word',       \n",
        "                             min_df=10,                        # minimum reqd occurences of a word \n",
        "                             stop_words=stopwords,             # remove stop words\n",
        "                             lowercase=True,                   # convert all words to lowercase\n",
        "                             token_pattern='[a-zA-Z0-9]{3,}',  # num chars > 3\n",
        "                             max_features=50000,             # max number of uniq words\n",
        "                            )\n",
        "\n",
        "data_vectorized = vectorizer.fit_transform(data_lemmatized)\n",
        "print(data_vectorized.shape)"
      ]
    },
    {
      "cell_type": "code",
      "execution_count": null,
      "metadata": {
        "colab": {
          "base_uri": "https://localhost:8080/"
        },
        "id": "zlXlaeO_UpgI",
        "outputId": "cedff45f-97d5-4056-e6f4-0a93df574889"
      },
      "outputs": [
        {
          "name": "stdout",
          "output_type": "stream",
          "text": [
            "Sparsicity:  4.147080626791146 %\n"
          ]
        }
      ],
      "source": [
        "#SPARSE DATA\n",
        "# Materialize the sparse data\n",
        "data_dense = data_vectorized.todense()\n",
        "\n",
        "# Compute Sparsicity = Percentage of Non-Zero cells\n",
        "print(\"Sparsicity: \", ((data_dense > 0).sum()/data_dense.size)*100, \"%\")"
      ]
    },
    {
      "cell_type": "code",
      "execution_count": null,
      "metadata": {
        "colab": {
          "base_uri": "https://localhost:8080/"
        },
        "id": "-ZjydpmuUt6I",
        "outputId": "7f5ec6c8-c4a5-4ede-9060-0f3a6bebe432"
      },
      "outputs": [
        {
          "data": {
            "text/plain": [
              "GridSearchCV(estimator=LatentDirichletAllocation(),\n",
              "             param_grid={'batch_size': [128], 'evaluate_every': [20],\n",
              "                         'learning_decay': [0.5], 'max_iter': [100],\n",
              "                         'n_components': [4], 'n_jobs': [-1]})"
            ]
          },
          "execution_count": 11,
          "metadata": {},
          "output_type": "execute_result"
        }
      ],
      "source": [
        "#GRID SEARCH TO FIND BEST n_components\n",
        "#TARDA 11 min maomenos\n",
        "# Define Search Param\n",
        "search_params = {'n_components': [4], \n",
        "                 'learning_decay': [0.5],\n",
        "                 'max_iter':[100],            # Max learning iterations\n",
        "                 'evaluate_every': [20],\n",
        "                 'batch_size':[128],          # n docs in each learning iter\n",
        "                 'n_jobs':[-1],               # Use all available CPUs\n",
        "                 }\n",
        "\n",
        "# Init the Model\n",
        "lda = LatentDirichletAllocation()\n",
        "\n",
        "# Init Grid Search Class\n",
        "model = GridSearchCV(estimator=lda, param_grid=search_params)\n",
        "\n",
        "# Do the Grid Search\n",
        "model.fit(data_vectorized)"
      ]
    },
    {
      "cell_type": "code",
      "execution_count": null,
      "metadata": {
        "colab": {
          "base_uri": "https://localhost:8080/"
        },
        "id": "YjVz0R6gUzC4",
        "outputId": "7141a22e-a06b-46bc-d06a-8a02cc874414"
      },
      "outputs": [
        {
          "name": "stdout",
          "output_type": "stream",
          "text": [
            "Best Model's Params:  {'batch_size': 128, 'evaluate_every': 20, 'learning_decay': 0.5, 'max_iter': 100, 'n_components': 4, 'n_jobs': -1}\n",
            "Best Log Likelihood Score:  -62358.776883622995\n",
            "Model Perplexity:  541.551637560048\n"
          ]
        }
      ],
      "source": [
        "#GET BEST MODEL\n",
        "# Best Model\n",
        "best_lda_model = model.best_estimator_\n",
        "\n",
        "# Model Parameters\n",
        "print(\"Best Model's Params: \", model.best_params_)\n",
        "\n",
        "# Log Likelihood Score\n",
        "print(\"Best Log Likelihood Score: \", model.best_score_)\n",
        "\n",
        "# Perplexity\n",
        "print(\"Model Perplexity: \", best_lda_model.perplexity(data_vectorized))"
      ]
    }
  ],
  "metadata": {
    "colab": {
      "provenance": []
    },
    "kernelspec": {
      "display_name": "venv",
      "language": "python",
      "name": "python3"
    },
    "language_info": {
      "codemirror_mode": {
        "name": "ipython",
        "version": 3
      },
      "file_extension": ".py",
      "mimetype": "text/x-python",
      "name": "python",
      "nbconvert_exporter": "python",
      "pygments_lexer": "ipython3",
      "version": "3.10.6"
    },
    "vscode": {
      "interpreter": {
        "hash": "830c8696d55471405506006ee84ce951f1fee1ebc23505c2f5c8bcda98bf35ae"
      }
    }
  },
  "nbformat": 4,
  "nbformat_minor": 0
}
