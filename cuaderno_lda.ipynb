{
  "nbformat": 4,
  "nbformat_minor": 0,
  "metadata": {
    "colab": {
      "provenance": []
    },
    "kernelspec": {
      "name": "python3",
      "display_name": "Python 3"
    },
    "language_info": {
      "name": "python"
    }
  },
  "cells": [
    {
      "cell_type": "code",
      "execution_count": null,
      "metadata": {
        "id": "FY1by0CIGmMv",
        "colab": {
          "base_uri": "https://localhost:8080/"
        },
        "outputId": "6f339034-b095-46c8-c26e-828062e79e6f"
      },
      "outputs": [
        {
          "output_type": "stream",
          "name": "stdout",
          "text": [
            "Looking in indexes: https://pypi.org/simple, https://us-python.pkg.dev/colab-wheels/public/simple/\n",
            "Requirement already satisfied: pyLDAvis in /usr/local/lib/python3.8/dist-packages (3.3.1)\n",
            "Requirement already satisfied: joblib in /usr/local/lib/python3.8/dist-packages (from pyLDAvis) (1.2.0)\n",
            "Requirement already satisfied: numexpr in /usr/local/lib/python3.8/dist-packages (from pyLDAvis) (2.8.4)\n",
            "Requirement already satisfied: numpy>=1.20.0 in /usr/local/lib/python3.8/dist-packages (from pyLDAvis) (1.21.6)\n",
            "Requirement already satisfied: gensim in /usr/local/lib/python3.8/dist-packages (from pyLDAvis) (3.6.0)\n",
            "Requirement already satisfied: setuptools in /usr/local/lib/python3.8/dist-packages (from pyLDAvis) (57.4.0)\n",
            "Requirement already satisfied: pandas>=1.2.0 in /usr/local/lib/python3.8/dist-packages (from pyLDAvis) (1.3.5)\n",
            "Requirement already satisfied: sklearn in /usr/local/lib/python3.8/dist-packages (from pyLDAvis) (0.0.post1)\n",
            "Requirement already satisfied: funcy in /usr/local/lib/python3.8/dist-packages (from pyLDAvis) (1.18)\n",
            "Requirement already satisfied: jinja2 in /usr/local/lib/python3.8/dist-packages (from pyLDAvis) (2.11.3)\n",
            "Requirement already satisfied: scipy in /usr/local/lib/python3.8/dist-packages (from pyLDAvis) (1.7.3)\n",
            "Requirement already satisfied: future in /usr/local/lib/python3.8/dist-packages (from pyLDAvis) (0.16.0)\n",
            "Requirement already satisfied: scikit-learn in /usr/local/lib/python3.8/dist-packages (from pyLDAvis) (1.0.2)\n",
            "Requirement already satisfied: pytz>=2017.3 in /usr/local/lib/python3.8/dist-packages (from pandas>=1.2.0->pyLDAvis) (2022.7)\n",
            "Requirement already satisfied: python-dateutil>=2.7.3 in /usr/local/lib/python3.8/dist-packages (from pandas>=1.2.0->pyLDAvis) (2.8.2)\n",
            "Requirement already satisfied: smart-open>=1.2.1 in /usr/local/lib/python3.8/dist-packages (from gensim->pyLDAvis) (6.3.0)\n",
            "Requirement already satisfied: six>=1.5.0 in /usr/local/lib/python3.8/dist-packages (from gensim->pyLDAvis) (1.15.0)\n",
            "Requirement already satisfied: MarkupSafe>=0.23 in /usr/local/lib/python3.8/dist-packages (from jinja2->pyLDAvis) (2.0.1)\n",
            "Requirement already satisfied: threadpoolctl>=2.0.0 in /usr/local/lib/python3.8/dist-packages (from scikit-learn->pyLDAvis) (3.1.0)\n"
          ]
        }
      ],
      "source": [
        "# Run in terminal or command prompt\n",
        "# python3 -m spacy download en\n",
        "\n",
        "\n",
        "\n",
        "import numpy as np\n",
        "import pandas as pd\n",
        "import sklearn\n",
        "import re, nltk, spacy, gensim\n",
        "import os\n",
        "import json\n",
        "\n",
        "# Sklearn\n",
        "from sklearn.decomposition import LatentDirichletAllocation, TruncatedSVD\n",
        "from sklearn.feature_extraction.text import CountVectorizer, TfidfVectorizer\n",
        "from sklearn.model_selection import GridSearchCV\n",
        "from pprint import pprint\n",
        "import gensim\n",
        "from gensim.models import CoherenceModel\n",
        "\n",
        "# Plotting tools\n",
        "!pip install pyLDAvis\n",
        "# Plotting tools\n",
        "import pyLDAvis\n",
        "import pyLDAvis.sklearn\n",
        "import pyLDAvis.gensim_models\n",
        "import matplotlib.pyplot as plt\n",
        "%matplotlib inline\n",
        "\n",
        "os.chdir(\"/content/drive/MyDrive/Grupo MIDAS/LDA Horus\")"
      ]
    },
    {
      "cell_type": "code",
      "source": [
        "#collection data is being loaded from\n",
        "collection =  \"lda_info\"\n",
        "#documents data is being loaded from\n",
        "documents = [\n",
        "  \"_id\",\n",
        "  \"dc:description:eng\",\n",
        "  \"dc:title:eng\"\n",
        "]#read file\n",
        "f = open(\"avois_words.txt\", \"r\")\n",
        "#this is a list of words that are not relevant to the topic\n",
        "stopwords = f.read().splitlines()\n",
        "f.close()"
      ],
      "metadata": {
        "id": "rTw53dJtIRNw"
      },
      "execution_count": null,
      "outputs": []
    },
    {
      "cell_type": "code",
      "source": [
        "# Opening JSON file\n",
        "f = f=open(\"lda_info.json\",\"r\",encoding='utf-8')\n",
        "\n",
        "# returns JSON object as \n",
        "# a dictionary\n",
        "data = f.read().splitlines()\n",
        "\n",
        "data_full=[]\n",
        "for i in data:\n",
        "  data_full.append(json.loads(i))\n",
        "f.close()"
      ],
      "metadata": {
        "id": "kwqj1mDA5YAo"
      },
      "execution_count": null,
      "outputs": []
    },
    {
      "cell_type": "code",
      "source": [
        "data = []\n",
        "cnt = 0\n",
        "for document in data_full:\n",
        "    new_doc = []\n",
        "    for(key, value) in document.items():\n",
        "      if(key in documents):\n",
        "        new_doc.append(key + \":\" + str(value))\n",
        "    data.append(new_doc)"
      ],
      "metadata": {
        "id": "SB_hN7CfMG1x"
      },
      "execution_count": null,
      "outputs": []
    },
    {
      "cell_type": "code",
      "source": [
        "#TOKENIZE WORDS\n",
        "def tokenize_words(sentences):\n",
        "    for sentence in sentences:\n",
        "        yield(gensim.utils.simple_preprocess(str(sentence), deacc=True))  # deacc=True removes punctuations\n",
        "#Tokenizer de Stanford\n",
        "data_words = list(tokenize_words(data))\n",
        "\n",
        "print(data_words[:1])"
      ],
      "metadata": {
        "colab": {
          "base_uri": "https://localhost:8080/"
        },
        "id": "Kn8LeRGyURbp",
        "outputId": "e82a7d68-b64b-4474-ca8c-f71d4bd0e01b"
      },
      "execution_count": null,
      "outputs": [
        {
          "output_type": "stream",
          "name": "stdout",
          "text": [
            "[['numberint', 'dc', 'title', 'eng', 'systematic', 'evaluation', 'of', 'jatropha', 'curcas', 'oil', 'obtention', 'by', 'mechanical', 'and', 'solvent', 'extraction', 'dc', 'description', 'eng', 'current', 'biodiesel', 'production', 'relies', 'mostly', 'on', 'edible', 'oils', 'soybean', 'palm', 'rapeseed', 'which', 'is', 'major', 'drawback', 'for', 'the', 'process', 'as', 'raw', 'materials', 'represent', 'the', 'major', 'part', 'of', 'the', 'final', 'costs', 'of', 'the', 'biofuel', 'this', 'also', 'brings', 'out', 'concerns', 'about', 'food', 'and', 'feed', 'security', 'in', 'the', 'last', 'years', 'jatropha', 'curca', 'oil', 'has', 'obtained', 'attention', 'as', 'an', 'alternative', 'oleochemical', 'feedstock', 'because', 'it', 'is', 'perennial', 'crop', 'able', 'to', 'produce', 'up', 'to', 'gallon', 'per', 'hectare', 'year', 'of', 'non', 'edible', 'oil', 'even', 'though', 'several', 'authors', 'have', 'reported', 'process', 'conditions', 'and', 'yields', 'on', 'variety', 'of', 'extraction', 'methods', 'for', 'jatropha', 'oil', 'few', 'of', 'them', 'present', 'details', 'on', 'the', 'overall', 'process', 'from', 'the', 'industrial', 'standpoint', 'and', 'also', 'most', 'of', 'them', 'do', 'not', 'assess', 'the', 'impact', 'of', 'the', 'extraction', 'process', 'on', 'the', 'oil', 'quality', 'and', 'its', 'technical', 'requirements', 'for', 'biodiesel', 'production', 'in', 'this', 'regard', 'this', 'work', 'describes', 'the', 'development', 'of', 'jatropha', 'oil', 'production', 'process', 'involving', 'mechanical', 'and', 'solvent', 'extraction', 'the', 'effect', 'of', 'mechanical', 'extraction', 'parameters', 'such', 'as', 'speed', 'of', 'the', 'screw', 'diameter', 'and', 'temperature', 'of', 'discharge', 'each', 'one', 'was', 'analyzed', 'on', 'oil', 'yield', 'and', 'saponification', 'index', 'as', 'quality', 'parameter', 'expeller', 'power', 'consumption', 'and', 'extraction', 'efficiency', 'were', 'studied', 'in', 'solvent', 'extraction', 'experiments', 'it', 'was', 'evaluated', 'the', 'effect', 'of', 'the', 'nature', 'of', 'solvent', 'by', 'using', 'hexano', 'methanol', 'and', 'ethanol', 'the', 'seed', 'solvent', 'mass', 'ratio', 'and', 'and', 'the', 'particle', 'size', 'and', 'mm', 'on', 'oil', 'yield', 'and', 'oil', 'properties', 'saponification', 'index', 'humidity', 'the', 'most', 'favorable', 'conditions', 'of', 'each', 'extraction', 'process', 'were', 'established', 'an', 'optimization', 'study', 'allowed', 'establishing', 'most', 'favorable', 'conditions', 'for', 'industrial', 'processing', 'involving', 'mechanical', 'extraction', 'of', 'the', 'seeds', 'and', 'solvent', 'extraction', 'of', 'the', 'pressed', 'cake', 'oil', 'obtained', 'with', 'this', 'process', 'was', 'characterized', 'and', 'used', 'for', 'biodiesel', 'production']]\n"
          ]
        }
      ]
    },
    {
      "cell_type": "code",
      "source": [
        "# Remove long words\n",
        "\n",
        "def remove_long_words(words):\n",
        "  for word in words:\n",
        "    aux_word=[]\n",
        "    for character in word:\n",
        "      if len(character)>3:\n",
        "          aux_word.append(character)\n",
        "    yield aux_word\n",
        "\n",
        "\n",
        "short_words=list(remove_long_words(data_words))"
      ],
      "metadata": {
        "id": "gbXuEiebDB4z"
      },
      "execution_count": null,
      "outputs": []
    },
    {
      "cell_type": "markdown",
      "source": [
        "Se podría pintar el histograma de frecuencias"
      ],
      "metadata": {
        "id": "tSRkJPmV7eVr"
      }
    },
    {
      "cell_type": "code",
      "source": [
        "#LEMMATIZATION\n",
        "def lemmatization(texts, allowed_postags=['NOUN', 'ADJ', 'VERB', 'ADV']):\n",
        "    \"\"\"https://spacy.io/api/annotation\"\"\"\n",
        "    texts_out = []\n",
        "    for sent in texts:\n",
        "        doc = nlp(\" \".join(sent))\n",
        "        texts_out.append([token.lemma_ if token.lemma_ not in ['-PRON-'] else '' for token in doc if token.pos_ in allowed_postags])\n",
        "    return texts_out\n",
        "\n",
        "# Initialize spacy 'en' model, keeping only tagger component (for efficiency)\n",
        "nlp = spacy.load('en_core_web_sm', disable=['parser', 'ner'])\n",
        "\n",
        "# Do lemmatization keeping only Noun, Adj, Verb, Adverb\n",
        "data_lemmatized = lemmatization(short_words, allowed_postags=['NOUN', 'ADJ', 'VERB', 'ADV'])\n",
        "\n"
      ],
      "metadata": {
        "id": "TtynpxwGUf2B"
      },
      "execution_count": null,
      "outputs": []
    },
    {
      "cell_type": "code",
      "source": [
        "#Create a words dictionary with tokenized, clean and lemmatized elements\n",
        "dictionary = gensim.corpora.Dictionary(data_lemmatized)\n",
        "\n",
        "dictionary.filter_extremes(no_below=15, no_above=0.5, keep_n=100000)\n",
        "\n",
        "#For each document we create an dictionary that show many words and the number of times repeated \n",
        "bow_corpus = [dictionary.doc2bow(doc) for doc in data_lemmatized]"
      ],
      "metadata": {
        "id": "b2LPjE6BGGNd"
      },
      "execution_count": null,
      "outputs": []
    },
    {
      "cell_type": "markdown",
      "source": [
        "We create a tf-idf model object using models.TfidfModel from \"bow_corpus\" and place it in tfidf, then apply the transformation to the entire corpus and call it corpus_tfidf. Finally, we preview the TF-IDF scores for our first document."
      ],
      "metadata": {
        "id": "w5VTIrfkJSzt"
      }
    },
    {
      "cell_type": "code",
      "source": [
        "from gensim import corpora, models\n",
        "tfidf = models.TfidfModel(bow_corpus)\n",
        "corpus_tfidf = tfidf[bow_corpus]\n",
        "for doc in corpus_tfidf:\n",
        "    pprint(doc)\n",
        "    break"
      ],
      "metadata": {
        "colab": {
          "base_uri": "https://localhost:8080/"
        },
        "id": "zoLlphqjI9UW",
        "outputId": "07c98d89-6df8-430c-884f-b1d7571fecdf"
      },
      "execution_count": null,
      "outputs": [
        {
          "output_type": "stream",
          "name": "stdout",
          "text": [
            "[(0, 0.04712022481724221),\n",
            " (1, 0.03017857062411565),\n",
            " (2, 0.062394614181510016),\n",
            " (3, 0.05603770123450342),\n",
            " (4, 0.04147885214562807),\n",
            " (5, 0.05909957685270562),\n",
            " (6, 0.07549608164697481),\n",
            " (7, 0.057005479083418464),\n",
            " (8, 0.22648824494092443),\n",
            " (9, 0.058024215550057816),\n",
            " (10, 0.1257867236087987),\n",
            " (11, 0.06412151395401403),\n",
            " (12, 0.05035297592891162),\n",
            " (13, 0.05181416213577583),\n",
            " (14, 0.04712022481724221),\n",
            " (15, 0.06412151395401403),\n",
            " (16, 0.08768345080163738),\n",
            " (17, 0.06208262741732341),\n",
            " (18, 0.09669861201188158),\n",
            " (19, 0.06412151395401403),\n",
            " (20, 0.032272668393402815),\n",
            " (21, 0.04147885214562807),\n",
            " (22, 0.060833708683168175),\n",
            " (23, 0.038400707906124425),\n",
            " (24, 0.5909957685270562),\n",
            " (25, 0.07307398409491288),\n",
            " (26, 0.06485184681290412),\n",
            " (27, 0.04834930600594079),\n",
            " (28, 0.13796966223776375),\n",
            " (29, 0.11710885490769656),\n",
            " (30, 0.10070595185782324),\n",
            " (31, 0.06341774461871613),\n",
            " (32, 0.14393576336699937),\n",
            " (33, 0.06023823019508788),\n",
            " (34, 0.05557137688923049),\n",
            " (35, 0.026879139324744502),\n",
            " (36, 0.1124238629058823),\n",
            " (37, 0.052197373151147156),\n",
            " (38, 0.05546918916059223),\n",
            " (39, 0.05070805972436262),\n",
            " (40, 0.07424716291281958),\n",
            " (41, 0.09606928029538317),\n",
            " (42, 0.04772500915974483),\n",
            " (43, 0.06640079518333393),\n",
            " (44, 0.06023823019508788),\n",
            " (45, 0.01443078100596792),\n",
            " (46, 0.18032992505716913),\n",
            " (47, 0.057508144329321366),\n",
            " (48, 0.04866917318767202),\n",
            " (49, 0.1827444904922169),\n",
            " (50, 0.047420254453516775),\n",
            " (51, 0.09249415127122017),\n",
            " (52, 0.06023823019508788),\n",
            " (53, 0.06208262741732341),\n",
            " (54, 0.047420254453516775),\n",
            " (55, 0.04653377012223673),\n",
            " (56, 0.057005479083418464),\n",
            " (57, 0.07424716291281958),\n",
            " (58, 0.042624247004852005),\n",
            " (59, 0.058024215550057816),\n",
            " (60, 0.4454829774769175),\n",
            " (61, 0.06485184681290412),\n",
            " (62, 0.05054789632619934),\n",
            " (63, 0.028289117446955198),\n",
            " (64, 0.06640079518333393),\n",
            " (65, 0.05258832632461269),\n",
            " (66, 0.02388115126505981),\n",
            " (67, 0.10678951300983053),\n",
            " (68, 0.20167316573658622)]\n"
          ]
        }
      ]
    },
    {
      "cell_type": "markdown",
      "source": [
        "We are going to train our LDA model using gensim.models.LdaMulticore and save it to ‘lda_model’"
      ],
      "metadata": {
        "id": "fl17T35jJfIO"
      }
    },
    {
      "cell_type": "code",
      "source": [
        "lda_model = gensim.models.LdaMulticore(bow_corpus, num_topics=10, id2word=dictionary, passes=2, workers=2)"
      ],
      "metadata": {
        "colab": {
          "base_uri": "https://localhost:8080/"
        },
        "id": "TQdi3nrfJgCd",
        "outputId": "7c4f35d6-2381-4697-b349-1e278d57438c"
      },
      "execution_count": null,
      "outputs": [
        {
          "output_type": "stream",
          "name": "stderr",
          "text": [
            "WARNING:gensim.models.ldamulticore:too few updates, training might not converge; consider increasing the number of passes or iterations to improve accuracy\n"
          ]
        }
      ]
    },
    {
      "cell_type": "code",
      "source": [
        "lda_model_tfidf = gensim.models.LdaMulticore(corpus_tfidf, num_topics=10, id2word=dictionary, passes=2, workers=4)\n",
        "for idx, topic in lda_model_tfidf.print_topics(-1):\n",
        "    print('Topic: {} Word: {}'.format(idx, topic))"
      ],
      "metadata": {
        "colab": {
          "base_uri": "https://localhost:8080/"
        },
        "id": "gbJOZ3eXJ9FN",
        "outputId": "65be9bab-6e8d-4b46-f413-c151dc14ecba"
      },
      "execution_count": null,
      "outputs": [
        {
          "output_type": "stream",
          "name": "stderr",
          "text": [
            "WARNING:gensim.models.ldamulticore:too few updates, training might not converge; consider increasing the number of passes or iterations to improve accuracy\n"
          ]
        },
        {
          "output_type": "stream",
          "name": "stdout",
          "text": [
            "Topic: 0 Word: 0.007*\"operator\" + 0.007*\"image\" + 0.006*\"patient\" + 0.005*\"population\" + 0.005*\"model\" + 0.005*\"evolutionary\" + 0.005*\"process\" + 0.005*\"column\" + 0.005*\"visualization\" + 0.005*\"distillation\"\n",
            "Topic: 1 Word: 0.011*\"glycerol\" + 0.008*\"ethanol\" + 0.008*\"liquid\" + 0.008*\"model\" + 0.008*\"reaction\" + 0.008*\"system\" + 0.007*\"catalyst\" + 0.007*\"equilibrium\" + 0.006*\"immune\" + 0.006*\"process\"\n",
            "Topic: 2 Word: 0.011*\"image\" + 0.009*\"method\" + 0.008*\"fuzzy\" + 0.007*\"representation\" + 0.007*\"classification\" + 0.007*\"feature\" + 0.007*\"visual\" + 0.006*\"structure\" + 0.006*\"model\" + 0.005*\"learning\"\n",
            "Topic: 3 Word: 0.009*\"cluster\" + 0.007*\"network\" + 0.006*\"system\" + 0.006*\"search\" + 0.005*\"feature\" + 0.005*\"knowledge\" + 0.005*\"genetic\" + 0.005*\"innovation\" + 0.005*\"base\" + 0.004*\"technology\"\n",
            "Topic: 4 Word: 0.007*\"deep\" + 0.007*\"policy\" + 0.007*\"diesel\" + 0.007*\"classification\" + 0.006*\"particle\" + 0.006*\"solve\" + 0.005*\"emission\" + 0.005*\"estimation\" + 0.005*\"problem\" + 0.005*\"programming\"\n",
            "Topic: 5 Word: 0.013*\"network\" + 0.008*\"cluster\" + 0.006*\"service\" + 0.005*\"communication\" + 0.005*\"model\" + 0.005*\"information\" + 0.004*\"quality\" + 0.004*\"code\" + 0.004*\"datum\" + 0.004*\"image\"\n",
            "Topic: 6 Word: 0.006*\"quality\" + 0.006*\"system\" + 0.006*\"education\" + 0.006*\"region\" + 0.006*\"application\" + 0.006*\"service\" + 0.006*\"information\" + 0.005*\"sequence\" + 0.005*\"platform\" + 0.005*\"production\"\n",
            "Topic: 7 Word: 0.007*\"image\" + 0.007*\"approximation\" + 0.007*\"problem\" + 0.006*\"sequence\" + 0.006*\"method\" + 0.006*\"multimodal\" + 0.005*\"technique\" + 0.005*\"learn\" + 0.005*\"design\" + 0.005*\"operator\"\n",
            "Topic: 8 Word: 0.007*\"agent\" + 0.007*\"feature\" + 0.006*\"retrieval\" + 0.006*\"image\" + 0.006*\"price\" + 0.006*\"model\" + 0.006*\"service\" + 0.005*\"extraction\" + 0.005*\"phase\" + 0.005*\"query\"\n",
            "Topic: 9 Word: 0.009*\"software\" + 0.008*\"catalyst\" + 0.007*\"architecture\" + 0.007*\"fault\" + 0.006*\"system\" + 0.005*\"process\" + 0.005*\"fuzzy\" + 0.005*\"student\" + 0.005*\"model\" + 0.005*\"factor\"\n"
          ]
        }
      ]
    },
    {
      "cell_type": "markdown",
      "source": [
        "**Tareas a implementar**\n",
        "\n",
        "- Usar perplejidad para determinar la cantidad de clusters\n",
        "- Ver gráfica de frecuencias en palabras\n",
        "- Visualización dentro de Horus (Tipo cluseters e individuos)\n",
        "- Utilizar temática para la busqueda (se pueden utilizar medidas como la de cos2) -> Sistema de recuperación de informació basado en conceptos \n",
        "- Filtro de grupo\n",
        "- Filtro por concepto"
      ],
      "metadata": {
        "id": "XMpmZyZA8dpC"
      }
    },
    {
      "cell_type": "markdown",
      "source": [
        "**Model evaluation**"
      ],
      "metadata": {
        "id": "biTuLrztKfZB"
      }
    },
    {
      "cell_type": "code",
      "source": [
        "def compute_coherence_values(dictionary, corpus, texts, limit, start=2, step=1):\n",
        "        coherence_values = []\n",
        "        model_list = []\n",
        "        topics=[]\n",
        "        dictionary_aux=[]\n",
        "        for num_topics in range(start, limit, step):\n",
        "            model=gensim.models.LdaMulticore(corpus=corpus, id2word=dictionary, num_topics=num_topics)\n",
        "            model_list.append(model)\n",
        "            coherencemodel = CoherenceModel(model=model, texts=texts, dictionary=dictionary, coherence='c_v')\n",
        "            coherence_values.append(coherencemodel.get_coherence())\n",
        "            topics.append(num_topics)\n",
        "            dictionary_aux.append({\"modelo\":model,\"n_topicos\":num_topics,\"coherencia\":coherencemodel.get_coherence()})\n",
        "\n",
        "        return dictionary_aux"
      ],
      "metadata": {
        "id": "vpgBDelSKiUu"
      },
      "execution_count": null,
      "outputs": []
    },
    {
      "cell_type": "code",
      "source": [
        "diccionario_prueba=compute_coherence_values(dictionary=dictionary,corpus=corpus_tfidf,texts=data_lemmatized,limit=35,step=1)"
      ],
      "metadata": {
        "colab": {
          "base_uri": "https://localhost:8080/"
        },
        "id": "BT4UuyaSMSUb",
        "outputId": "5e07c437-2ab5-4488-ec30-67b78395cab4"
      },
      "execution_count": null,
      "outputs": [
        {
          "output_type": "stream",
          "name": "stderr",
          "text": [
            "WARNING:gensim.models.ldamulticore:too few updates, training might not converge; consider increasing the number of passes or iterations to improve accuracy\n",
            "WARNING:gensim.models.ldamulticore:too few updates, training might not converge; consider increasing the number of passes or iterations to improve accuracy\n",
            "WARNING:gensim.models.ldamulticore:too few updates, training might not converge; consider increasing the number of passes or iterations to improve accuracy\n",
            "WARNING:gensim.models.ldamulticore:too few updates, training might not converge; consider increasing the number of passes or iterations to improve accuracy\n",
            "WARNING:gensim.models.ldamulticore:too few updates, training might not converge; consider increasing the number of passes or iterations to improve accuracy\n",
            "WARNING:gensim.models.ldamulticore:too few updates, training might not converge; consider increasing the number of passes or iterations to improve accuracy\n",
            "WARNING:gensim.models.ldamulticore:too few updates, training might not converge; consider increasing the number of passes or iterations to improve accuracy\n",
            "WARNING:gensim.models.ldamulticore:too few updates, training might not converge; consider increasing the number of passes or iterations to improve accuracy\n",
            "WARNING:gensim.models.ldamulticore:too few updates, training might not converge; consider increasing the number of passes or iterations to improve accuracy\n",
            "WARNING:gensim.models.ldamulticore:too few updates, training might not converge; consider increasing the number of passes or iterations to improve accuracy\n",
            "WARNING:gensim.models.ldamulticore:too few updates, training might not converge; consider increasing the number of passes or iterations to improve accuracy\n",
            "WARNING:gensim.models.ldamulticore:too few updates, training might not converge; consider increasing the number of passes or iterations to improve accuracy\n",
            "WARNING:gensim.models.ldamulticore:too few updates, training might not converge; consider increasing the number of passes or iterations to improve accuracy\n",
            "WARNING:gensim.models.ldamulticore:too few updates, training might not converge; consider increasing the number of passes or iterations to improve accuracy\n",
            "WARNING:gensim.models.ldamulticore:too few updates, training might not converge; consider increasing the number of passes or iterations to improve accuracy\n",
            "WARNING:gensim.models.ldamulticore:too few updates, training might not converge; consider increasing the number of passes or iterations to improve accuracy\n",
            "WARNING:gensim.models.ldamulticore:too few updates, training might not converge; consider increasing the number of passes or iterations to improve accuracy\n",
            "WARNING:gensim.models.ldamulticore:too few updates, training might not converge; consider increasing the number of passes or iterations to improve accuracy\n",
            "WARNING:gensim.models.ldamulticore:too few updates, training might not converge; consider increasing the number of passes or iterations to improve accuracy\n",
            "WARNING:gensim.models.ldamulticore:too few updates, training might not converge; consider increasing the number of passes or iterations to improve accuracy\n",
            "WARNING:gensim.models.ldamulticore:too few updates, training might not converge; consider increasing the number of passes or iterations to improve accuracy\n",
            "WARNING:gensim.models.ldamulticore:too few updates, training might not converge; consider increasing the number of passes or iterations to improve accuracy\n",
            "WARNING:gensim.models.ldamulticore:too few updates, training might not converge; consider increasing the number of passes or iterations to improve accuracy\n",
            "WARNING:gensim.models.ldamulticore:too few updates, training might not converge; consider increasing the number of passes or iterations to improve accuracy\n",
            "WARNING:gensim.models.ldamulticore:too few updates, training might not converge; consider increasing the number of passes or iterations to improve accuracy\n",
            "WARNING:gensim.models.ldamulticore:too few updates, training might not converge; consider increasing the number of passes or iterations to improve accuracy\n",
            "WARNING:gensim.models.ldamulticore:too few updates, training might not converge; consider increasing the number of passes or iterations to improve accuracy\n",
            "WARNING:gensim.models.ldamulticore:too few updates, training might not converge; consider increasing the number of passes or iterations to improve accuracy\n",
            "WARNING:gensim.models.ldamulticore:too few updates, training might not converge; consider increasing the number of passes or iterations to improve accuracy\n",
            "WARNING:gensim.models.ldamulticore:too few updates, training might not converge; consider increasing the number of passes or iterations to improve accuracy\n",
            "WARNING:gensim.models.ldamulticore:too few updates, training might not converge; consider increasing the number of passes or iterations to improve accuracy\n",
            "WARNING:gensim.models.ldamulticore:too few updates, training might not converge; consider increasing the number of passes or iterations to improve accuracy\n",
            "WARNING:gensim.models.ldamulticore:too few updates, training might not converge; consider increasing the number of passes or iterations to improve accuracy\n"
          ]
        }
      ]
    },
    {
      "cell_type": "code",
      "source": [
        "from matplotlib import pyplot\n",
        "df_2=pd.DataFrame(diccionario_prueba).drop(\"modelo\",axis=1)\n",
        "df_2.index=df_2.n_topicos\n",
        "df_2=df_2.drop(\"n_topicos\",axis=1)\n",
        "df_2.plot()\n",
        "pyplot.show()"
      ],
      "metadata": {
        "colab": {
          "base_uri": "https://localhost:8080/",
          "height": 280
        },
        "id": "3LwuowHgfjyR",
        "outputId": "1c05925f-a3dd-468f-a687-fe2e25d06652"
      },
      "execution_count": null,
      "outputs": [
        {
          "output_type": "display_data",
          "data": {
            "text/plain": [
              "<Figure size 432x288 with 1 Axes>"
            ],
            "image/png": "[encoded data removed]"
          },
          "metadata": {
            "needs_background": "light"
          }
        }
      ]
    },
    {
      "cell_type": "markdown",
      "source": [
        "El tópico con mayor coherencia el 6 tópicos"
      ],
      "metadata": {
        "id": "yZTc3kjrgv8F"
      }
    },
    {
      "cell_type": "code",
      "source": [
        "mejor_modelo=diccionario_prueba[4][\"modelo\"]"
      ],
      "metadata": {
        "id": "TxJQiSdig2MD"
      },
      "execution_count": null,
      "outputs": []
    },
    {
      "cell_type": "code",
      "source": [
        "for idx, topic in mejor_modelo.print_topics(-1):\n",
        "    print('Topic: {} Word: {}'.format(idx, topic))"
      ],
      "metadata": {
        "colab": {
          "base_uri": "https://localhost:8080/"
        },
        "id": "7ltf7r7Hhij7",
        "outputId": "cd93ac2f-6b95-4eb2-d379-5d12b844f7e2"
      },
      "execution_count": null,
      "outputs": [
        {
          "output_type": "stream",
          "name": "stdout",
          "text": [
            "Topic: 0 Word: 0.007*\"model\" + 0.007*\"network\" + 0.006*\"system\" + 0.005*\"image\" + 0.005*\"process\" + 0.004*\"information\" + 0.004*\"query\" + 0.004*\"base\" + 0.004*\"cluster\" + 0.004*\"method\"\n",
            "Topic: 1 Word: 0.008*\"network\" + 0.007*\"model\" + 0.006*\"image\" + 0.005*\"system\" + 0.005*\"design\" + 0.005*\"immune\" + 0.004*\"high\" + 0.004*\"time\" + 0.004*\"reaction\" + 0.004*\"datum\"\n",
            "Topic: 2 Word: 0.005*\"cluster\" + 0.005*\"structure\" + 0.005*\"engineering\" + 0.005*\"design\" + 0.005*\"system\" + 0.005*\"learning\" + 0.004*\"datum\" + 0.004*\"fuzzy\" + 0.004*\"process\" + 0.004*\"network\"\n",
            "Topic: 3 Word: 0.008*\"cluster\" + 0.006*\"knowledge\" + 0.005*\"operator\" + 0.005*\"datum\" + 0.005*\"technique\" + 0.004*\"image\" + 0.004*\"model\" + 0.004*\"problem\" + 0.004*\"emission\" + 0.004*\"learn\"\n",
            "Topic: 4 Word: 0.011*\"image\" + 0.007*\"software\" + 0.006*\"network\" + 0.005*\"detection\" + 0.005*\"method\" + 0.005*\"neural\" + 0.005*\"system\" + 0.005*\"representation\" + 0.005*\"model\" + 0.005*\"problem\"\n",
            "Topic: 5 Word: 0.007*\"network\" + 0.007*\"catalyst\" + 0.005*\"measure\" + 0.004*\"measurement\" + 0.004*\"image\" + 0.004*\"algorithm\" + 0.004*\"problem\" + 0.004*\"method\" + 0.004*\"approach\" + 0.004*\"study\"\n"
          ]
        }
      ]
    },
    {
      "cell_type": "code",
      "source": [
        "pyLDAvis.enable_notebook()\n",
        "vis = pyLDAvis.gensim_models.prepare(mejor_modelo, corpus_tfidf, dictionary)\n",
        "vis"
      ],
      "metadata": {
        "colab": {
          "base_uri": "https://localhost:8080/",
          "height": 917
        },
        "id": "vv32whJXizIA",
        "outputId": "5e9a8b6a-086a-4099-e85c-4e4c82fbf62a"
      },
      "execution_count": null,
      "outputs": [
        {
          "output_type": "stream",
          "name": "stderr",
          "text": [
            "/usr/local/lib/python3.8/dist-packages/pyLDAvis/_prepare.py:246: FutureWarning: In a future version of pandas all arguments of DataFrame.drop except for the argument 'labels' will be keyword-only\n",
            "  default_term_info = default_term_info.sort_values(\n"
          ]
        },
        {
          "output_type": "execute_result",
          "data": {
            "text/plain": [
              "PreparedData(topic_coordinates=              x         y  topics  cluster       Freq\n",
              "topic                                                \n",
              "3      0.024480  0.008729       1        1  19.509073\n",
              "5      0.003289 -0.001343       2        1  16.854806\n",
              "2      0.005378  0.020403       3        1  16.770994\n",
              "4     -0.034540  0.008384       4        1  16.432746\n",
              "1      0.001078 -0.023638       5        1  15.332715\n",
              "0      0.000315 -0.012535       6        1  15.099666, topic_info=          Term       Freq      Total Category  logprob  loglift\n",
              "318   catalyst   7.000000   7.000000  Default  30.0000  30.0000\n",
              "430      image  21.000000  21.000000  Default  29.0000  29.0000\n",
              "740     immune   6.000000   6.000000  Default  28.0000  28.0000\n",
              "186   software  11.000000  11.000000  Default  27.0000  27.0000\n",
              "732   operator   7.000000   7.000000  Default  26.0000  26.0000\n",
              "..         ...        ...        ...      ...      ...      ...\n",
              "1        allow   1.858044  10.098712   Topic6  -5.7414   0.1976\n",
              "211  technique   1.906184  11.766143   Topic6  -5.7158   0.0704\n",
              "77        ieee   1.783417   9.230828   Topic6  -5.7824   0.2465\n",
              "70   algorithm   1.794998  11.620859   Topic6  -5.7759   0.0227\n",
              "271    propose   1.777276  12.759978   Topic6  -5.7858  -0.0807\n",
              "\n",
              "[377 rows x 6 columns], token_table=      Topic      Freq      Term\n",
              "term                           \n",
              "92        1  0.402997  abstract\n",
              "92        2  0.201499  abstract\n",
              "92        5  0.201499  abstract\n",
              "92        6  0.201499  abstract\n",
              "523       1  0.206364   account\n",
              "...     ...       ...       ...\n",
              "67        1  0.218375      year\n",
              "67        5  0.218375      year\n",
              "67        6  0.436749      year\n",
              "68        3  0.305147     yield\n",
              "68        5  0.305147     yield\n",
              "\n",
              "[1144 rows x 3 columns], R=30, lambda_step=0.01, plot_opts={'xlab': 'PC1', 'ylab': 'PC2'}, topic_order=[4, 6, 3, 5, 2, 1])"
            ],
            "text/html": [
              "\n",
              "<link rel=\"stylesheet\" type=\"text/css\" href=\"https://cdn.jsdelivr.net/gh/bmabey/pyLDAvis@3.3.1/pyLDAvis/js/ldavis.v1.0.0.css\">\n",
              "\n",
              "\n",
              "<div id=\"ldavis_el21493140492279584576741577209\"></div>\n",
              "<script type=\"text/javascript\">\n",
              "\n",
              "var ldavis_el21493140492279584576741577209_data = {\"mdsDat\": {\"x\": [0.02448037410809875, 0.003288921201926383, 0.005378247925512229, -0.034539610335871024, 0.0010775500401394294, 0.00031451706019431015], \"y\": [0.008728854159339512, -0.0013426478554067057, 0.020403110198485917, 0.008384246167976901, -0.023638479253949234, -0.012535083416446395], \"topics\": [1, 2, 3, 4, 5, 6], \"cluster\": [1, 1, 1, 1, 1, 1], \"Freq\": [19.509072804797427, 16.854805855279807, 16.770994295023826, 16.432745829139446, 15.332715386411222, 15.099665829348256]}, \"tinfo\": {\"Term\": [\"catalyst\", \"image\", \"immune\", \"software\", \"operator\", \"protocol\", \"processing\", \"parallel\", \"biodiesel\", \"developer\", \"engineering\", \"selection\", \"automatic\", \"query\", \"network\", \"neural\", \"artificial\", \"cluster\", \"simulation\", \"factor\", \"business\", \"service\", \"reaction\", \"measurement\", \"visualization\", \"detection\", \"innovation\", \"normal\", \"glycerol\", \"self\", \"organizational\", \"operator\", \"vehicle\", \"benchmark\", \"location\", \"weight\", \"prototype\", \"speed\", \"decision\", \"knowledge\", \"abstract\", \"mass\", \"adaptation\", \"strategic\", \"transfer\", \"role\", \"selection\", \"clustering\", \"incorporate\", \"assign\", \"factor\", \"intelligence\", \"encode\", \"mode\", \"policy\", \"cluster\", \"integration\", \"sustainable\", \"define\", \"author\", \"pattern\", \"column\", \"innovation\", \"emission\", \"technique\", \"patient\", \"group\", \"function\", \"learn\", \"type\", \"datum\", \"algorithm\", \"management\", \"problem\", \"research\", \"process\", \"evolutionary\", \"different\", \"time\", \"model\", \"image\", \"genetic\", \"system\", \"method\", \"base\", \"fuzzy\", \"source\", \"catalyst\", \"parallel\", \"statistical\", \"measurement\", \"business\", \"promote\", \"security\", \"cycle\", \"measure\", \"precision\", \"surface\", \"perspective\", \"operational\", \"capacity\", \"load\", \"region\", \"procedure\", \"requirement\", \"infrastructure\", \"promise\", \"resolution\", \"regard\", \"hardware\", \"employ\", \"kinetic\", \"wide\", \"experience\", \"organization\", \"activity\", \"intend\", \"country\", \"simulation\", \"sequence\", \"framework\", \"development\", \"management\", \"implementation\", \"solution\", \"device\", \"document\", \"term\", \"algorithm\", \"network\", \"support\", \"area\", \"tool\", \"evaluate\", \"study\", \"approach\", \"problem\", \"different\", \"result\", \"method\", \"analysis\", \"base\", \"image\", \"propose\", \"information\", \"model\", \"system\", \"high\", \"process\", \"cluster\", \"design\", \"acid\", \"glycerol\", \"complete\", \"constant\", \"company\", \"possibility\", \"classifier\", \"third\", \"limitation\", \"chemical\", \"class\", \"structure\", \"scheme\", \"engineering\", \"size\", \"factor\", \"individual\", \"rule\", \"configuration\", \"memory\", \"property\", \"binary\", \"multi\", \"conversion\", \"sense\", \"resource\", \"product\", \"input\", \"engineer\", \"conduct\", \"learning\", \"computing\", \"water\", \"mechanism\", \"number\", \"proposal\", \"operator\", \"agent\", \"parameter\", \"fuzzy\", \"cluster\", \"design\", \"different\", \"approach\", \"datum\", \"process\", \"system\", \"information\", \"propose\", \"order\", \"application\", \"problem\", \"feature\", \"method\", \"network\", \"model\", \"work\", \"developer\", \"normal\", \"automatic\", \"convolutional\", \"software\", \"negative\", \"volume\", \"sense\", \"widely\", \"detection\", \"question\", \"disease\", \"selection\", \"success\", \"word\", \"effective\", \"image\", \"neural\", \"monitoring\", \"sensor\", \"detect\", \"creation\", \"apply\", \"answer\", \"medical\", \"uncertainty\", \"facilitate\", \"therefore\", \"element\", \"code\", \"behavior\", \"sequence\", \"representation\", \"fault\", \"classification\", \"technology\", \"traffic\", \"architecture\", \"project\", \"user\", \"feature\", \"method\", \"network\", \"collection\", \"problem\", \"system\", \"text\", \"model\", \"base\", \"allow\", \"control\", \"propose\", \"approach\", \"datum\", \"application\", \"source\", \"biodiesel\", \"protocol\", \"immune\", \"yield\", \"processing\", \"strong\", \"response\", \"flow\", \"medium\", \"inspire\", \"carbon\", \"frequency\", \"special\", \"artificial\", \"pollutant\", \"resolution\", \"random\", \"reaction\", \"simple\", \"social\", \"series\", \"inventory\", \"surface\", \"liquid\", \"physical\", \"mode\", \"conference\", \"bogota\", \"self\", \"education\", \"engineering\", \"increase\", \"network\", \"high\", \"concentration\", \"model\", \"production\", \"time\", \"quality\", \"extraction\", \"design\", \"image\", \"system\", \"datum\", \"neural\", \"study\", \"obtain\", \"emission\", \"analysis\", \"present\", \"problem\", \"base\", \"show\", \"query\", \"demand\", \"hierarchical\", \"visualization\", \"plan\", \"filter\", \"algorithms\", \"year\", \"last\", \"chain\", \"market\", \"idea\", \"conclude\", \"vector\", \"account\", \"pollutant\", \"theory\", \"economic\", \"dynamic\", \"usually\", \"recent\", \"supply\", \"reduction\", \"maintain\", \"train\", \"energy\", \"innovation\", \"layer\", \"optimize\", \"price\", \"multimodal\", \"colombian\", \"hardware\", \"service\", \"model\", \"quality\", \"artificial\", \"user\", \"system\", \"network\", \"process\", \"information\", \"such\", \"image\", \"base\", \"design\", \"method\", \"architecture\", \"performance\", \"cluster\", \"solution\", \"present\", \"result\", \"analysis\", \"study\", \"allow\", \"technique\", \"ieee\", \"algorithm\", \"propose\"], \"Freq\": [7.0, 21.0, 6.0, 11.0, 7.0, 4.0, 5.0, 4.0, 3.0, 4.0, 8.0, 6.0, 6.0, 5.0, 21.0, 9.0, 6.0, 16.0, 7.0, 6.0, 5.0, 9.0, 7.0, 7.0, 5.0, 8.0, 7.0, 4.0, 6.0, 6.0, 2.022347576079844, 3.608327261897567, 2.621785266397787, 1.7589816659012865, 1.943421166063077, 1.9566344163257676, 1.8907692600572252, 1.47530219634614, 3.0631406619902517, 4.158264928112723, 2.061992898332365, 1.8398965664011178, 1.0151642623965091, 1.2109661549206132, 1.983465196240141, 1.153441742092786, 2.439760473749315, 1.3367897575476047, 1.1604361933821759, 1.2834482957622086, 2.4391812155550103, 1.4480664406097188, 1.208269479073758, 1.5866923109422457, 1.7495869580844894, 5.942069209211487, 1.386769711080088, 1.188832728914638, 2.4997054267173042, 1.868219105921383, 2.534073875704726, 2.1038527035946117, 2.38981577714029, 3.238747649919678, 3.4808270837424553, 1.920246137367764, 2.406796033802733, 2.3071810352087363, 3.162125388668594, 2.4447974258266316, 3.569557878321195, 3.0831369961098445, 2.4864437743572236, 3.2455281221526207, 2.4450517980003257, 3.052546870559335, 2.4884058003841605, 2.7659382035707707, 2.692467650114487, 3.2515247589810667, 3.3192434718280786, 2.4066071263363007, 2.9386741462269534, 2.7723678476517675, 2.7187825472426494, 2.551584988464083, 2.484727763307309, 4.265172103714256, 2.491873110490581, 1.6234028873645996, 2.891679943846944, 2.1589723332492605, 1.405731747197934, 1.4938541382834531, 1.3410355160139524, 3.26693803044856, 1.0636450266033723, 1.2898022043711705, 1.0582445610402795, 1.2673605454684618, 1.1633300773189836, 0.9401784479786253, 1.9882970138715954, 1.0500475560853273, 1.5561931326221115, 1.004191319645773, 0.8525644023668328, 0.951569628443146, 1.0655411499556617, 1.4327947696127912, 0.8032616603297753, 0.9751275565455961, 0.9144325058916128, 1.1363116545292071, 1.3495220800862073, 1.9652437459450154, 0.8547767092331844, 1.408500383620308, 2.171434205556358, 1.8138484007497568, 2.2886845892189824, 2.5618800815163723, 2.454440111168277, 2.3924279801864494, 2.533034578301497, 1.7168503082223923, 2.354129462338972, 1.7485184487547645, 2.768792257826321, 4.2801359172151665, 2.005806540879638, 1.8995866297525512, 2.0208536872382044, 2.106260690694869, 2.562363833267668, 2.569952839286446, 2.635406737625676, 2.3822761127439835, 2.3233900168664574, 2.5896224020994048, 2.2785704772770066, 2.4397833055418667, 2.87083770421399, 2.356671114497445, 2.311093456491784, 2.5565955148103607, 2.514211581053306, 2.0968640836825205, 2.1856153821287885, 2.182748220396371, 2.1252160578252552, 1.9962682405114436, 2.4538644985068316, 1.3139676915361977, 1.351177434221856, 1.7094792615690828, 1.2525559304429619, 2.0299831339094276, 0.9590685153112831, 0.9891087280974329, 1.7243637273982624, 2.2004921159761452, 3.022653390324842, 1.701051062072799, 3.015397574317652, 1.9785669411236333, 2.129039884871558, 1.6878941144653898, 2.149454444554313, 1.1540896368872504, 1.031243738684997, 2.1288884164570345, 1.1093429935279249, 1.1144132190972873, 0.8299040493347918, 1.1538777756809677, 1.9298053370730073, 2.4740080015703154, 1.014504158958769, 0.856771358050303, 1.2761317197533388, 2.9090853066930253, 1.71314084585061, 1.6028950392911068, 1.698641786313326, 2.3186461603006525, 1.6744448567655252, 2.078740397462009, 2.459833132335263, 1.8657844876378984, 2.661341053402785, 3.3804894373301737, 2.9926012785871556, 2.5362811270168946, 2.5897994679074166, 2.7064989963699277, 2.6155305390054813, 2.919297151540967, 2.472736834332619, 2.4728845609384833, 2.2349679435830603, 2.233909460749551, 2.4221293212342463, 2.2335945501327945, 2.3738107473288674, 2.5905490270180236, 2.308186607719473, 2.0916295812417673, 2.3865738412153985, 1.9904787419903516, 2.843954036681073, 2.2969793098652795, 4.717253281271682, 1.556559171811001, 1.4061737670404486, 1.4196439053297152, 1.2050830074155072, 3.2391542552981605, 1.6140015023075491, 1.6931276023962158, 2.2055570340023767, 1.1534564476219347, 1.7518100362065805, 1.1787932131274699, 7.1577543115067055, 3.163306744339541, 1.3488588785708289, 1.7273744574162062, 1.4707651699520776, 0.9854165824535761, 2.7700573126524897, 1.4251253790241944, 1.7840629881217165, 1.4230556559792686, 0.8120446103392155, 1.234949317735439, 1.3725534164382236, 2.6590836113534397, 2.16791617342519, 1.8739118169110691, 3.0069584019223736, 2.2127458495581913, 2.4833731733698197, 2.465883551681182, 1.9207205841296844, 2.4653397599253126, 2.48749854070871, 2.107728633144899, 2.830047457112015, 3.169704656729389, 3.710531368984893, 2.0787108608776808, 2.882942204394498, 3.120173851004654, 2.1313570302135085, 2.923898757476661, 2.590273129416836, 2.2719474373102435, 2.1159185065555044, 2.4179364587859062, 2.3951230160828216, 2.4128565228011274, 2.2448213505497563, 2.189434077732549, 2.018833678618667, 2.2502840666518305, 2.6584467010166275, 1.3158538810318137, 2.2912118518031157, 1.1986668631142916, 1.4879158771107508, 2.1721690578166477, 1.613740012376147, 1.3655850398297318, 1.256589326073782, 1.7152142364416565, 0.9837311305880599, 1.9711084054861872, 1.0332611397899487, 1.0028164642486017, 1.6275652841005204, 2.3999919112982884, 1.6153467460881041, 1.7680712873291633, 1.2970710243658452, 1.181237729545955, 1.113316079116906, 1.3530832503453558, 1.0399556583350804, 1.2592486058351662, 0.8870724552187857, 1.7605211988186071, 1.8421219796328734, 1.6925387930013698, 2.33422721398639, 1.853259099102827, 4.661447853880883, 2.508536885755381, 1.9748585455057663, 3.8305733117176706, 2.262341000805124, 2.4955007498951582, 2.023011569411843, 1.6743773106997344, 2.69480278004319, 3.307594214266381, 2.9229679983474606, 2.373645966658075, 1.9400931903253544, 2.0650943911210082, 2.012459836317273, 1.986905490597488, 1.96614165250178, 1.9573694775680006, 2.067406790456587, 1.8845026943152061, 1.8039302394969676, 2.418343282986055, 1.185415802181702, 1.4983686345499014, 2.0173827922398906, 1.4778850901099896, 1.042300975979595, 1.0260768186127651, 1.6253007410441564, 1.2725011862896036, 1.613873784399126, 1.4471275666192416, 1.144910928489827, 0.9127131535038555, 1.1718749185240345, 1.5022767111288196, 0.9555865094532758, 1.7161516292327694, 1.0595387052228544, 2.0327583872048227, 0.7335114492182947, 1.0440000547543025, 1.1991332170044462, 0.9980505421859636, 0.7206378803159391, 1.29202607217352, 1.6835215278260651, 2.0235376658534046, 1.0784586686640012, 0.7355150779419126, 1.4677896635734482, 1.6827667560279023, 1.6238759593583902, 1.301291397964358, 2.285101602284769, 3.8520517859271934, 2.026468352706903, 1.5565514199665036, 1.8044882285068808, 3.352198806018417, 3.7708746708281566, 2.7187109256070623, 2.512025003376776, 2.0689081966272767, 3.0699993196859143, 2.403498763839113, 2.310438810467982, 2.3320308628192823, 1.8615577895305848, 1.9534472469476285, 2.3347529464334387, 1.8634637870869524, 1.9579823460541046, 1.9714786252723522, 1.9427397558677457, 1.969816537188342, 1.8580437412926465, 1.9061844637920737, 1.7834174147407071, 1.7949983981961821, 1.7772761515452642], \"Total\": [7.0, 21.0, 6.0, 11.0, 7.0, 4.0, 5.0, 4.0, 3.0, 4.0, 8.0, 6.0, 6.0, 5.0, 21.0, 9.0, 6.0, 16.0, 7.0, 6.0, 5.0, 9.0, 7.0, 7.0, 5.0, 8.0, 7.0, 4.0, 6.0, 6.0, 3.517739905272996, 7.6653398558904, 5.655188553332971, 3.8488355359579534, 4.286769901261892, 4.334574524289847, 4.484538795152867, 3.5238154443189194, 7.332513971418791, 9.974077812372359, 4.962812457724264, 4.573750833182764, 2.5545527627142053, 3.096930988628193, 5.116135215622011, 2.9865663102402764, 6.390716927020487, 3.5136574021098075, 3.0508359181174507, 3.392401087229695, 6.452654141561136, 3.8591461777359797, 3.2537882118548067, 4.276159813370024, 4.730944275470967, 16.318507376076933, 3.8293706473088616, 3.2898297861293204, 6.972836295791695, 5.270124450927223, 7.355361922069071, 6.161853397879181, 7.162112727613387, 10.696455578274968, 11.76614265325679, 5.644772437663465, 7.511306994033393, 7.142489786770467, 11.427642868664641, 8.05447728536251, 14.217370819885609, 11.620858605486202, 8.850254605717744, 14.639845824257598, 8.837329943262203, 14.106682166537016, 9.21417757463657, 12.0568264174617, 11.304574968977532, 18.722830736632428, 21.12887877432994, 8.686149646663775, 17.76752353419176, 14.746971979603108, 13.892923016829702, 11.252137297919539, 10.021767507160348, 7.792550029767065, 4.97854326664166, 3.3118649521966694, 7.102966425090198, 5.506177476077571, 3.709117971975665, 4.12852195215339, 3.7376168329257458, 9.106887077409256, 3.003108495033578, 3.7159002650734965, 3.0896357304301896, 3.712695979769303, 3.491432880722539, 2.9099148888966297, 6.180991889653624, 3.318991801137104, 4.99791342770684, 3.2385997210677746, 2.7609847965797187, 3.1299635467704103, 3.513002796881157, 4.763505840537375, 2.706963919646288, 3.3067385794177317, 3.106711143510786, 3.8656964200779163, 4.6051597173666305, 6.7580648150849285, 2.945742451405029, 4.869451331863628, 7.566106236653685, 6.326588170578486, 8.172305202199336, 9.234132700021009, 8.850254605717744, 8.724240541407523, 9.452334375158763, 6.092525416878269, 9.243212804403992, 6.392499057195891, 11.620858605486202, 21.26140971889839, 7.783911033150899, 7.281516044347445, 8.017195929300918, 8.61762962537936, 12.026636898889276, 12.791675540794273, 14.639845824257598, 12.0568264174617, 11.56679443935895, 14.746971979603108, 11.265227136357304, 13.892923016829702, 21.12887877432994, 12.759977503917673, 12.693190633636735, 18.722830736632428, 17.76752353419176, 10.305052598274274, 14.106682166537016, 16.318507376076933, 13.81014219115206, 4.619548842516592, 6.120071857312296, 3.3856612132517494, 3.4919040664258394, 4.490904449287553, 3.3194371804095564, 5.578134896988957, 2.640974791968536, 2.725528011568079, 4.760751999837531, 6.194809726982346, 8.526656352318982, 4.928906481289088, 8.83075756339233, 5.870488645874666, 6.452654141561136, 5.180222263881939, 6.686227063564497, 3.606907319190936, 3.2945956318713687, 6.805697183292685, 3.5948570680024576, 3.6275688091146066, 2.7566028194438505, 3.844619786585922, 6.452895590951056, 8.2957610231439, 3.420846135285201, 2.9041574918911657, 4.327344872557066, 10.06739164039978, 5.934856875670258, 5.55008828317617, 5.919491686389196, 8.385807777435309, 5.901563548068803, 7.6653398558904, 9.410047120206983, 6.791432040002624, 11.252137297919539, 16.318507376076933, 13.81014219115206, 12.0568264174617, 12.791675540794273, 14.217370819885609, 14.106682166537016, 17.76752353419176, 12.693190633636735, 12.759977503917673, 10.351098226897857, 10.80909255546872, 14.639845824257598, 11.654887812916678, 14.746971979603108, 21.26140971889839, 18.722830736632428, 10.615613379495445, 4.726857052240883, 4.421705430255339, 6.585143412719218, 5.399198852079274, 11.68012846300796, 4.005293447297429, 3.624166575212692, 3.844619786585922, 3.2838722011191495, 8.885125781284353, 4.428041168477358, 4.746900359971745, 6.390716927020487, 3.3478929411151452, 5.091382534138255, 3.4498021449028733, 21.12887877432994, 9.533393032014008, 4.078353104288351, 5.260812807261295, 4.553606611857186, 3.053156115336765, 8.583431478892983, 4.440185017935579, 5.623707988801684, 4.51871884785776, 2.608413173984496, 4.04853128255935, 4.507787049036352, 8.759978020032205, 7.194713268978689, 6.326588170578486, 10.623282878307217, 7.640336257213946, 8.764608181735781, 8.728281915051959, 6.654031495723858, 9.347159002450342, 9.555439885802206, 7.585240147827549, 11.654887812916678, 14.746971979603108, 21.26140971889839, 7.619029681724119, 14.639845824257598, 17.76752353419176, 8.163120675926844, 18.722830736632428, 13.892923016829702, 10.098711834608348, 8.629227917336525, 12.759977503917673, 12.791675540794273, 14.217370819885609, 10.80909255546872, 10.021767507160348, 3.779506108959836, 4.476756422292556, 6.414695483469663, 3.2771062064203655, 5.761936772923448, 3.149592592215217, 3.9851071480269136, 6.16504366139932, 4.612487759247596, 3.916302294473662, 3.65355474432123, 5.1847685246645, 3.0244265287923175, 6.063007191285578, 3.1867119605550474, 3.1299635467704103, 5.094368359053418, 7.5565898912315195, 5.089846554202711, 5.726447765895348, 4.224559655422251, 3.8852231526466485, 3.7159002650734965, 4.548795887152822, 3.5243984847035263, 4.276159813370024, 3.0257180356146534, 6.081028254074539, 6.451970487525159, 5.956463023254326, 8.83075756339233, 6.896468466972115, 21.26140971889839, 10.305052598274274, 7.657745817304521, 18.722830736632428, 9.420989960106665, 11.304574968977532, 8.451995386483254, 6.362638801793963, 13.81014219115206, 21.12887877432994, 17.76752353419176, 14.217370819885609, 9.533393032014008, 12.026636898889276, 11.06766502076789, 10.696455578274968, 11.265227136357304, 11.270969346448805, 14.639845824257598, 13.892923016829702, 10.408904858118522, 5.723223728673849, 2.8768686915557593, 3.646103597565748, 5.151094358244022, 3.805828362883452, 2.76095229276973, 2.7773372258075915, 4.579285631201319, 3.791091975669204, 4.8965789748731545, 4.533642134862767, 3.6701531718439675, 2.9302267968507603, 3.7758510565671366, 4.845805912040195, 3.1867119605550474, 5.831969233243019, 3.6585222434451463, 7.036134272157325, 2.5478474414553727, 3.627778620454365, 4.1702292523998885, 3.488211525218192, 2.519268831588752, 4.533389986785065, 5.953642940003104, 7.162112727613387, 3.8326686134015606, 2.6161933115950005, 5.2636256329151925, 6.093601961094096, 6.05566166142869, 4.763505840537375, 9.709492469913805, 18.722830736632428, 8.451995386483254, 6.063007191285578, 7.585240147827549, 17.76752353419176, 21.26140971889839, 14.106682166537016, 12.693190633636735, 9.622169592539386, 21.12887877432994, 13.892923016829702, 13.81014219115206, 14.746971979603108, 9.347159002450342, 10.537266258599683, 16.318507376076933, 9.452334375158763, 11.270969346448805, 11.56679443935895, 11.265227136357304, 12.026636898889276, 10.098711834608348, 11.76614265325679, 9.23082834502295, 11.620858605486202, 12.759977503917673], \"Category\": [\"Default\", \"Default\", \"Default\", \"Default\", \"Default\", \"Default\", \"Default\", \"Default\", \"Default\", \"Default\", \"Default\", \"Default\", \"Default\", \"Default\", \"Default\", \"Default\", \"Default\", \"Default\", \"Default\", \"Default\", \"Default\", \"Default\", \"Default\", \"Default\", \"Default\", \"Default\", \"Default\", \"Default\", \"Default\", \"Default\", \"Topic1\", \"Topic1\", \"Topic1\", \"Topic1\", \"Topic1\", \"Topic1\", \"Topic1\", \"Topic1\", \"Topic1\", \"Topic1\", \"Topic1\", \"Topic1\", \"Topic1\", \"Topic1\", \"Topic1\", \"Topic1\", \"Topic1\", \"Topic1\", \"Topic1\", \"Topic1\", \"Topic1\", \"Topic1\", \"Topic1\", \"Topic1\", \"Topic1\", \"Topic1\", \"Topic1\", \"Topic1\", \"Topic1\", \"Topic1\", \"Topic1\", \"Topic1\", \"Topic1\", \"Topic1\", \"Topic1\", \"Topic1\", \"Topic1\", \"Topic1\", \"Topic1\", \"Topic1\", \"Topic1\", \"Topic1\", \"Topic1\", \"Topic1\", \"Topic1\", \"Topic1\", \"Topic1\", \"Topic1\", \"Topic1\", \"Topic1\", \"Topic1\", \"Topic1\", \"Topic1\", \"Topic1\", \"Topic1\", \"Topic1\", \"Topic1\", \"Topic2\", \"Topic2\", \"Topic2\", \"Topic2\", \"Topic2\", \"Topic2\", \"Topic2\", \"Topic2\", \"Topic2\", \"Topic2\", \"Topic2\", \"Topic2\", \"Topic2\", \"Topic2\", \"Topic2\", \"Topic2\", \"Topic2\", \"Topic2\", \"Topic2\", \"Topic2\", \"Topic2\", \"Topic2\", \"Topic2\", \"Topic2\", \"Topic2\", \"Topic2\", \"Topic2\", \"Topic2\", \"Topic2\", \"Topic2\", \"Topic2\", \"Topic2\", \"Topic2\", \"Topic2\", \"Topic2\", \"Topic2\", \"Topic2\", \"Topic2\", \"Topic2\", \"Topic2\", \"Topic2\", \"Topic2\", \"Topic2\", \"Topic2\", \"Topic2\", \"Topic2\", \"Topic2\", \"Topic2\", \"Topic2\", \"Topic2\", \"Topic2\", \"Topic2\", \"Topic2\", \"Topic2\", \"Topic2\", \"Topic2\", \"Topic2\", \"Topic2\", \"Topic2\", \"Topic2\", \"Topic2\", \"Topic2\", \"Topic2\", \"Topic2\", \"Topic3\", \"Topic3\", \"Topic3\", \"Topic3\", \"Topic3\", \"Topic3\", \"Topic3\", \"Topic3\", \"Topic3\", \"Topic3\", \"Topic3\", \"Topic3\", \"Topic3\", \"Topic3\", \"Topic3\", \"Topic3\", \"Topic3\", \"Topic3\", \"Topic3\", \"Topic3\", \"Topic3\", \"Topic3\", \"Topic3\", \"Topic3\", \"Topic3\", \"Topic3\", \"Topic3\", \"Topic3\", \"Topic3\", \"Topic3\", \"Topic3\", \"Topic3\", \"Topic3\", \"Topic3\", \"Topic3\", \"Topic3\", \"Topic3\", \"Topic3\", \"Topic3\", \"Topic3\", \"Topic3\", \"Topic3\", \"Topic3\", \"Topic3\", \"Topic3\", \"Topic3\", \"Topic3\", \"Topic3\", \"Topic3\", \"Topic3\", \"Topic3\", \"Topic3\", \"Topic3\", \"Topic3\", \"Topic3\", \"Topic3\", \"Topic3\", \"Topic4\", \"Topic4\", \"Topic4\", \"Topic4\", \"Topic4\", \"Topic4\", \"Topic4\", \"Topic4\", \"Topic4\", \"Topic4\", \"Topic4\", \"Topic4\", \"Topic4\", \"Topic4\", \"Topic4\", \"Topic4\", \"Topic4\", \"Topic4\", \"Topic4\", \"Topic4\", \"Topic4\", \"Topic4\", \"Topic4\", \"Topic4\", \"Topic4\", \"Topic4\", \"Topic4\", \"Topic4\", \"Topic4\", \"Topic4\", \"Topic4\", \"Topic4\", \"Topic4\", \"Topic4\", \"Topic4\", \"Topic4\", \"Topic4\", \"Topic4\", \"Topic4\", \"Topic4\", \"Topic4\", \"Topic4\", \"Topic4\", \"Topic4\", \"Topic4\", \"Topic4\", \"Topic4\", \"Topic4\", \"Topic4\", \"Topic4\", \"Topic4\", \"Topic4\", \"Topic4\", \"Topic4\", \"Topic4\", \"Topic4\", \"Topic5\", \"Topic5\", \"Topic5\", \"Topic5\", \"Topic5\", \"Topic5\", \"Topic5\", \"Topic5\", \"Topic5\", \"Topic5\", \"Topic5\", \"Topic5\", \"Topic5\", \"Topic5\", \"Topic5\", \"Topic5\", \"Topic5\", \"Topic5\", \"Topic5\", \"Topic5\", \"Topic5\", \"Topic5\", \"Topic5\", \"Topic5\", \"Topic5\", \"Topic5\", \"Topic5\", \"Topic5\", \"Topic5\", \"Topic5\", \"Topic5\", \"Topic5\", \"Topic5\", \"Topic5\", \"Topic5\", \"Topic5\", \"Topic5\", \"Topic5\", \"Topic5\", \"Topic5\", \"Topic5\", \"Topic5\", \"Topic5\", \"Topic5\", \"Topic5\", \"Topic5\", \"Topic5\", \"Topic5\", \"Topic5\", \"Topic5\", \"Topic5\", \"Topic5\", \"Topic5\", \"Topic6\", \"Topic6\", \"Topic6\", \"Topic6\", \"Topic6\", \"Topic6\", \"Topic6\", \"Topic6\", \"Topic6\", \"Topic6\", \"Topic6\", \"Topic6\", \"Topic6\", \"Topic6\", \"Topic6\", \"Topic6\", \"Topic6\", \"Topic6\", \"Topic6\", \"Topic6\", \"Topic6\", \"Topic6\", \"Topic6\", \"Topic6\", \"Topic6\", \"Topic6\", \"Topic6\", \"Topic6\", \"Topic6\", \"Topic6\", \"Topic6\", \"Topic6\", \"Topic6\", \"Topic6\", \"Topic6\", \"Topic6\", \"Topic6\", \"Topic6\", \"Topic6\", \"Topic6\", \"Topic6\", \"Topic6\", \"Topic6\", \"Topic6\", \"Topic6\", \"Topic6\", \"Topic6\", \"Topic6\", \"Topic6\", \"Topic6\", \"Topic6\", \"Topic6\", \"Topic6\", \"Topic6\", \"Topic6\", \"Topic6\", \"Topic6\", \"Topic6\", \"Topic6\", \"Topic6\"], \"logprob\": [30.0, 29.0, 28.0, 27.0, 26.0, 25.0, 24.0, 23.0, 22.0, 21.0, 20.0, 19.0, 18.0, 17.0, 16.0, 15.0, 14.0, 13.0, 12.0, 11.0, 10.0, 9.0, 8.0, 7.0, 6.0, 5.0, 4.0, 3.0, 2.0, 1.0, -5.9129, -5.3339, -5.6533, -6.0524, -5.9527, -5.9459, -5.9801, -6.2283, -5.4977, -5.192, -5.8934, -6.0074, -6.6021, -6.4257, -5.9323, -6.4744, -5.7252, -6.3269, -6.4683, -6.3676, -5.7255, -6.2469, -6.4279, -6.1555, -6.0577, -4.8351, -6.2901, -6.4441, -5.7009, -5.9921, -5.6873, -5.8734, -5.7459, -5.4419, -5.3699, -5.9647, -5.7388, -5.7811, -5.4659, -5.7232, -5.3447, -5.4912, -5.7063, -5.4398, -5.7231, -5.5011, -5.7055, -5.5997, -5.6267, -5.438, -5.4174, -5.7389, -5.5392, -5.5974, -5.6169, -5.6804, -5.707, -5.0204, -5.5578, -5.9864, -5.409, -5.7012, -6.1303, -6.0695, -6.1774, -5.287, -6.4092, -6.2164, -6.4143, -6.2339, -6.3196, -6.5326, -5.7836, -6.422, -6.0286, -6.4667, -6.6304, -6.5205, -6.4074, -6.1113, -6.69, -6.4961, -6.5603, -6.3431, -6.1711, -5.7953, -6.6278, -6.1284, -5.6955, -5.8754, -5.6429, -5.5301, -5.573, -5.5986, -5.5415, -5.9304, -5.6147, -5.9121, -5.4525, -5.0169, -5.7748, -5.8292, -5.7674, -5.726, -5.5299, -5.527, -5.5018, -5.6028, -5.6279, -5.5194, -5.6473, -5.579, -5.4163, -5.6136, -5.6332, -5.5322, -5.5489, -5.7304, -5.689, -5.6903, -5.717, -5.7746, -5.5682, -6.1928, -6.1649, -5.9297, -6.2407, -5.7579, -6.5077, -6.4768, -5.921, -5.6772, -5.3598, -5.9346, -5.3622, -5.7835, -5.7102, -5.9424, -5.7007, -6.3226, -6.4351, -5.7103, -6.3621, -6.3576, -6.6523, -6.3228, -5.8085, -5.5601, -6.4515, -6.6205, -6.2221, -5.3981, -5.9276, -5.9941, -5.9361, -5.6249, -5.9504, -5.7341, -5.5658, -5.8422, -5.4871, -5.2479, -5.3697, -5.5352, -5.5143, -5.4702, -5.5044, -5.3945, -5.5606, -5.5605, -5.6617, -5.6621, -5.5812, -5.6623, -5.6014, -5.514, -5.6294, -5.7279, -5.5757, -5.7571, -5.4003, -5.6139, -4.8943, -6.003, -6.1046, -6.0951, -6.259, -5.2702, -5.9668, -5.9189, -5.6545, -6.3028, -5.8849, -6.281, -4.4773, -5.2939, -6.1463, -5.8989, -6.0597, -6.4602, -5.4266, -6.0913, -5.8666, -6.0927, -6.6537, -6.2345, -6.1288, -5.4675, -5.6718, -5.8175, -5.3446, -5.6513, -5.5359, -5.543, -5.7928, -5.5432, -5.5342, -5.6999, -5.4052, -5.2919, -5.1343, -5.7138, -5.3867, -5.3076, -5.6888, -5.3726, -5.4938, -5.6249, -5.696, -5.5626, -5.5721, -5.5647, -5.6369, -5.6619, -5.6737, -5.5652, -5.3985, -6.1017, -5.5471, -6.195, -5.9789, -5.6005, -5.8977, -6.0646, -6.1478, -5.8367, -6.3926, -5.6976, -6.3435, -6.3734, -5.8891, -5.5008, -5.8967, -5.8063, -6.1161, -6.2097, -6.2689, -6.0738, -6.3371, -6.1457, -6.4961, -5.8106, -5.7653, -5.85, -5.5285, -5.7593, -4.8369, -5.4565, -5.6957, -5.0332, -5.5598, -5.4617, -5.6716, -5.8608, -5.3849, -5.18, -5.3036, -5.5118, -5.7135, -5.6511, -5.6769, -5.6897, -5.7002, -5.7046, -5.6499, -5.7426, -5.7863, -5.4778, -6.1908, -5.9565, -5.6591, -5.9703, -6.3195, -6.3352, -5.8752, -6.1199, -5.8823, -5.9913, -6.2256, -6.4522, -6.2023, -5.9539, -6.4063, -5.8208, -6.3031, -5.6515, -6.6708, -6.3179, -6.1793, -6.3629, -6.6885, -6.1047, -5.84, -5.6561, -6.2854, -6.6681, -5.9772, -5.8405, -5.8761, -6.0976, -5.5345, -5.0123, -5.6546, -5.9184, -5.7706, -5.1513, -5.0336, -5.3608, -5.4398, -5.6339, -5.2392, -5.484, -5.5235, -5.5142, -5.7395, -5.6913, -5.513, -5.7385, -5.689, -5.6821, -5.6968, -5.683, -5.7414, -5.7158, -5.7824, -5.7759, -5.7858], \"loglift\": [30.0, 29.0, 28.0, 27.0, 26.0, 25.0, 24.0, 23.0, 22.0, 21.0, 20.0, 19.0, 18.0, 17.0, 16.0, 15.0, 14.0, 13.0, 12.0, 11.0, 10.0, 9.0, 8.0, 7.0, 6.0, 5.0, 4.0, 3.0, 2.0, 1.0, 1.0807, 0.8808, 0.8656, 0.8513, 0.8432, 0.8389, 0.7706, 0.7636, 0.7614, 0.7594, 0.756, 0.7237, 0.7115, 0.6953, 0.6867, 0.6829, 0.6713, 0.6679, 0.6677, 0.6623, 0.6615, 0.6541, 0.6437, 0.6429, 0.6395, 0.624, 0.6186, 0.6164, 0.6084, 0.5972, 0.5687, 0.5597, 0.5367, 0.4396, 0.4163, 0.556, 0.4962, 0.5043, 0.3495, 0.442, 0.2523, 0.3074, 0.3647, 0.1278, 0.3494, 0.1036, 0.3252, 0.162, 0.1995, -0.1163, -0.2166, 0.3508, -0.1651, -0.037, 0.0031, 0.1504, 0.2397, 1.1778, 1.0884, 1.0675, 0.8819, 0.8443, 0.8103, 0.764, 0.7555, 0.7554, 0.7426, 0.7224, 0.7091, 0.7057, 0.6815, 0.6507, 0.6463, 0.6297, 0.6138, 0.6096, 0.6054, 0.5899, 0.5875, 0.5792, 0.5656, 0.5594, 0.5575, 0.5562, 0.5531, 0.5454, 0.5433, 0.5401, 0.5322, 0.5312, 0.5078, 0.4984, 0.498, 0.4867, 0.4637, 0.514, 0.4128, 0.4842, 0.3461, 0.1776, 0.4245, 0.4368, 0.4025, 0.3716, 0.2343, 0.1756, 0.0658, 0.159, 0.1754, 0.041, 0.1824, 0.0411, -0.2155, 0.0915, 0.0772, -0.2105, -0.1749, 0.1883, -0.0842, -0.2312, -0.091, 0.9465, 0.8716, 0.839, 0.836, 0.8197, 0.8109, 0.7747, 0.7726, 0.7719, 0.77, 0.7505, 0.7485, 0.7216, 0.711, 0.698, 0.6767, 0.6642, 0.6507, 0.646, 0.624, 0.6234, 0.6098, 0.6053, 0.5851, 0.582, 0.5784, 0.5756, 0.57, 0.5648, 0.5644, 0.5441, 0.543, 0.5435, 0.5371, 0.5, 0.5258, 0.4806, 0.4438, 0.4935, 0.3438, 0.2112, 0.2563, 0.2266, 0.1883, 0.1267, 0.1003, -0.0205, 0.1498, 0.1446, 0.2527, 0.2089, -0.0136, 0.1334, -0.041, -0.3195, -0.3078, 0.1611, 1.1225, 1.0077, 0.9663, 0.9512, 0.8992, 0.8608, 0.8591, 0.8096, 0.8034, 0.7968, 0.7967, 0.775, 0.742, 0.7403, 0.739, 0.7321, 0.7234, 0.7027, 0.6995, 0.6922, 0.6758, 0.675, 0.6749, 0.6695, 0.6578, 0.6505, 0.639, 0.6186, 0.6168, 0.6137, 0.6063, 0.5892, 0.5438, 0.5667, 0.5448, 0.5419, 0.5634, 0.4732, 0.4601, 0.5253, 0.3905, 0.2685, 0.0602, 0.507, 0.181, 0.0664, 0.463, -0.0509, 0.1263, 0.3141, 0.4002, 0.1425, 0.1305, 0.0322, 0.2341, 0.2848, 1.2481, 1.1873, 0.9943, 0.9627, 0.953, 0.9091, 0.89, 0.832, 0.825, 0.8216, 0.8079, 0.769, 0.7521, 0.7516, 0.7489, 0.737, 0.7341, 0.7282, 0.7275, 0.7, 0.6944, 0.6846, 0.6699, 0.6627, 0.6546, 0.6526, 0.6482, 0.6356, 0.6217, 0.6169, 0.5446, 0.5611, 0.3576, 0.4622, 0.52, 0.2885, 0.4486, 0.3645, 0.4454, 0.5402, 0.2411, 0.0208, 0.0704, 0.0851, 0.2831, 0.1132, 0.1705, 0.1918, 0.1295, 0.1246, -0.0823, -0.1225, 0.1225, 1.029, 1.0039, 1.0012, 0.9531, 0.9446, 0.9164, 0.8947, 0.8546, 0.7988, 0.7806, 0.7486, 0.7256, 0.7241, 0.7205, 0.7194, 0.6861, 0.6672, 0.6513, 0.6488, 0.6453, 0.6449, 0.6441, 0.6392, 0.6389, 0.6352, 0.6274, 0.6265, 0.6225, 0.6216, 0.6134, 0.6037, 0.5743, 0.5929, 0.4438, 0.3094, 0.4624, 0.5308, 0.4546, 0.2227, 0.1609, 0.244, 0.2705, 0.3534, -0.0385, 0.136, 0.1025, 0.0462, 0.2768, 0.2052, -0.0539, 0.2667, 0.1402, 0.1211, 0.1329, 0.0813, 0.1976, 0.0704, 0.2465, 0.0227, -0.0807]}, \"token.table\": {\"Topic\": [1, 2, 5, 6, 1, 2, 4, 5, 6, 1, 3, 4, 5, 1, 2, 3, 4, 5, 6, 1, 1, 2, 3, 4, 5, 6, 1, 2, 3, 4, 5, 6, 6, 1, 2, 3, 4, 5, 6, 1, 2, 3, 4, 5, 6, 1, 2, 4, 6, 1, 2, 3, 4, 5, 6, 1, 2, 3, 4, 5, 6, 1, 2, 3, 4, 5, 6, 1, 2, 3, 4, 5, 6, 1, 2, 3, 4, 5, 6, 1, 3, 4, 5, 6, 1, 4, 6, 1, 2, 3, 5, 6, 1, 2, 3, 4, 6, 1, 2, 3, 4, 5, 6, 1, 2, 3, 4, 5, 6, 1, 3, 4, 6, 1, 3, 4, 1, 5, 1, 2, 3, 5, 6, 1, 2, 6, 1, 2, 5, 6, 3, 5, 1, 2, 3, 5, 1, 2, 3, 6, 1, 2, 3, 6, 1, 3, 4, 5, 1, 2, 3, 4, 5, 6, 1, 2, 3, 4, 5, 1, 2, 3, 4, 5, 6, 1, 3, 1, 2, 3, 4, 5, 6, 1, 2, 3, 4, 5, 6, 1, 2, 3, 5, 6, 1, 2, 3, 6, 2, 3, 6, 1, 3, 4, 1, 2, 3, 4, 5, 6, 1, 2, 3, 5, 6, 4, 5, 6, 1, 2, 3, 4, 5, 1, 5, 1, 3, 5, 6, 1, 3, 4, 1, 2, 3, 4, 5, 6, 2, 3, 5, 2, 3, 4, 6, 1, 2, 3, 4, 5, 6, 1, 4, 1, 2, 6, 1, 2, 3, 4, 5, 6, 1, 2, 3, 6, 1, 2, 3, 4, 5, 6, 1, 6, 1, 2, 3, 4, 5, 6, 2, 3, 4, 5, 1, 2, 3, 4, 5, 6, 1, 4, 5, 6, 1, 2, 3, 4, 5, 6, 1, 2, 3, 4, 5, 6, 1, 2, 3, 4, 5, 6, 1, 4, 5, 1, 2, 3, 4, 5, 6, 1, 2, 3, 4, 5, 6, 1, 2, 5, 6, 1, 2, 3, 5, 2, 4, 6, 1, 2, 3, 4, 5, 1, 2, 3, 4, 5, 6, 1, 2, 6, 1, 3, 5, 1, 2, 3, 4, 5, 6, 3, 4, 1, 2, 3, 4, 5, 6, 1, 2, 3, 4, 5, 6, 1, 2, 3, 4, 5, 6, 1, 2, 4, 6, 1, 2, 3, 4, 5, 6, 2, 4, 1, 3, 4, 5, 1, 2, 3, 4, 5, 6, 1, 2, 3, 4, 5, 6, 6, 1, 3, 4, 5, 6, 1, 2, 3, 4, 5, 6, 1, 2, 4, 5, 6, 1, 2, 3, 4, 5, 6, 1, 2, 3, 4, 5, 6, 1, 2, 3, 4, 5, 6, 1, 2, 3, 5, 6, 1, 2, 3, 4, 5, 6, 2, 3, 5, 6, 1, 2, 6, 1, 2, 3, 4, 5, 6, 2, 5, 6, 1, 2, 3, 4, 5, 6, 1, 2, 3, 4, 5, 6, 1, 4, 5, 6, 1, 2, 3, 4, 5, 6, 1, 1, 2, 3, 4, 5, 6, 1, 2, 3, 5, 6, 1, 2, 3, 4, 5, 6, 2, 5, 6, 1, 2, 3, 5, 6, 2, 3, 4, 3, 4, 5, 6, 1, 2, 1, 2, 6, 1, 2, 1, 4, 5, 2, 4, 5, 1, 2, 3, 4, 5, 6, 1, 5, 6, 2, 4, 5, 6, 1, 2, 3, 4, 5, 6, 1, 2, 3, 4, 5, 6, 2, 3, 1, 3, 5, 6, 2, 3, 4, 1, 2, 5, 4, 6, 1, 2, 3, 4, 5, 6, 1, 2, 4, 5, 6, 1, 2, 3, 4, 1, 2, 3, 4, 5, 6, 1, 2, 3, 4, 5, 6, 1, 2, 3, 4, 5, 6, 2, 3, 4, 5, 1, 2, 3, 5, 1, 3, 5, 1, 2, 3, 4, 5, 6, 1, 3, 5, 1, 2, 3, 4, 5, 6, 1, 2, 4, 1, 2, 3, 4, 1, 3, 4, 5, 6, 2, 4, 5, 1, 2, 3, 4, 5, 6, 1, 2, 3, 4, 5, 6, 1, 4, 5, 1, 2, 3, 4, 5, 6, 1, 2, 3, 4, 5, 6, 1, 2, 6, 1, 2, 3, 6, 1, 2, 3, 4, 5, 6, 1, 2, 3, 4, 6, 1, 1, 2, 3, 5, 1, 2, 3, 4, 5, 6, 1, 2, 4, 5, 1, 2, 3, 4, 5, 6, 1, 2, 3, 4, 5, 6, 1, 2, 6, 2, 3, 5, 5, 6, 1, 2, 3, 5, 6, 1, 3, 4, 1, 2, 1, 2, 3, 4, 5, 6, 1, 5, 6, 1, 2, 3, 4, 5, 6, 2, 3, 1, 2, 3, 4, 5, 6, 2, 3, 4, 5, 6, 1, 2, 3, 4, 5, 6, 1, 2, 3, 4, 5, 6, 1, 2, 3, 4, 5, 6, 2, 1, 2, 3, 1, 2, 3, 4, 5, 6, 1, 2, 3, 4, 5, 6, 1, 2, 3, 4, 5, 6, 4, 5, 6, 1, 2, 6, 1, 2, 3, 4, 5, 6, 1, 2, 4, 5, 6, 2, 3, 4, 6, 1, 2, 4, 5, 1, 2, 3, 4, 5, 6, 1, 5, 6, 1, 3, 4, 6, 2, 3, 5, 6, 1, 2, 3, 5, 6, 1, 2, 3, 4, 5, 6, 1, 2, 3, 4, 1, 2, 3, 4, 5, 6, 2, 5, 1, 3, 4, 6, 1, 3, 5, 1, 2, 3, 4, 5, 6, 1, 3, 5, 1, 2, 3, 4, 5, 6, 1, 2, 3, 4, 6, 1, 2, 5, 6, 1, 2, 4, 1, 3, 4, 5, 6, 2, 3, 4, 2, 3, 4, 5, 1, 2, 3, 4, 5, 1, 3, 4, 5, 2, 3, 4, 5, 6, 1, 2, 3, 4, 5, 6, 2, 3, 4, 5, 6, 1, 2, 5, 6, 1, 2, 3, 5, 1, 2, 3, 5, 6, 1, 2, 3, 4, 5, 6, 1, 2, 3, 4, 5, 6, 1, 2, 3, 4, 5, 6, 1, 5, 1, 2, 4, 1, 6, 2, 5, 6, 1, 2, 3, 4, 5, 6, 1, 2, 3, 4, 5, 6, 1, 3, 4, 1, 2, 3, 4, 5, 6, 1, 2, 3, 6, 1, 2, 3, 4, 5, 6, 2, 3, 5, 1, 2, 5, 1, 2, 3, 4, 5, 6, 1, 2, 3, 4, 5, 6, 1, 2, 3, 4, 5, 6, 1, 2, 3, 4, 5, 6, 1, 2, 3, 4, 5, 6, 1, 2, 4, 5, 6, 1, 2, 3, 4, 1, 3, 1, 2, 3, 4, 5, 6, 1, 2, 3, 4, 5, 6, 1, 2, 3, 4, 5, 6, 1, 4, 5, 6, 1, 2, 3, 5, 6, 1, 2, 3, 4, 5, 6, 3, 4, 5, 2, 3, 4, 5, 6, 4, 6, 1, 4, 6, 1, 3, 4, 5, 2, 3, 4, 6, 2, 4, 6, 1, 2, 3, 5, 6, 1, 2, 3, 4, 5, 1, 2, 4, 1, 4, 5, 2, 3, 4, 5, 6, 1, 2, 3, 4, 5, 6, 1, 5, 6, 3, 5], \"Freq\": [0.4029972957948758, 0.2014986478974379, 0.2014986478974379, 0.2014986478974379, 0.20636402244574778, 0.20636402244574778, 0.20636402244574778, 0.20636402244574778, 0.41272804489149556, 0.2164713555567106, 0.4329427111134212, 0.2164713555567106, 0.2164713555567106, 0.29594270767213204, 0.29594270767213204, 0.14797135383606602, 0.14797135383606602, 0.14797135383606602, 0.14797135383606602, 0.3914579548310064, 0.21253878694244074, 0.10626939347122037, 0.21253878694244074, 0.21253878694244074, 0.21253878694244074, 0.10626939347122037, 0.2581564841158726, 0.2581564841158726, 0.08605216137195754, 0.08605216137195754, 0.08605216137195754, 0.17210432274391507, 0.36005710459205076, 0.19804506087063378, 0.09902253043531689, 0.19804506087063378, 0.19804506087063378, 0.09902253043531689, 0.19804506087063378, 0.17753747667858522, 0.17753747667858522, 0.17753747667858522, 0.17753747667858522, 0.17753747667858522, 0.17753747667858522, 0.225215840322109, 0.225215840322109, 0.225215840322109, 0.225215840322109, 0.09251470415932955, 0.1850294083186591, 0.1850294083186591, 0.1850294083186591, 0.1850294083186591, 0.1850294083186591, 0.11650352221708088, 0.11650352221708088, 0.11650352221708088, 0.34951056665124264, 0.11650352221708088, 0.11650352221708088, 0.15635168306307853, 0.23452752459461781, 0.23452752459461781, 0.15635168306307853, 0.07817584153153927, 0.15635168306307853, 0.10698437886183938, 0.10698437886183938, 0.21396875772367877, 0.21396875772367877, 0.10698437886183938, 0.21396875772367877, 0.1373340378445349, 0.2746680756890698, 0.1373340378445349, 0.1373340378445349, 0.2746680756890698, 0.1373340378445349, 0.16493465510601904, 0.16493465510601904, 0.16493465510601904, 0.3298693102120381, 0.3298693102120381, 0.2947764648951403, 0.2947764648951403, 0.2947764648951403, 0.37949767953736296, 0.18974883976868148, 0.18974883976868148, 0.18974883976868148, 0.18974883976868148, 0.15185698128737757, 0.15185698128737757, 0.15185698128737757, 0.4555709438621327, 0.15185698128737757, 0.21593727945989769, 0.14395818630659846, 0.14395818630659846, 0.21593727945989769, 0.14395818630659846, 0.14395818630659846, 0.1389909455199113, 0.1389909455199113, 0.1389909455199113, 0.2779818910398226, 0.2779818910398226, 0.1389909455199113, 0.5196376881565586, 0.2598188440782793, 0.2598188440782793, 0.2598188440782793, 0.2781751766713959, 0.2781751766713959, 0.2781751766713959, 0.2645848349416246, 0.5291696698832492, 0.16444587300346103, 0.16444587300346103, 0.16444587300346103, 0.32889174600692206, 0.16444587300346103, 0.18161419684429947, 0.36322839368859894, 0.18161419684429947, 0.28641535843961397, 0.28641535843961397, 0.28641535843961397, 0.28641535843961397, 0.2737060397286543, 0.2737060397286543, 0.12832769711840938, 0.5133107884736375, 0.12832769711840938, 0.12832769711840938, 0.20422421554548806, 0.20422421554548806, 0.20422421554548806, 0.4084484310909761, 0.21005084911672078, 0.21005084911672078, 0.42010169823344157, 0.21005084911672078, 0.32285091683909595, 0.32285091683909595, 0.16142545841954797, 0.16142545841954797, 0.11409523155682649, 0.11409523155682649, 0.22819046311365299, 0.22819046311365299, 0.11409523155682649, 0.11409523155682649, 0.17927139061118688, 0.17927139061118688, 0.35854278122237376, 0.17927139061118688, 0.17927139061118688, 0.36768068682531896, 0.12256022894177297, 0.18384034341265948, 0.061280114470886486, 0.061280114470886486, 0.12256022894177297, 0.2846037292649935, 0.2846037292649935, 0.11415553757249308, 0.11415553757249308, 0.22831107514498616, 0.34246661271747925, 0.11415553757249308, 0.11415553757249308, 0.26250061799830365, 0.13125030899915183, 0.13125030899915183, 0.26250061799830365, 0.13125030899915183, 0.13125030899915183, 0.16513472117662426, 0.16513472117662426, 0.16513472117662426, 0.16513472117662426, 0.3302694423532485, 0.3245776669546164, 0.1622888334773082, 0.1622888334773082, 0.1622888334773082, 0.22267229492238297, 0.44534458984476594, 0.22267229492238297, 0.2953632797297969, 0.2953632797297969, 0.2953632797297969, 0.16849605996388314, 0.16849605996388314, 0.3369921199277663, 0.16849605996388314, 0.16849605996388314, 0.16849605996388314, 0.26117346379929696, 0.26117346379929696, 0.13058673189964848, 0.26117346379929696, 0.13058673189964848, 0.34127051226026006, 0.34127051226026006, 0.34127051226026006, 0.231088584212862, 0.231088584212862, 0.231088584212862, 0.231088584212862, 0.231088584212862, 0.33050006254031433, 0.33050006254031433, 0.2772458262732156, 0.2772458262732156, 0.2772458262732156, 0.2772458262732156, 0.28637671052159125, 0.28637671052159125, 0.28637671052159125, 0.1158852228240435, 0.231770445648087, 0.1158852228240435, 0.231770445648087, 0.1158852228240435, 0.1158852228240435, 0.362765354858685, 0.362765354858685, 0.362765354858685, 0.18521266347041324, 0.18521266347041324, 0.37042532694082647, 0.18521266347041324, 0.20536194569938987, 0.20536194569938987, 0.20536194569938987, 0.20536194569938987, 0.20536194569938987, 0.20536194569938987, 0.32752992713892043, 0.32752992713892043, 0.2675501649047359, 0.2675501649047359, 0.2675501649047359, 0.2813459711133977, 0.14067298555669885, 0.21100947833504827, 0.14067298555669885, 0.14067298555669885, 0.07033649277834943, 0.4091366224044876, 0.13637887413482921, 0.13637887413482921, 0.13637887413482921, 0.28682732752625456, 0.14341366376312728, 0.14341366376312728, 0.14341366376312728, 0.14341366376312728, 0.14341366376312728, 0.34760015392263793, 0.34760015392263793, 0.14482110121077307, 0.14482110121077307, 0.2172316518161596, 0.14482110121077307, 0.2172316518161596, 0.14482110121077307, 0.2196061463447653, 0.2196061463447653, 0.2196061463447653, 0.2196061463447653, 0.11254764700195939, 0.11254764700195939, 0.11254764700195939, 0.33764294100587816, 0.11254764700195939, 0.11254764700195939, 0.211557064016972, 0.423114128033944, 0.211557064016972, 0.211557064016972, 0.2165877473252523, 0.32488162098787843, 0.10829387366262615, 0.2165877473252523, 0.10829387366262615, 0.10829387366262615, 0.16413554832773877, 0.32827109665547755, 0.16413554832773877, 0.16413554832773877, 0.16413554832773877, 0.16413554832773877, 0.2488216962015104, 0.16588113080100692, 0.2488216962015104, 0.16588113080100692, 0.08294056540050346, 0.08294056540050346, 0.2106637856636941, 0.4213275713273882, 0.2106637856636941, 0.21637498154830823, 0.21637498154830823, 0.10818749077415411, 0.10818749077415411, 0.10818749077415411, 0.21637498154830823, 0.14212349584587922, 0.14212349584587922, 0.14212349584587922, 0.14212349584587922, 0.14212349584587922, 0.28424699169175843, 0.2733344048383653, 0.2733344048383653, 0.2733344048383653, 0.2733344048383653, 0.167884866588771, 0.167884866588771, 0.167884866588771, 0.335769733177542, 0.28987169640366556, 0.28987169640366556, 0.28987169640366556, 0.22183834088031598, 0.22183834088031598, 0.22183834088031598, 0.22183834088031598, 0.22183834088031598, 0.28046673760728263, 0.09348891253576087, 0.09348891253576087, 0.09348891253576087, 0.18697782507152175, 0.18697782507152175, 0.36941755770821927, 0.36941755770821927, 0.36941755770821927, 0.307334077969984, 0.307334077969984, 0.307334077969984, 0.1679643892113353, 0.1679643892113353, 0.1679643892113353, 0.1679643892113353, 0.1679643892113353, 0.3359287784226706, 0.3443339429050067, 0.3443339429050067, 0.11324056773401563, 0.11324056773401563, 0.33972170320204687, 0.11324056773401563, 0.22648113546803125, 0.11324056773401563, 0.11604119038197568, 0.23208238076395135, 0.23208238076395135, 0.11604119038197568, 0.11604119038197568, 0.23208238076395135, 0.21705681096328175, 0.21705681096328175, 0.10852840548164087, 0.21705681096328175, 0.21705681096328175, 0.10852840548164087, 0.25868560055728435, 0.25868560055728435, 0.25868560055728435, 0.25868560055728435, 0.15716749467501553, 0.15716749467501553, 0.15716749467501553, 0.15716749467501553, 0.31433498935003107, 0.15716749467501553, 0.3833748464291202, 0.3833748464291202, 0.3099499765713657, 0.3099499765713657, 0.15497498828568285, 0.15497498828568285, 0.13088429178176653, 0.13088429178176653, 0.13088429178176653, 0.26176858356353305, 0.13088429178176653, 0.13088429178176653, 0.17160182338121474, 0.17160182338121474, 0.17160182338121474, 0.2574027350718221, 0.08580091169060737, 0.08580091169060737, 0.36219387151989535, 0.16220485286441969, 0.16220485286441969, 0.16220485286441969, 0.32440970572883937, 0.16220485286441969, 0.12236449511587984, 0.24472899023175967, 0.12236449511587984, 0.24472899023175967, 0.12236449511587984, 0.12236449511587984, 0.19287264132292362, 0.19287264132292362, 0.19287264132292362, 0.38574528264584723, 0.19287264132292362, 0.2800144010992441, 0.14000720054962204, 0.14000720054962204, 0.14000720054962204, 0.14000720054962204, 0.14000720054962204, 0.2666160144130737, 0.1777440096087158, 0.2666160144130737, 0.1777440096087158, 0.0888720048043579, 0.0888720048043579, 0.23025161681023665, 0.23025161681023665, 0.23025161681023665, 0.11512580840511832, 0.11512580840511832, 0.23025161681023665, 0.32679354861011783, 0.16339677430505892, 0.32679354861011783, 0.16339677430505892, 0.16339677430505892, 0.26626524539453655, 0.13313262269726828, 0.13313262269726828, 0.13313262269726828, 0.13313262269726828, 0.13313262269726828, 0.20992941616445865, 0.20992941616445865, 0.20992941616445865, 0.20992941616445865, 0.2742653830976254, 0.2742653830976254, 0.2742653830976254, 0.19407955281421155, 0.19407955281421155, 0.19407955281421155, 0.09703977640710577, 0.29111932922131734, 0.09703977640710577, 0.27246819224647717, 0.27246819224647717, 0.27246819224647717, 0.10833263956632636, 0.10833263956632636, 0.10833263956632636, 0.2166652791326527, 0.10833263956632636, 0.2166652791326527, 0.14198576422544404, 0.14198576422544404, 0.04732858807514801, 0.3313001165260361, 0.14198576422544404, 0.14198576422544404, 0.31178409094459686, 0.15589204547229843, 0.4676761364168953, 0.15589204547229843, 0.2292463155397284, 0.2292463155397284, 0.1146231577698642, 0.2292463155397284, 0.1146231577698642, 0.1146231577698642, 0.32777901756744104, 0.14500175050304387, 0.14500175050304387, 0.14500175050304387, 0.14500175050304387, 0.29000350100608774, 0.14500175050304387, 0.1930419099914495, 0.1930419099914495, 0.386083819982899, 0.1930419099914495, 0.1930419099914495, 0.15756479656895994, 0.15756479656895994, 0.15756479656895994, 0.15756479656895994, 0.15756479656895994, 0.2363471948534399, 0.3087754233704119, 0.3087754233704119, 0.3087754233704119, 0.279247210434016, 0.139623605217008, 0.139623605217008, 0.139623605217008, 0.279247210434016, 0.2923253371980814, 0.2923253371980814, 0.2923253371980814, 0.2553429037924655, 0.2553429037924655, 0.2553429037924655, 0.2553429037924655, 0.26113951667299756, 0.26113951667299756, 0.25912467523753235, 0.25912467523753235, 0.25912467523753235, 0.3394729907643591, 0.3394729907643591, 0.2573854732948328, 0.2573854732948328, 0.2573854732948328, 0.30241277802374245, 0.30241277802374245, 0.30241277802374245, 0.4010395823299267, 0.10025989558248168, 0.20051979116496335, 0.20051979116496335, 0.10025989558248168, 0.10025989558248168, 0.2637762434722993, 0.2637762434722993, 0.2637762434722993, 0.2609148092019577, 0.2609148092019577, 0.2609148092019577, 0.2609148092019577, 0.262521329593367, 0.17501421972891132, 0.17501421972891132, 0.17501421972891132, 0.08750710986445566, 0.17501421972891132, 0.19866118965454085, 0.19866118965454085, 0.2979917844818113, 0.09933059482727043, 0.09933059482727043, 0.09933059482727043, 0.3669013841558978, 0.3669013841558978, 0.21983839785476045, 0.21983839785476045, 0.21983839785476045, 0.21983839785476045, 0.3436526627688331, 0.3436526627688331, 0.3436526627688331, 0.46655175016771067, 0.23327587508385533, 0.23327587508385533, 0.3969405676207092, 0.3969405676207092, 0.2259821992813508, 0.2259821992813508, 0.1129910996406754, 0.1129910996406754, 0.1129910996406754, 0.1129910996406754, 0.22057321029161248, 0.22057321029161248, 0.22057321029161248, 0.22057321029161248, 0.22057321029161248, 0.4372778651364022, 0.2186389325682011, 0.2186389325682011, 0.2186389325682011, 0.10980700556621834, 0.329421016698655, 0.10980700556621834, 0.21961401113243667, 0.10980700556621834, 0.10980700556621834, 0.1407862490335932, 0.42235874710077964, 0.1407862490335932, 0.1407862490335932, 0.1407862490335932, 0.1407862490335932, 0.16893342418223506, 0.16893342418223506, 0.3378668483644701, 0.16893342418223506, 0.16893342418223506, 0.16893342418223506, 0.17781862109328386, 0.17781862109328386, 0.3556372421865677, 0.17781862109328386, 0.21680274337749642, 0.21680274337749642, 0.21680274337749642, 0.43360548675499283, 0.3035273859790764, 0.3035273859790764, 0.3035273859790764, 0.2034315928822115, 0.2034315928822115, 0.13562106192147433, 0.2034315928822115, 0.13562106192147433, 0.13562106192147433, 0.4677093671164288, 0.2338546835582144, 0.2338546835582144, 0.1602321808170976, 0.1602321808170976, 0.10682145387806508, 0.1602321808170976, 0.21364290775613015, 0.21364290775613015, 0.24519701321312987, 0.24519701321312987, 0.24519701321312987, 0.275666721327906, 0.275666721327906, 0.275666721327906, 0.275666721327906, 0.16410655083556716, 0.16410655083556716, 0.16410655083556716, 0.16410655083556716, 0.3282131016711343, 0.2496695967869095, 0.499339193573819, 0.2496695967869095, 0.0940671397824709, 0.1881342795649418, 0.14110070967370636, 0.1881342795649418, 0.23516784945617725, 0.1881342795649418, 0.10489444803564778, 0.10489444803564778, 0.10489444803564778, 0.3146833441069434, 0.20978889607129556, 0.20978889607129556, 0.22615708254953865, 0.4523141650990773, 0.22615708254953865, 0.23849819278968426, 0.11924909639484213, 0.23849819278968426, 0.11924909639484213, 0.11924909639484213, 0.11924909639484213, 0.18070658953330312, 0.18070658953330312, 0.18070658953330312, 0.09035329476665156, 0.18070658953330312, 0.18070658953330312, 0.269346050807569, 0.269346050807569, 0.269346050807569, 0.5218294394248176, 0.1304573598562044, 0.2609147197124088, 0.3822347513725335, 0.19321621302007336, 0.09660810651003668, 0.19321621302007336, 0.19321621302007336, 0.09660810651003668, 0.19321621302007336, 0.21714773457886283, 0.21714773457886283, 0.21714773457886283, 0.21714773457886283, 0.21714773457886283, 0.5685468664133055, 0.20086196833929754, 0.4017239366785951, 0.20086196833929754, 0.20086196833929754, 0.1472443505448983, 0.1472443505448983, 0.2944887010897966, 0.1472443505448983, 0.1472443505448983, 0.1472443505448983, 0.35431012004229845, 0.17715506002114922, 0.17715506002114922, 0.17715506002114922, 0.4078657218754637, 0.13595524062515457, 0.13595524062515457, 0.27191048125030914, 0.13595524062515457, 0.13595524062515457, 0.18980254943902156, 0.18980254943902156, 0.18980254943902156, 0.09490127471951078, 0.18980254943902156, 0.18980254943902156, 0.3236627509679802, 0.3236627509679802, 0.3236627509679802, 0.2837363607833126, 0.2837363607833126, 0.2837363607833126, 0.26275488662404073, 0.26275488662404073, 0.42274858538698373, 0.21137429269349187, 0.21137429269349187, 0.31380307112093825, 0.31380307112093825, 0.3012558893723721, 0.3012558893723721, 0.3012558893723721, 0.3329883025051411, 0.3329883025051411, 0.177447026828278, 0.177447026828278, 0.177447026828278, 0.177447026828278, 0.177447026828278, 0.177447026828278, 0.3799662323044668, 0.1899831161522334, 0.1899831161522334, 0.2049201908280433, 0.2049201908280433, 0.13661346055202886, 0.2049201908280433, 0.13661346055202886, 0.06830673027601443, 0.3012963152416932, 0.3012963152416932, 0.21266517275879449, 0.14177678183919634, 0.21266517275879449, 0.14177678183919634, 0.14177678183919634, 0.21266517275879449, 0.17355275481314028, 0.17355275481314028, 0.17355275481314028, 0.34710550962628056, 0.17355275481314028, 0.24108698339071086, 0.12054349169535543, 0.24108698339071086, 0.12054349169535543, 0.12054349169535543, 0.12054349169535543, 0.21229191501838263, 0.21229191501838263, 0.10614595750919131, 0.10614595750919131, 0.21229191501838263, 0.21229191501838263, 0.10465242960565672, 0.20930485921131345, 0.20930485921131345, 0.20930485921131345, 0.20930485921131345, 0.10465242960565672, 0.3621896075772639, 0.2696058759941111, 0.2696058759941111, 0.2696058759941111, 0.14693571768883595, 0.14693571768883595, 0.2938714353776719, 0.14693571768883595, 0.14693571768883595, 0.14693571768883595, 0.16944662068872152, 0.16944662068872152, 0.33889324137744303, 0.16944662068872152, 0.16944662068872152, 0.16944662068872152, 0.15674008824748661, 0.15674008824748661, 0.15674008824748661, 0.15674008824748661, 0.07837004412374331, 0.15674008824748661, 0.22337601282490546, 0.4467520256498109, 0.22337601282490546, 0.4459767417246359, 0.22298837086231796, 0.22298837086231796, 0.11831525625288879, 0.11831525625288879, 0.11831525625288879, 0.11831525625288879, 0.23663051250577757, 0.23663051250577757, 0.17472670079100927, 0.17472670079100927, 0.17472670079100927, 0.17472670079100927, 0.34945340158201854, 0.22583349204584374, 0.22583349204584374, 0.4516669840916875, 0.22583349204584374, 0.1962951890243385, 0.1962951890243385, 0.1962951890243385, 0.392590378048677, 0.13233482488713266, 0.2646696497742653, 0.2646696497742653, 0.13233482488713266, 0.2646696497742653, 0.13233482488713266, 0.27565077823705625, 0.27565077823705625, 0.27565077823705625, 0.2866798623794607, 0.2866798623794607, 0.2866798623794607, 0.2866798623794607, 0.2846567616990797, 0.2846567616990797, 0.2846567616990797, 0.2846567616990797, 0.16178633103756407, 0.32357266207512814, 0.16178633103756407, 0.16178633103756407, 0.16178633103756407, 0.1882657200142912, 0.0941328600071456, 0.1882657200142912, 0.2823985800214368, 0.0941328600071456, 0.0941328600071456, 0.2000834977365391, 0.4001669954730782, 0.2000834977365391, 0.2000834977365391, 0.22631269997165251, 0.22631269997165251, 0.11315634998582626, 0.11315634998582626, 0.11315634998582626, 0.11315634998582626, 0.319492538829032, 0.319492538829032, 0.1549691895530291, 0.3099383791060582, 0.1549691895530291, 0.1549691895530291, 0.2509342817783745, 0.2509342817783745, 0.2509342817783745, 0.17290875276511294, 0.17290875276511294, 0.17290875276511294, 0.17290875276511294, 0.08645437638255647, 0.17290875276511294, 0.33483267944569683, 0.33483267944569683, 0.33483267944569683, 0.14956117859791762, 0.14956117859791762, 0.29912235719583524, 0.14956117859791762, 0.14956117859791762, 0.14956117859791762, 0.20288475827166916, 0.20288475827166916, 0.4057695165433383, 0.20288475827166916, 0.20288475827166916, 0.2422174355833112, 0.2422174355833112, 0.2422174355833112, 0.2422174355833112, 0.3129539334693158, 0.1564769667346579, 0.3129539334693158, 0.15499140951334064, 0.15499140951334064, 0.15499140951334064, 0.3099828190266813, 0.15499140951334064, 0.2601037438055778, 0.2601037438055778, 0.2601037438055778, 0.1900846953953083, 0.1900846953953083, 0.3801693907906166, 0.1900846953953083, 0.15806307808218892, 0.31612615616437784, 0.15806307808218892, 0.31612615616437784, 0.15806307808218892, 0.23671106140411421, 0.23671106140411421, 0.23671106140411421, 0.23671106140411421, 0.10299199500886759, 0.20598399001773518, 0.20598399001773518, 0.20598399001773518, 0.20598399001773518, 0.19214317233768174, 0.19214317233768174, 0.09607158616884087, 0.19214317233768174, 0.19214317233768174, 0.09607158616884087, 0.19646957709840882, 0.19646957709840882, 0.19646957709840882, 0.39293915419681763, 0.19646957709840882, 0.2643367588880901, 0.2643367588880901, 0.13216837944404505, 0.13216837944404505, 0.1703435710931362, 0.1703435710931362, 0.3406871421862724, 0.1703435710931362, 0.1746283282204438, 0.1746283282204438, 0.1746283282204438, 0.3492566564408876, 0.1746283282204438, 0.08561549671025381, 0.17123099342050763, 0.08561549671025381, 0.42807748355126907, 0.08561549671025381, 0.17123099342050763, 0.21158794437658768, 0.3173819165648815, 0.10579397218829384, 0.10579397218829384, 0.10579397218829384, 0.21158794437658768, 0.19956559544721436, 0.09978279772360718, 0.19956559544721436, 0.19956559544721436, 0.09978279772360718, 0.09978279772360718, 0.3306411944479635, 0.3306411944479635, 0.2837833069868048, 0.6038893580710333, 0.30194467903551664, 0.32290031766027727, 0.32290031766027727, 0.31750138175701814, 0.31750138175701814, 0.31750138175701814, 0.11727926618363499, 0.11727926618363499, 0.35183779855090497, 0.11727926618363499, 0.11727926618363499, 0.11727926618363499, 0.166297529127591, 0.2494462936913865, 0.0831487645637955, 0.166297529127591, 0.166297529127591, 0.166297529127591, 0.29869533392752734, 0.29869533392752734, 0.29869533392752734, 0.10392666543472241, 0.20785333086944482, 0.20785333086944482, 0.20785333086944482, 0.10392666543472241, 0.20785333086944482, 0.2397949703663219, 0.2397949703663219, 0.2397949703663219, 0.2397949703663219, 0.12847012199151558, 0.25694024398303117, 0.12847012199151558, 0.25694024398303117, 0.12847012199151558, 0.25694024398303117, 0.2691137890322848, 0.2691137890322848, 0.2691137890322848, 0.3039670940473061, 0.3039670940473061, 0.3039670940473061, 0.16884739137825316, 0.16884739137825316, 0.16884739137825316, 0.16884739137825316, 0.16884739137825316, 0.16884739137825316, 0.254968861793429, 0.1699792411956193, 0.08498962059780965, 0.1699792411956193, 0.08498962059780965, 0.1699792411956193, 0.1145700848955733, 0.1145700848955733, 0.2291401697911466, 0.2291401697911466, 0.1145700848955733, 0.2291401697911466, 0.15643334336894782, 0.31286668673789564, 0.15643334336894782, 0.15643334336894782, 0.15643334336894782, 0.15643334336894782, 0.12250217039532611, 0.12250217039532611, 0.12250217039532611, 0.24500434079065223, 0.24500434079065223, 0.12250217039532611, 0.17146866864452298, 0.17146866864452298, 0.17146866864452298, 0.17146866864452298, 0.34293733728904596, 0.2470031550226364, 0.2470031550226364, 0.2470031550226364, 0.2470031550226364, 0.3786480670096126, 0.3786480670096126, 0.2653792830099955, 0.1769195220066637, 0.1769195220066637, 0.08845976100333185, 0.1769195220066637, 0.08845976100333185, 0.12473188990495307, 0.24946377980990614, 0.12473188990495307, 0.24946377980990614, 0.12473188990495307, 0.12473188990495307, 0.1502848311798102, 0.1502848311798102, 0.1502848311798102, 0.3005696623596204, 0.1502848311798102, 0.1502848311798102, 0.22058547861865466, 0.22058547861865466, 0.22058547861865466, 0.22058547861865466, 0.390920082388175, 0.1954600411940875, 0.1954600411940875, 0.1954600411940875, 0.1954600411940875, 0.24830909929246703, 0.24830909929246703, 0.12415454964623351, 0.12415454964623351, 0.12415454964623351, 0.12415454964623351, 0.22130166396036818, 0.22130166396036818, 0.22130166396036818, 0.13183498221693152, 0.13183498221693152, 0.26366996443386304, 0.13183498221693152, 0.26366996443386304, 0.3924881779533799, 0.3924881779533799, 0.2648409550638268, 0.2648409550638268, 0.2648409550638268, 0.5304862909003988, 0.17682876363346625, 0.17682876363346625, 0.17682876363346625, 0.19413350454346837, 0.19413350454346837, 0.19413350454346837, 0.38826700908693673, 0.27592550707780666, 0.27592550707780666, 0.27592550707780666, 0.1801773141215199, 0.1801773141215199, 0.3603546282430398, 0.1801773141215199, 0.1801773141215199, 0.4614063015395194, 0.2307031507697597, 0.2307031507697597, 0.2307031507697597, 0.2307031507697597, 0.321883803741707, 0.321883803741707, 0.321883803741707, 0.3045185496741311, 0.3045185496741311, 0.3045185496741311, 0.19641030570672993, 0.19641030570672993, 0.39282061141345986, 0.19641030570672993, 0.19641030570672993, 0.1884017369983626, 0.1884017369983626, 0.1884017369983626, 0.1884017369983626, 0.0942008684991813, 0.1884017369983626, 0.21837467250053635, 0.21837467250053635, 0.4367493450010727, 0.30514726621946003, 0.30514726621946003], \"Term\": [\"abstract\", \"abstract\", \"abstract\", \"abstract\", \"account\", \"account\", \"account\", \"account\", \"account\", \"acid\", \"acid\", \"acid\", \"acid\", \"activity\", \"activity\", \"activity\", \"activity\", \"activity\", \"activity\", \"adaptation\", \"agent\", \"agent\", \"agent\", \"agent\", \"agent\", \"agent\", \"algorithm\", \"algorithm\", \"algorithm\", \"algorithm\", \"algorithm\", \"algorithm\", \"algorithms\", \"allow\", \"allow\", \"allow\", \"allow\", \"allow\", \"allow\", \"analysis\", \"analysis\", \"analysis\", \"analysis\", \"analysis\", \"analysis\", \"answer\", \"answer\", \"answer\", \"answer\", \"application\", \"application\", \"application\", \"application\", \"application\", \"application\", \"apply\", \"apply\", \"apply\", \"apply\", \"apply\", \"apply\", \"approach\", \"approach\", \"approach\", \"approach\", \"approach\", \"approach\", \"architecture\", \"architecture\", \"architecture\", \"architecture\", \"architecture\", \"architecture\", \"area\", \"area\", \"area\", \"area\", \"area\", \"area\", \"artificial\", \"artificial\", \"artificial\", \"artificial\", \"artificial\", \"assign\", \"assign\", \"assign\", \"author\", \"author\", \"author\", \"author\", \"author\", \"automatic\", \"automatic\", \"automatic\", \"automatic\", \"automatic\", \"base\", \"base\", \"base\", \"base\", \"base\", \"base\", \"behavior\", \"behavior\", \"behavior\", \"behavior\", \"behavior\", \"behavior\", \"benchmark\", \"benchmark\", \"benchmark\", \"benchmark\", \"binary\", \"binary\", \"binary\", \"biodiesel\", \"biodiesel\", \"bogota\", \"bogota\", \"bogota\", \"bogota\", \"bogota\", \"business\", \"business\", \"business\", \"capacity\", \"capacity\", \"capacity\", \"capacity\", \"carbon\", \"carbon\", \"catalyst\", \"catalyst\", \"catalyst\", \"catalyst\", \"chain\", \"chain\", \"chain\", \"chain\", \"chemical\", \"chemical\", \"chemical\", \"chemical\", \"class\", \"class\", \"class\", \"class\", \"classification\", \"classification\", \"classification\", \"classification\", \"classification\", \"classification\", \"classifier\", \"classifier\", \"classifier\", \"classifier\", \"classifier\", \"cluster\", \"cluster\", \"cluster\", \"cluster\", \"cluster\", \"cluster\", \"clustering\", \"clustering\", \"code\", \"code\", \"code\", \"code\", \"code\", \"code\", \"collection\", \"collection\", \"collection\", \"collection\", \"collection\", \"collection\", \"colombian\", \"colombian\", \"colombian\", \"colombian\", \"colombian\", \"column\", \"column\", \"column\", \"column\", \"company\", \"company\", \"company\", \"complete\", \"complete\", \"complete\", \"computing\", \"computing\", \"computing\", \"computing\", \"computing\", \"computing\", \"concentration\", \"concentration\", \"concentration\", \"concentration\", \"concentration\", \"conclude\", \"conclude\", \"conclude\", \"conduct\", \"conduct\", \"conduct\", \"conduct\", \"conduct\", \"conference\", \"conference\", \"configuration\", \"configuration\", \"configuration\", \"configuration\", \"constant\", \"constant\", \"constant\", \"control\", \"control\", \"control\", \"control\", \"control\", \"control\", \"conversion\", \"conversion\", \"conversion\", \"convolutional\", \"convolutional\", \"convolutional\", \"convolutional\", \"country\", \"country\", \"country\", \"country\", \"country\", \"country\", \"creation\", \"creation\", \"cycle\", \"cycle\", \"cycle\", \"datum\", \"datum\", \"datum\", \"datum\", \"datum\", \"datum\", \"decision\", \"decision\", \"decision\", \"decision\", \"define\", \"define\", \"define\", \"define\", \"define\", \"define\", \"demand\", \"demand\", \"design\", \"design\", \"design\", \"design\", \"design\", \"design\", \"detect\", \"detect\", \"detect\", \"detect\", \"detection\", \"detection\", \"detection\", \"detection\", \"detection\", \"detection\", \"developer\", \"developer\", \"developer\", \"developer\", \"development\", \"development\", \"development\", \"development\", \"development\", \"development\", \"device\", \"device\", \"device\", \"device\", \"device\", \"device\", \"different\", \"different\", \"different\", \"different\", \"different\", \"different\", \"disease\", \"disease\", \"disease\", \"document\", \"document\", \"document\", \"document\", \"document\", \"document\", \"dynamic\", \"dynamic\", \"dynamic\", \"dynamic\", \"dynamic\", \"dynamic\", \"economic\", \"economic\", \"economic\", \"economic\", \"education\", \"education\", \"education\", \"education\", \"effective\", \"effective\", \"effective\", \"element\", \"element\", \"element\", \"element\", \"element\", \"emission\", \"emission\", \"emission\", \"emission\", \"emission\", \"emission\", \"employ\", \"employ\", \"employ\", \"encode\", \"encode\", \"encode\", \"energy\", \"energy\", \"energy\", \"energy\", \"energy\", \"energy\", \"engineer\", \"engineer\", \"engineering\", \"engineering\", \"engineering\", \"engineering\", \"engineering\", \"engineering\", \"evaluate\", \"evaluate\", \"evaluate\", \"evaluate\", \"evaluate\", \"evaluate\", \"evolutionary\", \"evolutionary\", \"evolutionary\", \"evolutionary\", \"evolutionary\", \"evolutionary\", \"experience\", \"experience\", \"experience\", \"experience\", \"extraction\", \"extraction\", \"extraction\", \"extraction\", \"extraction\", \"extraction\", \"facilitate\", \"facilitate\", \"factor\", \"factor\", \"factor\", \"factor\", \"fault\", \"fault\", \"fault\", \"fault\", \"fault\", \"fault\", \"feature\", \"feature\", \"feature\", \"feature\", \"feature\", \"feature\", \"filter\", \"flow\", \"flow\", \"flow\", \"flow\", \"flow\", \"framework\", \"framework\", \"framework\", \"framework\", \"framework\", \"framework\", \"frequency\", \"frequency\", \"frequency\", \"frequency\", \"frequency\", \"function\", \"function\", \"function\", \"function\", \"function\", \"function\", \"fuzzy\", \"fuzzy\", \"fuzzy\", \"fuzzy\", \"fuzzy\", \"fuzzy\", \"genetic\", \"genetic\", \"genetic\", \"genetic\", \"genetic\", \"genetic\", \"glycerol\", \"glycerol\", \"glycerol\", \"glycerol\", \"glycerol\", \"group\", \"group\", \"group\", \"group\", \"group\", \"group\", \"hardware\", \"hardware\", \"hardware\", \"hardware\", \"hierarchical\", \"hierarchical\", \"hierarchical\", \"high\", \"high\", \"high\", \"high\", \"high\", \"high\", \"idea\", \"idea\", \"idea\", \"ieee\", \"ieee\", \"ieee\", \"ieee\", \"ieee\", \"ieee\", \"image\", \"image\", \"image\", \"image\", \"image\", \"image\", \"immune\", \"immune\", \"immune\", \"immune\", \"implementation\", \"implementation\", \"implementation\", \"implementation\", \"implementation\", \"implementation\", \"incorporate\", \"increase\", \"increase\", \"increase\", \"increase\", \"increase\", \"increase\", \"individual\", \"individual\", \"individual\", \"individual\", \"individual\", \"information\", \"information\", \"information\", \"information\", \"information\", \"information\", \"infrastructure\", \"infrastructure\", \"infrastructure\", \"innovation\", \"innovation\", \"innovation\", \"innovation\", \"innovation\", \"input\", \"input\", \"input\", \"inspire\", \"inspire\", \"inspire\", \"inspire\", \"integration\", \"integration\", \"intelligence\", \"intelligence\", \"intelligence\", \"intend\", \"intend\", \"inventory\", \"inventory\", \"inventory\", \"kinetic\", \"kinetic\", \"kinetic\", \"knowledge\", \"knowledge\", \"knowledge\", \"knowledge\", \"knowledge\", \"knowledge\", \"last\", \"last\", \"last\", \"layer\", \"layer\", \"layer\", \"layer\", \"learn\", \"learn\", \"learn\", \"learn\", \"learn\", \"learn\", \"learning\", \"learning\", \"learning\", \"learning\", \"learning\", \"learning\", \"limitation\", \"limitation\", \"liquid\", \"liquid\", \"liquid\", \"liquid\", \"load\", \"load\", \"load\", \"location\", \"location\", \"location\", \"maintain\", \"maintain\", \"management\", \"management\", \"management\", \"management\", \"management\", \"management\", \"market\", \"market\", \"market\", \"market\", \"market\", \"mass\", \"mass\", \"mass\", \"mass\", \"measure\", \"measure\", \"measure\", \"measure\", \"measure\", \"measure\", \"measurement\", \"measurement\", \"measurement\", \"measurement\", \"measurement\", \"measurement\", \"mechanism\", \"mechanism\", \"mechanism\", \"mechanism\", \"mechanism\", \"mechanism\", \"medical\", \"medical\", \"medical\", \"medical\", \"medium\", \"medium\", \"medium\", \"medium\", \"memory\", \"memory\", \"memory\", \"method\", \"method\", \"method\", \"method\", \"method\", \"method\", \"mode\", \"mode\", \"mode\", \"model\", \"model\", \"model\", \"model\", \"model\", \"model\", \"monitoring\", \"monitoring\", \"monitoring\", \"multi\", \"multi\", \"multi\", \"multi\", \"multimodal\", \"multimodal\", \"multimodal\", \"multimodal\", \"multimodal\", \"negative\", \"negative\", \"negative\", \"network\", \"network\", \"network\", \"network\", \"network\", \"network\", \"neural\", \"neural\", \"neural\", \"neural\", \"neural\", \"neural\", \"normal\", \"normal\", \"normal\", \"number\", \"number\", \"number\", \"number\", \"number\", \"number\", \"obtain\", \"obtain\", \"obtain\", \"obtain\", \"obtain\", \"obtain\", \"operational\", \"operational\", \"operational\", \"operator\", \"operator\", \"operator\", \"optimize\", \"order\", \"order\", \"order\", \"order\", \"order\", \"order\", \"organization\", \"organization\", \"organization\", \"organization\", \"organization\", \"organizational\", \"parallel\", \"parallel\", \"parallel\", \"parallel\", \"parameter\", \"parameter\", \"parameter\", \"parameter\", \"parameter\", \"parameter\", \"patient\", \"patient\", \"patient\", \"patient\", \"pattern\", \"pattern\", \"pattern\", \"pattern\", \"pattern\", \"pattern\", \"performance\", \"performance\", \"performance\", \"performance\", \"performance\", \"performance\", \"perspective\", \"perspective\", \"perspective\", \"physical\", \"physical\", \"physical\", \"plan\", \"plan\", \"policy\", \"policy\", \"policy\", \"pollutant\", \"pollutant\", \"possibility\", \"possibility\", \"possibility\", \"precision\", \"precision\", \"present\", \"present\", \"present\", \"present\", \"present\", \"present\", \"price\", \"price\", \"price\", \"problem\", \"problem\", \"problem\", \"problem\", \"problem\", \"problem\", \"procedure\", \"procedure\", \"process\", \"process\", \"process\", \"process\", \"process\", \"process\", \"processing\", \"processing\", \"processing\", \"processing\", \"processing\", \"product\", \"product\", \"product\", \"product\", \"product\", \"product\", \"production\", \"production\", \"production\", \"production\", \"production\", \"production\", \"project\", \"project\", \"project\", \"project\", \"project\", \"project\", \"promise\", \"promote\", \"promote\", \"promote\", \"property\", \"property\", \"property\", \"property\", \"property\", \"property\", \"proposal\", \"proposal\", \"proposal\", \"proposal\", \"proposal\", \"proposal\", \"propose\", \"propose\", \"propose\", \"propose\", \"propose\", \"propose\", \"protocol\", \"protocol\", \"protocol\", \"prototype\", \"prototype\", \"prototype\", \"quality\", \"quality\", \"quality\", \"quality\", \"quality\", \"quality\", \"query\", \"query\", \"query\", \"query\", \"query\", \"question\", \"question\", \"question\", \"question\", \"random\", \"random\", \"random\", \"random\", \"reaction\", \"reaction\", \"reaction\", \"reaction\", \"reaction\", \"reaction\", \"recent\", \"recent\", \"recent\", \"reduction\", \"reduction\", \"reduction\", \"reduction\", \"regard\", \"regard\", \"regard\", \"regard\", \"region\", \"region\", \"region\", \"region\", \"region\", \"representation\", \"representation\", \"representation\", \"representation\", \"representation\", \"representation\", \"requirement\", \"requirement\", \"requirement\", \"requirement\", \"research\", \"research\", \"research\", \"research\", \"research\", \"research\", \"resolution\", \"resolution\", \"resource\", \"resource\", \"resource\", \"resource\", \"response\", \"response\", \"response\", \"result\", \"result\", \"result\", \"result\", \"result\", \"result\", \"role\", \"role\", \"role\", \"rule\", \"rule\", \"rule\", \"rule\", \"rule\", \"rule\", \"scheme\", \"scheme\", \"scheme\", \"scheme\", \"scheme\", \"security\", \"security\", \"security\", \"security\", \"selection\", \"selection\", \"selection\", \"self\", \"self\", \"self\", \"self\", \"self\", \"sense\", \"sense\", \"sense\", \"sensor\", \"sensor\", \"sensor\", \"sensor\", \"sequence\", \"sequence\", \"sequence\", \"sequence\", \"sequence\", \"series\", \"series\", \"series\", \"series\", \"service\", \"service\", \"service\", \"service\", \"service\", \"show\", \"show\", \"show\", \"show\", \"show\", \"show\", \"simple\", \"simple\", \"simple\", \"simple\", \"simple\", \"simulation\", \"simulation\", \"simulation\", \"simulation\", \"size\", \"size\", \"size\", \"size\", \"social\", \"social\", \"social\", \"social\", \"social\", \"software\", \"software\", \"software\", \"software\", \"software\", \"software\", \"solution\", \"solution\", \"solution\", \"solution\", \"solution\", \"solution\", \"source\", \"source\", \"source\", \"source\", \"source\", \"source\", \"special\", \"special\", \"speed\", \"statistical\", \"statistical\", \"strategic\", \"strategic\", \"strong\", \"strong\", \"strong\", \"structure\", \"structure\", \"structure\", \"structure\", \"structure\", \"structure\", \"study\", \"study\", \"study\", \"study\", \"study\", \"study\", \"success\", \"success\", \"success\", \"such\", \"such\", \"such\", \"such\", \"such\", \"such\", \"supply\", \"supply\", \"supply\", \"supply\", \"support\", \"support\", \"support\", \"support\", \"support\", \"support\", \"surface\", \"surface\", \"surface\", \"sustainable\", \"sustainable\", \"sustainable\", \"system\", \"system\", \"system\", \"system\", \"system\", \"system\", \"technique\", \"technique\", \"technique\", \"technique\", \"technique\", \"technique\", \"technology\", \"technology\", \"technology\", \"technology\", \"technology\", \"technology\", \"term\", \"term\", \"term\", \"term\", \"term\", \"term\", \"text\", \"text\", \"text\", \"text\", \"text\", \"text\", \"theory\", \"theory\", \"theory\", \"theory\", \"theory\", \"therefore\", \"therefore\", \"therefore\", \"therefore\", \"third\", \"third\", \"time\", \"time\", \"time\", \"time\", \"time\", \"time\", \"tool\", \"tool\", \"tool\", \"tool\", \"tool\", \"tool\", \"traffic\", \"traffic\", \"traffic\", \"traffic\", \"traffic\", \"traffic\", \"train\", \"train\", \"train\", \"train\", \"transfer\", \"transfer\", \"transfer\", \"transfer\", \"transfer\", \"type\", \"type\", \"type\", \"type\", \"type\", \"type\", \"uncertainty\", \"uncertainty\", \"uncertainty\", \"user\", \"user\", \"user\", \"user\", \"user\", \"usually\", \"usually\", \"vector\", \"vector\", \"vector\", \"vehicle\", \"vehicle\", \"vehicle\", \"vehicle\", \"visualization\", \"visualization\", \"visualization\", \"visualization\", \"volume\", \"volume\", \"volume\", \"water\", \"water\", \"water\", \"water\", \"water\", \"weight\", \"weight\", \"weight\", \"weight\", \"weight\", \"wide\", \"wide\", \"wide\", \"widely\", \"widely\", \"widely\", \"word\", \"word\", \"word\", \"word\", \"word\", \"work\", \"work\", \"work\", \"work\", \"work\", \"work\", \"year\", \"year\", \"year\", \"yield\", \"yield\"]}, \"R\": 30, \"lambda.step\": 0.01, \"plot.opts\": {\"xlab\": \"PC1\", \"ylab\": \"PC2\"}, \"topic.order\": [4, 6, 3, 5, 2, 1]};\n",
              "\n",
              "function LDAvis_load_lib(url, callback){\n",
              "  var s = document.createElement('script');\n",
              "  s.src = url;\n",
              "  s.async = true;\n",
              "  s.onreadystatechange = s.onload = callback;\n",
              "  s.onerror = function(){console.warn(\"failed to load library \" + url);};\n",
              "  document.getElementsByTagName(\"head\")[0].appendChild(s);\n",
              "}\n",
              "\n",
              "if(typeof(LDAvis) !== \"undefined\"){\n",
              "   // already loaded: just create the visualization\n",
              "   !function(LDAvis){\n",
              "       new LDAvis(\"#\" + \"ldavis_el21493140492279584576741577209\", ldavis_el21493140492279584576741577209_data);\n",
              "   }(LDAvis);\n",
              "}else if(typeof define === \"function\" && define.amd){\n",
              "   // require.js is available: use it to load d3/LDAvis\n",
              "   require.config({paths: {d3: \"https://d3js.org/d3.v5\"}});\n",
              "   require([\"d3\"], function(d3){\n",
              "      window.d3 = d3;\n",
              "      LDAvis_load_lib(\"https://cdn.jsdelivr.net/gh/bmabey/pyLDAvis@3.3.1/pyLDAvis/js/ldavis.v3.0.0.js\", function(){\n",
              "        new LDAvis(\"#\" + \"ldavis_el21493140492279584576741577209\", ldavis_el21493140492279584576741577209_data);\n",
              "      });\n",
              "    });\n",
              "}else{\n",
              "    // require.js not available: dynamically load d3 & LDAvis\n",
              "    LDAvis_load_lib(\"https://d3js.org/d3.v5.js\", function(){\n",
              "         LDAvis_load_lib(\"https://cdn.jsdelivr.net/gh/bmabey/pyLDAvis@3.3.1/pyLDAvis/js/ldavis.v3.0.0.js\", function(){\n",
              "                 new LDAvis(\"#\" + \"ldavis_el21493140492279584576741577209\", ldavis_el21493140492279584576741577209_data);\n",
              "            })\n",
              "         });\n",
              "}\n",
              "</script>"
            ]
          },
          "metadata": {},
          "execution_count": 34
        }
      ]
    },
    {
      "cell_type": "code",
      "source": [
        "datos=pd.concat([pd.DataFrame(b),pd.DataFrame(c)],axis=1)\n",
        "datos.columns=[\"Topicos\",\"Coherencia\"]"
      ],
      "metadata": {
        "id": "rDUqxJOhN6MB"
      },
      "execution_count": null,
      "outputs": []
    },
    {
      "cell_type": "code",
      "source": [
        "print(datos)"
      ],
      "metadata": {
        "colab": {
          "base_uri": "https://localhost:8080/"
        },
        "id": "TZiKmNSeM92Z",
        "outputId": "70272758-20e8-443f-b672-52b2b5dc6cfa"
      },
      "execution_count": null,
      "outputs": [
        {
          "output_type": "stream",
          "name": "stdout",
          "text": [
            "     Topicos  Coherencia\n",
            "0   0.315194           2\n",
            "1   0.298580           3\n",
            "2   0.264084           4\n",
            "3   0.290152           5\n",
            "4   0.327918           6\n",
            "5   0.280211           7\n",
            "6   0.306043           8\n",
            "7   0.299931           9\n",
            "8   0.261314          10\n",
            "9   0.283617          11\n",
            "10  0.273572          12\n",
            "11  0.263968          13\n",
            "12  0.280764          14\n",
            "13  0.283218          15\n",
            "14  0.296128          16\n",
            "15  0.291480          17\n",
            "16  0.287937          18\n",
            "17  0.293303          19\n",
            "18  0.293663          20\n",
            "19  0.307629          21\n",
            "20  0.305776          22\n",
            "21  0.294096          23\n",
            "22  0.304615          24\n",
            "23  0.301519          25\n",
            "24  0.305548          26\n",
            "25  0.311014          27\n",
            "26  0.298096          28\n",
            "27  0.318830          29\n",
            "28  0.317201          30\n",
            "29  0.291680          31\n",
            "30  0.304217          32\n",
            "31  0.315980          33\n",
            "32  0.317689          34\n"
          ]
        }
      ]
    },
    {
      "cell_type": "code",
      "source": [
        "b"
      ],
      "metadata": {
        "colab": {
          "base_uri": "https://localhost:8080/"
        },
        "id": "MnpTKji9M-qG",
        "outputId": "a9a581d4-d2ca-41e4-948e-e6a4fd21347d"
      },
      "execution_count": null,
      "outputs": [
        {
          "output_type": "execute_result",
          "data": {
            "text/plain": [
              "[0.2570165844639618,\n",
              " 0.2735871080472022,\n",
              " 0.27242459115764717,\n",
              " 0.30063781897051844,\n",
              " 0.285767938190353,\n",
              " 0.2840918367806811,\n",
              " 0.30347139279544805,\n",
              " 0.29527041552484784,\n",
              " 0.29257377615052327,\n",
              " 0.3198583079486294,\n",
              " 0.3146333007955101]"
            ]
          },
          "metadata": {},
          "execution_count": 16
        }
      ]
    },
    {
      "cell_type": "code",
      "source": [
        "# Create document word matrix\n",
        "vectorizer = CountVectorizer(analyzer='word',       \n",
        "                             min_df=10,                        # minimum reqd occurences of a word \n",
        "                             stop_words=stopwords,             # remove stop words\n",
        "                             lowercase=True,                   # convert all words to lowercase\n",
        "                             token_pattern='[a-zA-Z0-9]{3,}',  # num chars > 3\n",
        "                             max_features=50000,             # max number of uniq words\n",
        "                            )\n",
        "\n",
        "data_vectorized = vectorizer.fit_transform(data_lemmatized)\n",
        "print(data_vectorized.shape)"
      ],
      "metadata": {
        "colab": {
          "base_uri": "https://localhost:8080/"
        },
        "id": "7slHZx_yUmPp",
        "outputId": "45309e54-08e0-46de-a6b9-fa3da9321fef"
      },
      "execution_count": null,
      "outputs": [
        {
          "output_type": "stream",
          "name": "stdout",
          "text": [
            "(742, 949)\n"
          ]
        },
        {
          "output_type": "stream",
          "name": "stderr",
          "text": [
            "/usr/local/lib/python3.8/dist-packages/sklearn/feature_extraction/text.py:396: UserWarning: Your stop_words may be inconsistent with your preprocessing. Tokenizing the stop words generated tokens ['activated', 'cytokine', 'diet', 'induced', 'line', 'lisis', 'perzonalized', 'realiz', 'spin', 'strategies'] not in stop_words.\n",
            "  warnings.warn(\n"
          ]
        }
      ]
    },
    {
      "cell_type": "code",
      "source": [
        "#SPARSE DATA\n",
        "# Materialize the sparse data\n",
        "data_dense = data_vectorized.todense()\n",
        "\n",
        "# Compute Sparsicity = Percentage of Non-Zero cells\n",
        "print(\"Sparsicity: \", ((data_dense > 0).sum()/data_dense.size)*100, \"%\")"
      ],
      "metadata": {
        "colab": {
          "base_uri": "https://localhost:8080/"
        },
        "id": "zlXlaeO_UpgI",
        "outputId": "cedff45f-97d5-4056-e6f4-0a93df574889"
      },
      "execution_count": null,
      "outputs": [
        {
          "output_type": "stream",
          "name": "stdout",
          "text": [
            "Sparsicity:  4.147080626791146 %\n"
          ]
        }
      ]
    },
    {
      "cell_type": "code",
      "source": [
        "#GRID SEARCH TO FIND BEST n_components\n",
        "#TARDA 11 min maomenos\n",
        "# Define Search Param\n",
        "search_params = {'n_components': [4], \n",
        "                 'learning_decay': [0.5],\n",
        "                 'max_iter':[100],            # Max learning iterations\n",
        "                 'evaluate_every': [20],\n",
        "                 'batch_size':[128],          # n docs in each learning iter\n",
        "                 'n_jobs':[-1],               # Use all available CPUs\n",
        "                 }\n",
        "\n",
        "# Init the Model\n",
        "lda = LatentDirichletAllocation()\n",
        "\n",
        "# Init Grid Search Class\n",
        "model = GridSearchCV(estimator=lda, param_grid=search_params)\n",
        "\n",
        "# Do the Grid Search\n",
        "model.fit(data_vectorized)"
      ],
      "metadata": {
        "colab": {
          "base_uri": "https://localhost:8080/"
        },
        "id": "-ZjydpmuUt6I",
        "outputId": "7f5ec6c8-c4a5-4ede-9060-0f3a6bebe432"
      },
      "execution_count": null,
      "outputs": [
        {
          "output_type": "execute_result",
          "data": {
            "text/plain": [
              "GridSearchCV(estimator=LatentDirichletAllocation(),\n",
              "             param_grid={'batch_size': [128], 'evaluate_every': [20],\n",
              "                         'learning_decay': [0.5], 'max_iter': [100],\n",
              "                         'n_components': [4], 'n_jobs': [-1]})"
            ]
          },
          "metadata": {},
          "execution_count": 11
        }
      ]
    },
    {
      "cell_type": "code",
      "source": [
        "#GET BEST MODEL\n",
        "# Best Model\n",
        "best_lda_model = model.best_estimator_\n",
        "\n",
        "# Model Parameters\n",
        "print(\"Best Model's Params: \", model.best_params_)\n",
        "\n",
        "# Log Likelihood Score\n",
        "print(\"Best Log Likelihood Score: \", model.best_score_)\n",
        "\n",
        "# Perplexity\n",
        "print(\"Model Perplexity: \", best_lda_model.perplexity(data_vectorized))"
      ],
      "metadata": {
        "colab": {
          "base_uri": "https://localhost:8080/"
        },
        "id": "YjVz0R6gUzC4",
        "outputId": "7141a22e-a06b-46bc-d06a-8a02cc874414"
      },
      "execution_count": null,
      "outputs": [
        {
          "output_type": "stream",
          "name": "stdout",
          "text": [
            "Best Model's Params:  {'batch_size': 128, 'evaluate_every': 20, 'learning_decay': 0.5, 'max_iter': 100, 'n_components': 4, 'n_jobs': -1}\n",
            "Best Log Likelihood Score:  -62358.776883622995\n",
            "Model Perplexity:  541.551637560048\n"
          ]
        }
      ]
    }
  ]
}